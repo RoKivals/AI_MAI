{
 "cells": [
  {
   "cell_type": "markdown",
   "metadata": {},
   "source": [
    "# Машинное обучение. Введение\n",
    "При рассмотрении ИИ, было установлено два основополагающих подхода (нисходящий и восходящий), на их стыке находится машинное обучение, которое работает непосредственно с данными, и устанавливает между ними взаимосвязи.\n",
    "\n",
    "Машинное обучение извлекает знания из данных. МО может работать не только с нейронными сетями, но и с более простыми алгоритмами.\n",
    "\n",
    "Ссылки: [Весь код из примеров ниже](https://github.com/shwars/ai_course/blob/main/02-MLExpress/ExpressML.ipynb)"
   ]
  },
  {
   "cell_type": "markdown",
   "metadata": {},
   "source": [
    "## Машинное обучение и Программирование\n",
    "\n",
    "МО часто сравнивают с классическим программированием, поскольку процесс написания и построения программы чем-то похожи, только на выходе в случае программирования мы получаем какой-то абстрактный результат, а в случае МО, мы получаем программу.\n",
    "\n",
    "![Сравнение МО и программирования](https://i.imgur.com/ZEksKMx.png)\n"
   ]
  },
  {
   "cell_type": "markdown",
   "metadata": {},
   "source": [
    "## Машинное обучение.\n",
    "На картинке ниже представлены компоненты, из которых строится программа МО.\n",
    "\n",
    "![Процесс создания программы МО](https://i.imgur.com/hFeUOBD.png)\n",
    "\n",
    "Полученная программа - модель проверяется на качество обучения. Для этого используется тестовый датасет (важно, чтобы он не был включён в обучающий датасет).\n",
    "\n",
    "![Проверка модели](https://i.imgur.com/Jl8iwDV.png)"
   ]
  },
  {
   "cell_type": "markdown",
   "metadata": {},
   "source": [
    "## Машинное обучение. Инструменты статистики.\n",
    "\n",
    "Перед написанием модели, зачастую приходится проанализировать датасет, для этого можно использовать различные инструменты, от Python, до Excel.\n",
    "\n",
    "Например, в Excel для этого очень удобно использовать сводные таблицы, в Python - numpy, pandas."
   ]
  },
  {
   "cell_type": "markdown",
   "metadata": {},
   "source": [
    "## Машинное обучение. Задачи\n",
    "\n",
    "Обучение с учителем. Существует обучающая выборка, в которой есть набор параметров и ответ на интересующий нас запрос.\n",
    "Примеры:\n",
    "- Регрессия (нахождение значения на основе параметров)\n",
    "- Классификация (определение класса объекта по параметрам)\n",
    "\n",
    "\n",
    "Обучение без учителя. Обучающей выборки не существует, есть лишь представление об обработке тех или иных параметров, после чего модель при поступлении данных начнётся постепенно обучаться на них, создавая и совершенствуя правила обработки.\n",
    "\n",
    "Примеры: \n",
    "- Кластеризация (группировка похожих объектов по определённым параметрам)\n",
    "- Обучение с подкреплением (обучение на самом себе, отбрасывая неудачные попытки). Пример - обучение игре в шахматы.\n",
    "\n",
    "![Задачи МО](https://i.imgur.com/0HyDL74.png)"
   ]
  },
  {
   "cell_type": "markdown",
   "metadata": {},
   "source": [
    "## Машинное обучение. Пример предсказания стоимости билета на поезд.\n",
    "\n",
    "Рассмотрим пример машинного обучения задачи регрессии. Посмотрим, что используется в нашей обучающей выборке.\n",
    "\n",
    "X - признаки, от которых зависит искомое значение (параметры). В нашем случае расстояние, класс билета, время в пути.\n",
    "Y - искомое значение - то, что мы непосредственно хотим научиться прогнозировать. В нашем случае это стоимость билета.\n",
    "\n",
    "Признаки бывают числовыми и категориальными (те, что выражены словами).\n",
    "\n",
    "![Описание обучающей выборки](https://i.imgur.com/ehkoV9Q.png)"
   ]
  },
  {
   "cell_type": "markdown",
   "metadata": {},
   "source": [
    "Для числового признака (расстояния) можно построить график зависимости цены от расстояния. После чего провести апроксимирующую прямую (которая усредняет значения набора точек). После чего, для прогноза цены билета с любым расстоянием, можно провести линию к этой прямой и оттуда к оси цены и получить прогноз.\n",
    "\n",
    "![График одного числового признака](https://i.imgur.com/ulAAqVj.png)"
   ]
  },
  {
   "cell_type": "markdown",
   "metadata": {},
   "source": [
    "## Машинное обучение. Математика регрессии. Простейший случай\n",
    "\n",
    "Наша модель имеет линейную формулу (aX + b).\n",
    "Ошибка - расстояние (разница) между фактическим значением искомого параметра и значением, полученным с помощью апроксимации. Ошибка L(a, b) - сумма всех расстояний.\n",
    "\n",
    "Задача - подбор параметров a, b таких, что ошибка будет минимальной\n",
    "\n",
    "![Пример регрессии и ошибки на графике](https://i.imgur.com/3mCK56b.png)\n",
    "\n",
    "## Метод наименьших квадратов.\n",
    "\n",
    "Для вычисления ошибки зачастую используется метод наименьших квадратов, где высчитываются все квадраты отклонений, после чего берётся 0 производной и вычисляются параметры a, b.\n",
    "\n",
    "![Метод наименьших квадратов 1](https://i.imgur.com/KXjPyMU.png)\n",
    "\n",
    "Вычисление параметров имеет следующие формулы для одномерного и многомерного случаев:\n",
    "\n",
    "![Метод наименьших квадратов 2](https://i.imgur.com/s2n8E9E.png)"
   ]
  },
  {
   "cell_type": "markdown",
   "metadata": {},
   "source": [
    "## Машинное обучение. Практика на Python. Предсказание стоимости билета на поезд.\n",
    "\n",
    "Будем использовать датасет с информацией о билетах в Европе. В датасете присутствует расстояние между городами, точки отправки и назначения, тип вагона, тип билета, время в пути, кол-во пассажиров и т.д. На его примере разберём, как строится модель для машинного обучения и прогнозирования цены билета от нескольких факторов."
   ]
  },
  {
   "cell_type": "code",
   "execution_count": 4,
   "metadata": {},
   "outputs": [],
   "source": [
    "import numpy as np\n",
    "import pandas as pd\n",
    "import matplotlib.pyplot as plt\n",
    "import sklearn as sk\n",
    "\n",
    "import sklearn.model_selection\n",
    "import sklearn.preprocessing\n",
    "import sklearn.pipeline\n",
    "import sklearn.linear_model\n",
    "import sklearn.compose\n",
    "import sklearn.tree\n",
    "import sklearn.datasets"
   ]
  },
  {
   "cell_type": "code",
   "execution_count": 2,
   "metadata": {},
   "outputs": [],
   "source": [
    "df = pd.read_csv(\"./data/renfe-rail-sample.zip\", compression='zip')"
   ]
  },
  {
   "cell_type": "markdown",
   "metadata": {},
   "source": [
    "Разобьём датасет на обучающую и тестовую выборку. `train_size` отвечает за процент данных для обучающей выборки от всего датасета."
   ]
  },
  {
   "cell_type": "code",
   "execution_count": 3,
   "metadata": {},
   "outputs": [],
   "source": [
    "df_train, df_test = sk.model_selection.train_test_split(df, train_size=0.8)"
   ]
  },
  {
   "cell_type": "markdown",
   "metadata": {},
   "source": [
    "Начнём прогнозирование одного параметра (расстояния). Изобразим график:"
   ]
  },
  {
   "cell_type": "code",
   "execution_count": 4,
   "metadata": {},
   "outputs": [
    {
     "data": {
      "image/png": "[encoded data removed]",
      "text/plain": [
       "<Figure size 640x480 with 1 Axes>"
      ]
     },
     "metadata": {},
     "output_type": "display_data"
    }
   ],
   "source": [
    "X = df_train[\"geodistance\"]\n",
    "Y = df_train[\"price\"]\n",
    "\n",
    "plt.scatter(X, Y)\n",
    "plt.show()"
   ]
  },
  {
   "cell_type": "markdown",
   "metadata": {},
   "source": [
    "Для нахождения коэффицентов `a`, `b` используем метод наименьших квадратов (см. выше)."
   ]
  },
  {
   "cell_type": "code",
   "execution_count": 5,
   "metadata": {},
   "outputs": [
    {
     "name": "stdout",
     "output_type": "stream",
     "text": [
      "a=0.1511793965741659, b=-0.0006902390437831698\n"
     ]
    }
   ],
   "source": [
    "n = len(X)\n",
    "a = (X.sum()*Y.sum()-n*(X*Y).sum())/(X.sum()*X.sum()-n*(X*X).sum())\n",
    "b = (Y.sum()*(X*X).sum()-X.sum()*(X*Y).sum())/(X*X).sum()/(n-X.sum())\n",
    "print(f\"a={a}, b={b}\")"
   ]
  },
  {
   "cell_type": "markdown",
   "metadata": {},
   "source": [
    "Построение апроксимирующей прямой для одного называется линейной регрессией. Для большего кол-ва параметров, используются многомерные апроксимирующие плоскости (их вычисление так же было приведено выше).\n",
    "\n",
    "Построим её на предыдущем графике:"
   ]
  },
  {
   "cell_type": "code",
   "execution_count": 6,
   "metadata": {},
   "outputs": [
    {
     "data": {
      "image/png": "[encoded data removed]",
      "text/plain": [
       "<Figure size 640x480 with 1 Axes>"
      ]
     },
     "metadata": {},
     "output_type": "display_data"
    }
   ],
   "source": [
    "plt.scatter(X,Y)\n",
    "lX = [X.min(),X.max()]\n",
    "lY = [a*x+b for x in lX]\n",
    "plt.plot(lX,lY,c='red')\n",
    "plt.show()"
   ]
  },
  {
   "cell_type": "markdown",
   "metadata": {},
   "source": [
    "## Подсчёт ошибки.\n",
    "\n",
    "Будем высчитывать ошибку на тестовой выборке. Для этого существуют следующие алгоритмы:\n",
    "- Среднеквадратичное отклонение (MSE)\n",
    "- Средняя (абсолютная) ошибка (MAE)\n",
    "- Относительная средняя ошибка. Показатель ошибки в процентах относительно среднего значения целевой величины.\n",
    "\n",
    "![Ошибки на тестовой выборке](https://i.imgur.com/EzeEKJm.png)"
   ]
  },
  {
   "cell_type": "code",
   "execution_count": 7,
   "metadata": {},
   "outputs": [
    {
     "name": "stdout",
     "output_type": "stream",
     "text": [
      "MSE=16.316546006214708, MAE=13.623757979934254, MAE(%)=0.2855481048973679\n"
     ]
    }
   ],
   "source": [
    "X_t, Y_t = df_test[\"geodistance\"], df_test[\"price\"]\n",
    "\n",
    "def MSE(x,y):\n",
    "    return np.mean(np.square(x-y)) \n",
    "\n",
    "def MAE(x,y):\n",
    "    return np.mean(np.abs(x-y))\n",
    "\n",
    "print(f\"MSE={np.sqrt(MSE(a*X_t+b,Y_t))}, MAE={MAE(a*X_t+b,Y_t)}, MAE(%)={MAE(a*X_t+b,Y_t)/Y_t.mean()}\")"
   ]
  },
  {
   "cell_type": "markdown",
   "metadata": {},
   "source": [
    "## Оптимизация обучения модели. Метод градиентного спуска\n",
    "\n",
    "Среднее квадратичное отлично работает для малых и средних размерностей. Но если размерность большая или функция ошибки является сложной, то прибегают к оптмизационным численным способам нахождения параметров `a`, `b`.\n",
    "\n",
    "Численный метод зависит от обучающего датасета и некого параметра Тэта. После чего вычисляем предсказание, зависящее от параметров и Тэта, вычисляем ошибку и подбираем Тэта так, чтобы минимизировать ошибку.\n",
    "\n",
    "По сути, это численная задача нахождения экстремума функции ошибки (минимума), у этой задачи есть множество алгоритмов решений, рассмотрим метод градиентного спуска.\n",
    "\n",
    "![Минимизация ошибки](https://i.imgur.com/siDIhNj.png)\n",
    "\n",
    "![Метод градиентного спуска](https://i.imgur.com/zZIztIr.png)\n",
    "\n",
    "P.S. Значение шага Тета необходимо подбирать опытным путём, пока ошибка не станет уменьшаться."
   ]
  },
  {
   "cell_type": "code",
   "execution_count": 8,
   "metadata": {},
   "outputs": [
    {
     "name": "stdout",
     "output_type": "stream",
     "text": [
      "Epoch 0: MSE=364910.1781544729\n",
      "Epoch 1: MSE=89543.98664645028\n",
      "Epoch 2: MSE=22122.626532038594\n",
      "Epoch 3: MSE=5615.008894385839\n",
      "Epoch 4: MSE=1573.2417210950957\n",
      "Epoch 5: MSE=583.645145374762\n",
      "Epoch 6: MSE=341.3497973809746\n",
      "Epoch 7: MSE=282.0255865202662\n",
      "Epoch 8: MSE=267.5004951867942\n",
      "Epoch 9: MSE=263.94413445128515\n"
     ]
    }
   ],
   "source": [
    "a,b = np.random.normal(size=2)\n",
    "eta = 0.000005\n",
    "for i in range(10):\n",
    "    print(f\"Epoch {i}: MSE={MSE(a*X+b,Y)}\")\n",
    "    # print(f\"a={a},b={b}\")\n",
    "    a,b = a-eta*((a*X+b-Y)*X).mean(), b-eta*(a*X+b-Y).mean()"
   ]
  },
  {
   "cell_type": "markdown",
   "metadata": {},
   "source": [
    "Выведем прямую из коэффицентов, полученных методом градиентного спуска."
   ]
  },
  {
   "cell_type": "code",
   "execution_count": 9,
   "metadata": {},
   "outputs": [
    {
     "data": {
      "image/png": "[encoded data removed]",
      "text/plain": [
       "<Figure size 640x480 with 1 Axes>"
      ]
     },
     "metadata": {},
     "output_type": "display_data"
    }
   ],
   "source": [
    "plt.scatter(X,Y)\n",
    "lX = [X.min(),X.max()]\n",
    "lY = [a*x+b for x in lX]\n",
    "plt.plot(lX,lY,c='red')\n",
    "plt.show()"
   ]
  },
  {
   "cell_type": "markdown",
   "metadata": {},
   "source": [
    "Добавим ещё численных параметров.\n",
    "\n",
    "Используем векторное уможение, в качестве коэффицента a используется массив коэффицентов."
   ]
  },
  {
   "cell_type": "code",
   "execution_count": 10,
   "metadata": {},
   "outputs": [
    {
     "name": "stdout",
     "output_type": "stream",
     "text": [
      "Epoch 0: MSE=402.3253921455048\n",
      "Epoch 1: MSE=330.31172071827183\n",
      "Epoch 2: MSE=312.7249231927709\n",
      "Epoch 3: MSE=308.4199931851412\n",
      "Epoch 4: MSE=307.3562601454404\n",
      "Epoch 5: MSE=307.0834859033533\n",
      "Epoch 6: MSE=307.0037355821443\n",
      "Epoch 7: MSE=306.9710943376404\n",
      "Epoch 8: MSE=306.94995437449086\n",
      "Epoch 9: MSE=306.93162627295686\n"
     ]
    }
   ],
   "source": [
    "X = df_train[[\"geodistance\",\"duration\",\"departure_hour\"]]\n",
    "X_t = df_test[[\"geodistance\",\"duration\",\"departure_hour\"]]\n",
    "\n",
    "*a, b = np.random.normal(size=4)\n",
    "a = np.array(a)\n",
    "eta = 0.000005\n",
    "for i in range(10):\n",
    "    print(f\"Epoch {i}: MSE={MSE(X@a+b,Y)}\")\n",
    "    # print(f\"a={a},b={b}\")\n",
    "    a,b = a-eta*((X@a+b-Y)*X.T).mean(axis=1), b-eta*(X@a+b-Y).mean()"
   ]
  },
  {
   "cell_type": "code",
   "execution_count": 11,
   "metadata": {},
   "outputs": [
    {
     "data": {
      "text/plain": [
       "(geodistance       0.181282\n",
       " duration          0.439180\n",
       " departure_hour   -0.676583\n",
       " dtype: float64,\n",
       " -0.20520480752062495)"
      ]
     },
     "execution_count": 11,
     "metadata": {},
     "output_type": "execute_result"
    }
   ],
   "source": [
    "a, b"
   ]
  },
  {
   "cell_type": "markdown",
   "metadata": {},
   "source": [
    "Средняя абсолютная ошибка:"
   ]
  },
  {
   "cell_type": "code",
   "execution_count": 12,
   "metadata": {},
   "outputs": [
    {
     "data": {
      "text/plain": [
       "14.839148434794359"
      ]
     },
     "execution_count": 12,
     "metadata": {},
     "output_type": "execute_result"
    }
   ],
   "source": [
    "np.mean(np.abs(X_t@a + b - Y_t))"
   ]
  },
  {
   "cell_type": "markdown",
   "metadata": {},
   "source": [
    "## Машинное обучение. Признаки.\n",
    "\n",
    "Рассмотрим, какие признаки бывают:\n",
    "\n",
    "Числовые:\n",
    "- Непрерывные (возраст, рост). С таким типом мы только что работали.\n",
    "- Дискретные (количество детей)\n",
    "\n",
    "Категориальные:\n",
    "- Порядковые (оценка). Такой признак можно интерпретировать, как числовой, совершив подмену признака на цифру по возрастанию.\n",
    "- Номинальные (цвет, класс)\n",
    "\n",
    "Преобразование признаков к числовым:\n",
    "![Преоборазование признаков к числовым](https://i.imgur.com/6Wy7T0H.png)\n",
    "\n",
    "One-Hot Encoding - запись признака вектором значений, в котором один из элементов единица, а все остальные - нули. 4\n",
    "Например, имеем красный цвет, всего дано 6 цветов, получим вектор, из 5 нулей и единичкой в индексе, который отвечает за красный цвет.\n",
    "\n",
    "P.s. Пример с цветов является показательным, но не совсем верным, для цвета чаще всего используется приведение к RGB формату.\n",
    "\n",
    "\n",
    "Бывают задачи, когда необходимо перейти от числовых признаков к категориальным. В таком случае непрерывные величины подвергаются дискретизации - определённые интервалы значений формируют группы (категории), их число должно быть конечно. Например, для возраста будут использоваться возрастные категории (молодой, старый и т.д.) "
   ]
  },
  {
   "cell_type": "markdown",
   "metadata": {},
   "source": [
    "## Категориальные признаки. Практический пример.\n",
    "\n",
    "Изучим типы билетов:"
   ]
  },
  {
   "cell_type": "code",
   "execution_count": 13,
   "metadata": {},
   "outputs": [
    {
     "data": {
      "text/plain": [
       "fare\n",
       "Promo +       566980\n",
       "Flexible      422474\n",
       "Adulto ida    257222\n",
       "Name: count, dtype: int64"
      ]
     },
     "execution_count": 13,
     "metadata": {},
     "output_type": "execute_result"
    }
   ],
   "source": [
    "df[\"fare\"].value_counts()"
   ]
  },
  {
   "cell_type": "markdown",
   "metadata": {},
   "source": [
    "Отобразим среднюю цену по тарифу:"
   ]
  },
  {
   "cell_type": "code",
   "execution_count": 14,
   "metadata": {},
   "outputs": [
    {
     "data": {
      "text/plain": [
       "<Axes: xlabel='fare'>"
      ]
     },
     "execution_count": 14,
     "metadata": {},
     "output_type": "execute_result"
    },
    {
     "data": {
      "image/png": "[encoded data removed]",
      "text/plain": [
       "<Figure size 640x480 with 1 Axes>"
      ]
     },
     "metadata": {},
     "output_type": "display_data"
    }
   ],
   "source": [
    "df.groupby(\"fare\").mean(numeric_only=True)['price'].plot(kind='bar')"
   ]
  },
  {
   "cell_type": "markdown",
   "metadata": {},
   "source": [
    "По информации из графика, можно сказать, что признак можно интерпретировать, как порядковый, так и номинальный, такой параметр можно представить с помощью:\n",
    "- One-Hot Encoding.\n",
    "- Label Encoding (приводит уникальные значения к соответсвующим численным значениям). Используется для порядковых.\n",
    "\n",
    "P.S. (Другие варианты кодирования символьных признаков)[https://habr.com/ru/articles/666234/]"
   ]
  },
  {
   "cell_type": "markdown",
   "metadata": {},
   "source": [
    "Используем One-Hot Encoding. В Pandas для этого существует специальная функция `get_dummies`."
   ]
  },
  {
   "cell_type": "code",
   "execution_count": 15,
   "metadata": {},
   "outputs": [
    {
     "data": {
      "text/html": [
       "<div>\n",
       "<style scoped>\n",
       "    .dataframe tbody tr th:only-of-type {\n",
       "        vertical-align: middle;\n",
       "    }\n",
       "\n",
       "    .dataframe tbody tr th {\n",
       "        vertical-align: top;\n",
       "    }\n",
       "\n",
       "    .dataframe thead th {\n",
       "        text-align: right;\n",
       "    }\n",
       "</style>\n",
       "<table border=\"1\" class=\"dataframe\">\n",
       "  <thead>\n",
       "    <tr style=\"text-align: right;\">\n",
       "      <th></th>\n",
       "      <th>Adulto ida</th>\n",
       "      <th>Flexible</th>\n",
       "      <th>Promo +</th>\n",
       "    </tr>\n",
       "  </thead>\n",
       "  <tbody>\n",
       "    <tr>\n",
       "      <th>0</th>\n",
       "      <td>False</td>\n",
       "      <td>True</td>\n",
       "      <td>False</td>\n",
       "    </tr>\n",
       "    <tr>\n",
       "      <th>1</th>\n",
       "      <td>False</td>\n",
       "      <td>False</td>\n",
       "      <td>True</td>\n",
       "    </tr>\n",
       "    <tr>\n",
       "      <th>2</th>\n",
       "      <td>False</td>\n",
       "      <td>True</td>\n",
       "      <td>False</td>\n",
       "    </tr>\n",
       "    <tr>\n",
       "      <th>3</th>\n",
       "      <td>False</td>\n",
       "      <td>True</td>\n",
       "      <td>False</td>\n",
       "    </tr>\n",
       "    <tr>\n",
       "      <th>4</th>\n",
       "      <td>False</td>\n",
       "      <td>True</td>\n",
       "      <td>False</td>\n",
       "    </tr>\n",
       "    <tr>\n",
       "      <th>...</th>\n",
       "      <td>...</td>\n",
       "      <td>...</td>\n",
       "      <td>...</td>\n",
       "    </tr>\n",
       "    <tr>\n",
       "      <th>1246671</th>\n",
       "      <td>False</td>\n",
       "      <td>False</td>\n",
       "      <td>True</td>\n",
       "    </tr>\n",
       "    <tr>\n",
       "      <th>1246672</th>\n",
       "      <td>False</td>\n",
       "      <td>True</td>\n",
       "      <td>False</td>\n",
       "    </tr>\n",
       "    <tr>\n",
       "      <th>1246673</th>\n",
       "      <td>False</td>\n",
       "      <td>True</td>\n",
       "      <td>False</td>\n",
       "    </tr>\n",
       "    <tr>\n",
       "      <th>1246674</th>\n",
       "      <td>False</td>\n",
       "      <td>True</td>\n",
       "      <td>False</td>\n",
       "    </tr>\n",
       "    <tr>\n",
       "      <th>1246675</th>\n",
       "      <td>False</td>\n",
       "      <td>False</td>\n",
       "      <td>True</td>\n",
       "    </tr>\n",
       "  </tbody>\n",
       "</table>\n",
       "<p>1246676 rows × 3 columns</p>\n",
       "</div>"
      ],
      "text/plain": [
       "         Adulto ida  Flexible  Promo +\n",
       "0             False      True    False\n",
       "1             False     False     True\n",
       "2             False      True    False\n",
       "3             False      True    False\n",
       "4             False      True    False\n",
       "...             ...       ...      ...\n",
       "1246671       False     False     True\n",
       "1246672       False      True    False\n",
       "1246673       False      True    False\n",
       "1246674       False      True    False\n",
       "1246675       False     False     True\n",
       "\n",
       "[1246676 rows x 3 columns]"
      ]
     },
     "execution_count": 15,
     "metadata": {},
     "output_type": "execute_result"
    }
   ],
   "source": [
    "pd.get_dummies(df['fare'])"
   ]
  },
  {
   "cell_type": "markdown",
   "metadata": {},
   "source": [
    "Добавим в таблицу признаков кодирование тарифа с помощью One-Hot Encoding и проведём привычный нам поиск коэффицентов и ошибки:"
   ]
  },
  {
   "cell_type": "code",
   "execution_count": 16,
   "metadata": {},
   "outputs": [
    {
     "data": {
      "text/html": [
       "<div>\n",
       "<style scoped>\n",
       "    .dataframe tbody tr th:only-of-type {\n",
       "        vertical-align: middle;\n",
       "    }\n",
       "\n",
       "    .dataframe tbody tr th {\n",
       "        vertical-align: top;\n",
       "    }\n",
       "\n",
       "    .dataframe thead th {\n",
       "        text-align: right;\n",
       "    }\n",
       "</style>\n",
       "<table border=\"1\" class=\"dataframe\">\n",
       "  <thead>\n",
       "    <tr style=\"text-align: right;\">\n",
       "      <th></th>\n",
       "      <th>geodistance</th>\n",
       "      <th>fare_Adulto ida</th>\n",
       "      <th>fare_Promo +</th>\n",
       "      <th>fare_Flexible</th>\n",
       "    </tr>\n",
       "  </thead>\n",
       "  <tbody>\n",
       "    <tr>\n",
       "      <th>61267</th>\n",
       "      <td>303.573264</td>\n",
       "      <td>False</td>\n",
       "      <td>True</td>\n",
       "      <td>False</td>\n",
       "    </tr>\n",
       "    <tr>\n",
       "      <th>1140407</th>\n",
       "      <td>274.364753</td>\n",
       "      <td>False</td>\n",
       "      <td>True</td>\n",
       "      <td>False</td>\n",
       "    </tr>\n",
       "    <tr>\n",
       "      <th>574753</th>\n",
       "      <td>296.103026</td>\n",
       "      <td>False</td>\n",
       "      <td>True</td>\n",
       "      <td>False</td>\n",
       "    </tr>\n",
       "    <tr>\n",
       "      <th>862735</th>\n",
       "      <td>506.741151</td>\n",
       "      <td>False</td>\n",
       "      <td>True</td>\n",
       "      <td>False</td>\n",
       "    </tr>\n",
       "    <tr>\n",
       "      <th>87792</th>\n",
       "      <td>506.741151</td>\n",
       "      <td>False</td>\n",
       "      <td>True</td>\n",
       "      <td>False</td>\n",
       "    </tr>\n",
       "    <tr>\n",
       "      <th>...</th>\n",
       "      <td>...</td>\n",
       "      <td>...</td>\n",
       "      <td>...</td>\n",
       "      <td>...</td>\n",
       "    </tr>\n",
       "    <tr>\n",
       "      <th>341984</th>\n",
       "      <td>256.506445</td>\n",
       "      <td>False</td>\n",
       "      <td>False</td>\n",
       "      <td>True</td>\n",
       "    </tr>\n",
       "    <tr>\n",
       "      <th>355653</th>\n",
       "      <td>389.790764</td>\n",
       "      <td>False</td>\n",
       "      <td>True</td>\n",
       "      <td>False</td>\n",
       "    </tr>\n",
       "    <tr>\n",
       "      <th>554107</th>\n",
       "      <td>296.103026</td>\n",
       "      <td>False</td>\n",
       "      <td>True</td>\n",
       "      <td>False</td>\n",
       "    </tr>\n",
       "    <tr>\n",
       "      <th>90738</th>\n",
       "      <td>303.573264</td>\n",
       "      <td>False</td>\n",
       "      <td>True</td>\n",
       "      <td>False</td>\n",
       "    </tr>\n",
       "    <tr>\n",
       "      <th>386623</th>\n",
       "      <td>296.103026</td>\n",
       "      <td>False</td>\n",
       "      <td>False</td>\n",
       "      <td>True</td>\n",
       "    </tr>\n",
       "  </tbody>\n",
       "</table>\n",
       "<p>997340 rows × 4 columns</p>\n",
       "</div>"
      ],
      "text/plain": [
       "         geodistance  fare_Adulto ida  fare_Promo +  fare_Flexible\n",
       "61267     303.573264            False          True          False\n",
       "1140407   274.364753            False          True          False\n",
       "574753    296.103026            False          True          False\n",
       "862735    506.741151            False          True          False\n",
       "87792     506.741151            False          True          False\n",
       "...              ...              ...           ...            ...\n",
       "341984    256.506445            False         False           True\n",
       "355653    389.790764            False          True          False\n",
       "554107    296.103026            False          True          False\n",
       "90738     303.573264            False          True          False\n",
       "386623    296.103026            False         False           True\n",
       "\n",
       "[997340 rows x 4 columns]"
      ]
     },
     "execution_count": 16,
     "metadata": {},
     "output_type": "execute_result"
    }
   ],
   "source": [
    "X = pd.get_dummies(df_train,columns=[\"fare\"])[['geodistance','fare_Adulto ida','fare_Promo +','fare_Flexible']]\n",
    "X"
   ]
  },
  {
   "cell_type": "code",
   "execution_count": 17,
   "metadata": {},
   "outputs": [
    {
     "name": "stdout",
     "output_type": "stream",
     "text": [
      "Epoch 0: MSE=16756.301692616053\n",
      "Epoch 1: MSE=4286.782772972521\n",
      "Epoch 2: MSE=1233.7355387843004\n",
      "Epoch 3: MSE=486.22472157464074\n",
      "Epoch 4: MSE=303.2032744568939\n",
      "Epoch 5: MSE=258.39185368956714\n",
      "Epoch 6: MSE=247.4198857019511\n",
      "Epoch 7: MSE=244.73319624941462\n",
      "Epoch 8: MSE=244.07508098356755\n",
      "Epoch 9: MSE=243.91364343619472\n",
      "Epoch 10: MSE=243.87381285746136\n",
      "Epoch 11: MSE=243.8637566270492\n",
      "Epoch 12: MSE=243.86099037307872\n",
      "Epoch 13: MSE=243.86000900397948\n",
      "Epoch 14: MSE=243.85946464879487\n",
      "Epoch 15: MSE=243.85902729282057\n",
      "Epoch 16: MSE=243.85861613588878\n",
      "Epoch 17: MSE=243.85821139561432\n",
      "Epoch 18: MSE=243.85780822707488\n",
      "Epoch 19: MSE=243.85740544443343\n"
     ]
    }
   ],
   "source": [
    "*a, b = np.random.normal(size=5)\n",
    "a = np.array(a)\n",
    "eta = 0.000005\n",
    "for i in range(20):\n",
    "    print(f\"Epoch {i}: MSE={MSE(X@a+b,Y)}\")\n",
    "    # print(f\"a={a},b={b}\")\n",
    "    a,b = a-eta*((X@a+b-Y)*X.T).mean(axis=1), b-eta*(X@a+b-Y).mean()"
   ]
  },
  {
   "cell_type": "markdown",
   "metadata": {},
   "source": [
    "Изучив коэффицент `a`, можно узнать, как влияют на цену те или иные признаки. Из-за этого модель называется интерпретируемой."
   ]
  },
  {
   "cell_type": "code",
   "execution_count": 18,
   "metadata": {},
   "outputs": [
    {
     "data": {
      "text/plain": [
       "geodistance        0.156694\n",
       "fare_Adulto ida    0.988906\n",
       "fare_Promo +      -2.233094\n",
       "fare_Flexible      0.395629\n",
       "dtype: object"
      ]
     },
     "execution_count": 18,
     "metadata": {},
     "output_type": "execute_result"
    }
   ],
   "source": [
    "a"
   ]
  },
  {
   "cell_type": "markdown",
   "metadata": {},
   "source": [
    "## Машинное обучение. Scikit learn.\n",
    "\n",
    "Библиотека SciKit learn является стандартом для работы в машинном обучении, в ней реализовано огромное количество алгоритмов, необходимых для работы с данными, а так же для обучения моделей. Выше был разобран метод градиентного спуска, однако на практике никто не реализует его с нуля или другие классические алгоритмы математики, для этого и создан данный пакет.\n",
    "\n",
    "Рассмотрим, как работает SciKit Learn:"
   ]
  },
  {
   "cell_type": "markdown",
   "metadata": {},
   "source": [
    "Для начала выделим численные и категориальные признаки:"
   ]
  },
  {
   "cell_type": "code",
   "execution_count": 19,
   "metadata": {},
   "outputs": [],
   "source": [
    "numeric = ['geodistance', 'duration', 'departure_hour']\n",
    "categorial = ['vehicle_type', 'vehicle_class', 'fare']"
   ]
  },
  {
   "cell_type": "markdown",
   "metadata": {},
   "source": [
    "Обучим модель на численных признаках:"
   ]
  },
  {
   "cell_type": "code",
   "execution_count": 20,
   "metadata": {},
   "outputs": [],
   "source": [
    "X = df_train[numeric]\n",
    "\n",
    "model = sk.linear_model.LinearRegression()\n",
    "model = model.fit(X, Y)"
   ]
  },
  {
   "cell_type": "markdown",
   "metadata": {},
   "source": [
    "Самый важный метод, который отвечает за обучение - `fit`. Он подбирает наиболее оптимальные коэффиценты, дабы минимизировать ошибку - всё то, что мы делали ручками выше.\n",
    "\n",
    "В SciKit Learn также реализованы различные методы вычисления ошибок, для примера вычислим точность на тестовой выборке:"
   ]
  },
  {
   "cell_type": "code",
   "execution_count": 21,
   "metadata": {},
   "outputs": [
    {
     "name": "stdout",
     "output_type": "stream",
     "text": [
      "MSE=224.23609854169524, MAE=11.966574552623655, MAE(%)=0.289395440336957\n"
     ]
    }
   ],
   "source": [
    "X_t = df_test[numeric]\n",
    "Y_t_pred = model.predict(X_t)\n",
    "\n",
    "print(f\"MSE={sk.metrics.mean_squared_error(Y_t, Y_t_pred)}, \\\n",
    "MAE={sk.metrics.mean_absolute_error(Y_t,Y_t_pred)}, \\\n",
    "MAE(%)={sk.metrics.mean_absolute_percentage_error(Y_t,Y_t_pred)}\")"
   ]
  },
  {
   "cell_type": "markdown",
   "metadata": {},
   "source": [
    "Ошибки в пакете SciKil Learn:\n",
    "- mean_squared_error - средняя квадратичная ошибка\n",
    "- mean_absolute_error - средняя абсолютная ошибка\n",
    "- mean_absolute_percentage_error - абсолютная процентная ошибка"
   ]
  },
  {
   "cell_type": "markdown",
   "metadata": {},
   "source": [
    "Коэффиценты, вычисленные моделью:\n",
    "- coef_ - a\n",
    "- intercept_ - b"
   ]
  },
  {
   "cell_type": "code",
   "execution_count": 22,
   "metadata": {},
   "outputs": [
    {
     "name": "stdout",
     "output_type": "stream",
     "text": [
      "Coefficients=[ 0.17552256 -3.96977458  0.20040736] intercept=2.070485823052657\n"
     ]
    }
   ],
   "source": [
    "print(f\"Coefficients={model.coef_} intercept={model.intercept_}\")"
   ]
  },
  {
   "cell_type": "markdown",
   "metadata": {},
   "source": [
    "Для кодирования признаков можно использовать объекты пакета SciKit Learn, они называются `*Encoder`. \n",
    "Для определения значений признаков используется `fit`. \n",
    "Для вывода информации о полученных значениях используется `categories_`.\n",
    "Чтобы закодировать набор данных используется `transform`.\n",
    "\n",
    "Пример использования энкодера:"
   ]
  },
  {
   "cell_type": "code",
   "execution_count": 23,
   "metadata": {},
   "outputs": [
    {
     "name": "stdout",
     "output_type": "stream",
     "text": [
      "[array(['Adulto ida', 'Flexible', 'Promo +'], dtype=object), array(['Turista', 'Turista Plus', 'Turista con enlace'], dtype=object)]\n"
     ]
    },
    {
     "data": {
      "text/plain": [
       "array([[0., 1., 0., 1., 0., 0.],\n",
       "       [0., 0., 1., 0., 1., 0.],\n",
       "       [0., 1., 0., 1., 0., 0.],\n",
       "       [0., 1., 0., 1., 0., 0.],\n",
       "       [0., 1., 0., 1., 0., 0.],\n",
       "       [0., 0., 1., 1., 0., 0.],\n",
       "       [0., 1., 0., 1., 0., 0.],\n",
       "       [0., 1., 0., 1., 0., 0.],\n",
       "       [0., 0., 1., 1., 0., 0.],\n",
       "       [0., 0., 1., 1., 0., 0.]])"
      ]
     },
     "execution_count": 23,
     "metadata": {},
     "output_type": "execute_result"
    }
   ],
   "source": [
    "ohe = sk.preprocessing.OneHotEncoder()\n",
    "ohe.fit(df[['fare', 'vehicle_class']])\n",
    "print(ohe.categories_)\n",
    "ohe.transform(df[['fare', 'vehicle_class']]).toarray()[:10]"
   ]
  },
  {
   "cell_type": "markdown",
   "metadata": {},
   "source": [
    "Чтобы упростить работу с разными типами признаков, можно использовать механизм трансформеров:"
   ]
  },
  {
   "cell_type": "code",
   "execution_count": 24,
   "metadata": {},
   "outputs": [
    {
     "data": {
      "text/plain": [
       "array([[  0.        ,   0.        ,   1.        ,   0.        ,\n",
       "          0.        ,   1.        ,   0.        ,   0.        ,\n",
       "          0.        ,   0.        ,   0.        ,   0.        ,\n",
       "          0.        ,   0.        ,   0.        ,   0.        ,\n",
       "          0.        ,   0.        ,   1.        ,   0.        ,\n",
       "          0.        , 303.57326384,   1.73      ,   9.        ],\n",
       "       [  0.        ,   0.        ,   1.        ,   0.        ,\n",
       "          0.        ,   0.        ,   0.        ,   0.        ,\n",
       "          0.        ,   0.        ,   0.        ,   0.        ,\n",
       "          0.        ,   0.        ,   1.        ,   0.        ,\n",
       "          0.        ,   0.        ,   0.        ,   0.        ,\n",
       "          1.        , 274.36475269,   8.05      ,   6.        ]])"
      ]
     },
     "execution_count": 24,
     "metadata": {},
     "output_type": "execute_result"
    }
   ],
   "source": [
    "transformer = sk.compose.make_column_transformer(\n",
    "    (sk.preprocessing.OneHotEncoder(), ['fare']), \n",
    "    (sk.preprocessing.OneHotEncoder(), ['vehicle_type']),\n",
    "    (sk.preprocessing.OneHotEncoder(), ['vehicle_class']),\n",
    "    remainder='passthrough'\n",
    ")\n",
    "\n",
    "X = transformer.fit_transform(df_train[numeric + categorial])\n",
    "\n",
    "X.toarray()[:2]"
   ]
  },
  {
   "cell_type": "markdown",
   "metadata": {},
   "source": [
    "Таким образом были получены обработанные входные данные, котрые можно использовать для обучения модели:"
   ]
  },
  {
   "cell_type": "code",
   "execution_count": 25,
   "metadata": {},
   "outputs": [
    {
     "name": "stdout",
     "output_type": "stream",
     "text": [
      "MSE=74.97348836491678, MAE=6.026537585393923, MAE(%)=0.1398968195033901\n"
     ]
    }
   ],
   "source": [
    "model = sk.linear_model.LinearRegression()\n",
    "model.fit(X,Y)\n",
    "X_t = transformer.transform(df_test[numeric + categorial])\n",
    "Y_t_pred = model.predict(X_t)\n",
    "\n",
    "print(f\"MSE={sk.metrics.mean_squared_error(Y_t, Y_t_pred)}, \\\n",
    "MAE={sk.metrics.mean_absolute_error(Y_t,Y_t_pred)}, \\\n",
    "MAE(%)={sk.metrics.mean_absolute_percentage_error(Y_t,Y_t_pred)}\")"
   ]
  },
  {
   "cell_type": "markdown",
   "metadata": {},
   "source": [
    "Теперь, когда для обучения использовались все возможные признаки, точность предсказания кратно увеличилась. Однако остаётся ещё один способ увеличить точность прогнозирования - нормализация данных обучающей выборки.\n",
    "\n",
    "## Нормализация значений.\n",
    "\n",
    "Нормализация значений - масштабирование значений всех признаков к единому интервалу, поскольку OneHot Encoding использует интервал от 0 до 1, то имеет смысл подогнать все значения к этому интервалу.\n",
    "\n",
    "Так же часто используются интервалы [-1; 1] или нормальное распределение с центром в 0.\n",
    "\n",
    "В Sklearn для этого существуют два вида нормализации (используются внутри трансформера):\n",
    "- `MinMaxScaler` - преобразует значения к диапазону 0-1 линейным способом\n",
    "- `MaxAbsScaler` - масштабирует максимальное абсолютное значение до размера единицы\n",
    "- `StandartScaler` - вычитает среднее и делит на дисперсию (нормально распределение)\n",
    "\n",
    "\n",
    "Применим их на практике:"
   ]
  },
  {
   "cell_type": "code",
   "execution_count": 26,
   "metadata": {},
   "outputs": [
    {
     "data": {
      "text/plain": [
       "array([[ 0.0166545 , -0.48685248, -0.96691618,  0.        ,  0.        ,\n",
       "         1.        ,  0.        ,  0.        ,  1.        ,  0.        ,\n",
       "         0.        ,  0.        ,  0.        ,  0.        ,  0.        ,\n",
       "         0.        ,  0.        ,  0.        ,  0.        ,  0.        ,\n",
       "         0.        ,  1.        ,  0.        ,  0.        ],\n",
       "       [-0.27717426,  3.4440164 , -1.63130468,  0.        ,  0.        ,\n",
       "         1.        ,  0.        ,  0.        ,  0.        ,  0.        ,\n",
       "         0.        ,  0.        ,  0.        ,  0.        ,  0.        ,\n",
       "         0.        ,  0.        ,  1.        ,  0.        ,  0.        ,\n",
       "         0.        ,  0.        ,  0.        ,  1.        ]])"
      ]
     },
     "execution_count": 26,
     "metadata": {},
     "output_type": "execute_result"
    }
   ],
   "source": [
    "transformer = sk.compose.make_column_transformer(\n",
    "    (sk.preprocessing.StandardScaler(), ['geodistance']),\n",
    "    (sk.preprocessing.StandardScaler(), ['duration']),\n",
    "    (sk.preprocessing.StandardScaler(), ['departure_hour']),\n",
    "    (sk.preprocessing.OneHotEncoder(), ['fare']),\n",
    "    (sk.preprocessing.OneHotEncoder(), ['vehicle_type']),\n",
    "    (sk.preprocessing.OneHotEncoder(), ['vehicle_class'])\n",
    ")\n",
    "    \n",
    "X = transformer.fit_transform(df_train[numeric + categorial])\n",
    "X.toarray()[:2]\n"
   ]
  },
  {
   "cell_type": "markdown",
   "metadata": {},
   "source": [
    "Обучим модель и проверим ошибку:"
   ]
  },
  {
   "cell_type": "code",
   "execution_count": 27,
   "metadata": {},
   "outputs": [
    {
     "name": "stdout",
     "output_type": "stream",
     "text": [
      "MSE=74.97229497141748, MAE=6.027414674829677, MAE(%)=0.139914901355967\n"
     ]
    }
   ],
   "source": [
    "model = sk.linear_model.LinearRegression()\n",
    "model = model.fit(X,Y)\n",
    "X_t = transformer.transform(df_test[numeric+categorial])\n",
    "Y_t_pred = model.predict(X_t)\n",
    "print(f\"MSE={sk.metrics.mean_squared_error(Y_t,Y_t_pred)}, \\\n",
    "MAE={sk.metrics.mean_absolute_error(Y_t,Y_t_pred)}, \\\n",
    "MAE(%)={sk.metrics.mean_absolute_percentage_error(Y_t,Y_t_pred)}\")"
   ]
  },
  {
   "cell_type": "markdown",
   "metadata": {},
   "source": [
    "Результат изменений сильно зависит от входных данных, порой нормализация даёт значительный прирост точности прогнозирования. В данном случае измнений по сути нет."
   ]
  },
  {
   "cell_type": "markdown",
   "metadata": {},
   "source": [
    "## Добавление аргументов. Значимость признаков.\n",
    "\n",
    "Не всегда признаки вносят в результат линейную зависимость, определённые признаки могут влиять на результат больше, чем другие признаки. Поэтому, порой приходится работать с разными зависимостями в жизни (логарифмические, экспоненциальные и т.д.)\n",
    "\n",
    "Для этого необходимо модерзнизировать входные данные соответствующими преобразованиями над признаками. Часто добавление происходит вручную, когда есть полное понимание структуры данных и признаков. В тех случаях, когда нет чёткого понимания работы и зависимостей разных признаков и их влияния на результат, можно с помощью `PolynomialFeatures` добавить полиномиальные признаки степени 2 (квадраты + попарные перемножения), чтобы проверить, может ли подобное преобразование внести улучшения в точность прогнозирования."
   ]
  },
  {
   "cell_type": "code",
   "execution_count": 28,
   "metadata": {},
   "outputs": [
    {
     "data": {
      "text/plain": [
       "((997340, 24), (997340, 325))"
      ]
     },
     "execution_count": 28,
     "metadata": {},
     "output_type": "execute_result"
    }
   ],
   "source": [
    "polynomal = sk.preprocessing.PolynomialFeatures()\n",
    "\n",
    "Xp = polynomal.fit_transform(X)\n",
    "\n",
    "X.shape, Xp.shape"
   ]
  },
  {
   "cell_type": "markdown",
   "metadata": {},
   "source": [
    "Выше видно, что благодаря полиномиальному преобразованию из 24 исходных атрибутов, было получено 325, что кратно повышает, как время обучения модели, так и вероятность получения более точного прогноза.\n",
    "\n",
    "Обучим модель на расширенном наборе признаков:"
   ]
  },
  {
   "cell_type": "code",
   "execution_count": 29,
   "metadata": {},
   "outputs": [
    {
     "name": "stdout",
     "output_type": "stream",
     "text": [
      "MSE=49.951751761242534, MAE=4.616182195978128, MAE(%)=0.10945882101162036\n"
     ]
    }
   ],
   "source": [
    "model.fit(Xp, Y)\n",
    "\n",
    "Xp_t = polynomal.transform(X_t)\n",
    "Yp_t_pred = model.predict(Xp_t)\n",
    "\n",
    "print(f\"MSE={sk.metrics.mean_squared_error(Y_t,Yp_t_pred)}, \\\n",
    "MAE={sk.metrics.mean_absolute_error(Y_t,Yp_t_pred)}, \\\n",
    "MAE(%)={sk.metrics.mean_absolute_percentage_error(Y_t,Yp_t_pred)}\")"
   ]
  },
  {
   "cell_type": "markdown",
   "metadata": {},
   "source": [
    "Из примера выше, видно, что точность увеличилась на несколько процентов. Однако, для получения этой точности, мы не только жертвуем временем, но и рискуем получить переобучение."
   ]
  },
  {
   "cell_type": "markdown",
   "metadata": {},
   "source": [
    "## Переобучение.\n",
    "\n",
    "Суть переобучения в том, можно получить почти идеальную точность на обучающей выборке, однако, эта точность будет получена неверна, сама модель не будет апроксимировать нужные нам значения, она будет их подбирать точечно, при этом выдавай совсем другую функцию. Таким образом, на тестовой выборке, будет получена большая вероятность ошибки, которой не было на обучающей выборке.\n",
    "\n",
    "Переобучение возникает из-за дисбаланса между кол-во примеров в обучающей выборке и количеством параметров (кол-во признаков должно быть сильно меньше, чем кол-во примеров).\n",
    "\n",
    "Пример переобучения на линейной регрессии:\n",
    "\n",
    "![Пример переобучения](https://i.imgur.com/oZucYKt.png)\n",
    "\n",
    "В данном случае, 300 признаков кратно меньше 1КК результатов в обучающей выборке, поэтому проблем с переобучением не возникло.\n",
    "\n",
    "Поэтому, лучше всего понимать зависимости между данными, дабы не создавать избыточное количество признаков."
   ]
  },
  {
   "cell_type": "markdown",
   "metadata": {},
   "source": [
    "## Пайплайны.\n",
    "\n",
    "Обучение модели состоит из нескольких этапов, которые повторялись много раз - создание трансформера (преобразование, масштабирование данных), применение к признакам различных зависимостей. При чём, на каждом шаге приходилось обучать или адаптировать модели под определённые нужды. Все эти поэтапные шаги можно заменить одним, которые сразу обучит трансформер, масштабирует данные, обучит модель и т.д.\n",
    "\n",
    "Все эти шаги можно поместить в один конвейер (пайплайн), который можно описать в `sklearn` с помощью `Pipeline`. На выходе получим тот же результат, но более читаемый и лаконичный код.\n",
    "\n",
    "P.S. PipeLine может объединять в себе любые элементы, которые имеют единый интерфейс обучения (`fit`, `fit_transform`)."
   ]
  },
  {
   "cell_type": "code",
   "execution_count": 30,
   "metadata": {},
   "outputs": [
    {
     "data": {
      "text/plain": [
       "0.8973924039819148"
      ]
     },
     "execution_count": 30,
     "metadata": {},
     "output_type": "execute_result"
    }
   ],
   "source": [
    "pipe = sk.pipeline.Pipeline([\n",
    "    ('ColumnTransform', transformer),\n",
    "    ('PolyFeatures', polynomal),\n",
    "    ('LinearModel', model)\n",
    "])\n",
    "\n",
    "pipe.fit(df_train[numeric + categorial], Y)\n",
    "\n",
    "pipe.score(df_test[numeric + categorial], Y_t)"
   ]
  },
  {
   "cell_type": "markdown",
   "metadata": {},
   "source": [
    "## Деревья решений.\n",
    "\n",
    "Многие признаки могут вносить свой вклад в конечное значение вне зависимости от какой-либо функции, а скачкообразно. Например, цена билета в зависимости от тарифа, также актуальным примером является прогрессивный подход к налогооблажению (в зависимости от заработка меняется % налога).\n",
    "\n",
    "Подобные зависимости фиксируются с помощью условий, для этого используются нелинейные модели - деревья решений. На практике, изменений почти нет, просто теперь для обучения используется `DecisionTreeRegressor`.\n",
    "\n",
    "Попробуем обучить модель с помощью дерева решений на исходных данных (без оптимизаций)."
   ]
  },
  {
   "cell_type": "code",
   "execution_count": 31,
   "metadata": {},
   "outputs": [
    {
     "name": "stdout",
     "output_type": "stream",
     "text": [
      "MSE=33.185520388218606, MAE=2.8344390355326303, MAE(%)=0.07083232933918114\n"
     ]
    }
   ],
   "source": [
    "model = sk.tree.DecisionTreeRegressor()\n",
    "model = model.fit(X, Y)\n",
    "\n",
    "Y_t_pred = model.predict(X_t)\n",
    "print(f\"MSE={sk.metrics.mean_squared_error(Y_t,Y_t_pred)}, \\\n",
    "MAE={sk.metrics.mean_absolute_error(Y_t,Y_t_pred)}, \\\n",
    "MAE(%)={sk.metrics.mean_absolute_percentage_error(Y_t,Y_t_pred)}\")"
   ]
  },
  {
   "cell_type": "markdown",
   "metadata": {},
   "source": [
    "# "
   ]
  },
  {
   "cell_type": "markdown",
   "metadata": {},
   "source": [
    "Видно, что использование деревья решений сильно повысило точность предсказаний, при чём без использования масштабирования / оптимизации данных.\n",
    "\n",
    "Для того, чтобы понять, какую же модель лучше использовать обычно используют перебор, в дальнейшем это можно будет понять по опыту и определённым признакам (более глубокое изучение). \n",
    "\n",
    "Деревья решений - интерпретируемая модель, то есть можно проследить то, каким образом дерево принимает решения. В данном случае дерево получится достаточно глубоким, поэтому построим дерево с ограниченной глубиной:"
   ]
  },
  {
   "cell_type": "code",
   "execution_count": 32,
   "metadata": {},
   "outputs": [
    {
     "data": {
      "image/png": "[encoded data removed]",
      "text/plain": [
       "<Figure size 640x480 with 1 Axes>"
      ]
     },
     "metadata": {},
     "output_type": "display_data"
    }
   ],
   "source": [
    "model = sk.tree.DecisionTreeRegressor(max_depth=4)\n",
    "model = model.fit(X, Y)\n",
    "\n",
    "z = sk.tree.plot_tree(model, feature_names=transformer.get_feature_names_out())"
   ]
  },
  {
   "cell_type": "markdown",
   "metadata": {},
   "source": [
    "Для красивого и грамотного отображения имен признаков используется `get_feature_names_out`. \n",
    "\n",
    "Изображение выше довольно тяжело рассмотреть (даже при сохранении, как файла), поэтому, для более качественного отображения деревьев можно использовать библиотеку `GraphViz`.\n",
    "\n",
    "Пример использования:"
   ]
  },
  {
   "cell_type": "code",
   "execution_count": 33,
   "metadata": {},
   "outputs": [
    {
     "ename": "ModuleNotFoundError",
     "evalue": "No module named 'graphviz'",
     "output_type": "error",
     "traceback": [
      "\u001b[1;31m---------------------------------------------------------------------------\u001b[0m",
      "\u001b[1;31mModuleNotFoundError\u001b[0m                       Traceback (most recent call last)",
      "Cell \u001b[1;32mIn[33], line 1\u001b[0m\n\u001b[1;32m----> 1\u001b[0m \u001b[38;5;28;01mimport\u001b[39;00m \u001b[38;5;21;01mgraphviz\u001b[39;00m\n\u001b[0;32m      2\u001b[0m graphviz\u001b[38;5;241m.\u001b[39mbackend\u001b[38;5;241m.\u001b[39mdot_command\u001b[38;5;241m.\u001b[39mDOT_BINARY \u001b[38;5;241m=\u001b[39m \u001b[38;5;124m'\u001b[39m\u001b[38;5;124mc:/winapp/conda/Library/bin/graphviz/dot.exe\u001b[39m\u001b[38;5;124m'\u001b[39m\n\u001b[0;32m      4\u001b[0m \u001b[38;5;28;01mdef\u001b[39;00m \u001b[38;5;21mproc_feature_name\u001b[39m(x):\n",
      "\u001b[1;31mModuleNotFoundError\u001b[0m: No module named 'graphviz'"
     ]
    }
   ],
   "source": [
    "import graphviz\n",
    "graphviz.backend.dot_command.DOT_BINARY = 'c:/winapp/conda/Library/bin/graphviz/dot.exe'\n",
    "\n",
    "def proc_feature_name(x):\n",
    "    return x.replace('onehotencoder-1__','')\\\n",
    "        .replace('onehotencoder-2__','')\\\n",
    "        .replace('onehotencoder-3__','')\\\n",
    "        .replace('remainder__','')\n",
    "\n",
    "feature_names = [proc_feature_name(x) for x in transformer.get_feature_names_out()]\n",
    "\n",
    "graphviz.Source(\n",
    "    sk.tree.export_graphviz(model,feature_names=feature_names,\n",
    "    filled=True, rounded=True, special_characters=True)\n",
    ")"
   ]
  },
  {
   "cell_type": "markdown",
   "metadata": {},
   "source": [
    "## Классификация\n",
    "\n",
    "Типы классификации:\n",
    "\n",
    "- Бинарная (двоичная) - существуют две категории (являются противоположностями), например спам - не спам.\n",
    "- Мультиклассовая - необходимо распозанавать один из множества классов, например определение рукописных цифр (от 0 до 9). Такая классификация всегда может быть сведена к бинарной подходом \"один против всех\". То есть, ноль - не ноль, и так для каждой цифры.\n",
    "\n",
    "\n",
    "## Постановка задачи классификации\n",
    "\n",
    "Классификация на примере определения типа опухоли по её возрасту и размеру:\n",
    "\n",
    "![Классификация](https://i.imgur.com/K3kGk62.png)"
   ]
  },
  {
   "cell_type": "markdown",
   "metadata": {},
   "source": [
    "## Классификация как регрессия\n",
    "\n",
    "Регрессия является линейной функцией, однако классификацию нельзя просто подогнать под регресию путём подстановки параметров, ведь у нас может быть ответ только 0 или 1, следовательно линейной функции тут не получится.\n",
    "\n",
    "В таких ситуациях линейная функция подгоняется так, что она делится пополам на положительные и отрицательные значения в зависимости от класса, после чего к этой линейной функции применяется функция определителя знака и таким образом, получается искомый ответ - класс.\n",
    "\n",
    "![Классификация через регрессию](https://i.imgur.com/6JOd9IX.png)\n",
    "\n",
    "\n",
    "Однако с этим подходом есть сложность - при оптимизации, высчитывается градиент, а у такой функции в точке ноль нет производной, поэтому её часто заменяют на более гладкую функцию:\n",
    "\n",
    "![Гладкая функция регрессии](https://i.imgur.com/s6Dfkbw.png)\n",
    "\n",
    "Подобная функция приводит любое значение линейной функции в диапазон от 0 до 1, который можно приводить к выбору класса.\n"
   ]
  },
  {
   "cell_type": "markdown",
   "metadata": {},
   "source": [
    "Попробуем классификацию на практике. Сгенерируем случайный датасет, для этого используем `datasets.make_classification`. Для наглядности используем размерность 2 и визуализируем набор на плоскости:"
   ]
  },
  {
   "cell_type": "code",
   "execution_count": 34,
   "metadata": {},
   "outputs": [
    {
     "data": {
      "image/png": "[encoded data removed]",
      "text/plain": [
       "<Figure size 640x480 with 1 Axes>"
      ]
     },
     "metadata": {},
     "output_type": "display_data"
    }
   ],
   "source": [
    "X, Y = sk.datasets.make_classification(\n",
    "    n_samples=1000,\n",
    "    n_features=2,\n",
    "    n_informative=2,\n",
    "    n_redundant=0,\n",
    "    n_clusters_per_class=1,\n",
    "    flip_y=0,\n",
    "    class_sep=2,\n",
    "    random_state=13,\n",
    ")\n",
    "\n",
    "plt.scatter(X[:,0], X[:,1], c=['r' if x else 'b' for x in Y])\n",
    "plt.show()"
   ]
  },
  {
   "cell_type": "markdown",
   "metadata": {},
   "source": [
    "В итоге были получены два облака точек, которые довольно хорошо друг от друга отличаются (делятся на классы). Если речь идёт про линейную регрессию, то теперь эти облака точек надо разделить некой идеальной разделяющей прямой. Попробуем это сделать:"
   ]
  },
  {
   "cell_type": "markdown",
   "metadata": {},
   "source": [
    "Для начала отобразим функцию масштабирования результата (сигмоиду):"
   ]
  },
  {
   "cell_type": "code",
   "execution_count": 35,
   "metadata": {},
   "outputs": [
    {
     "data": {
      "image/png": "[encoded data removed]",
      "text/plain": [
       "<Figure size 640x480 with 1 Axes>"
      ]
     },
     "metadata": {},
     "output_type": "display_data"
    }
   ],
   "source": [
    "def sigmoid(x):\n",
    "    return 1 / (1 + np.exp(-x))\n",
    "\n",
    "x = np.linspace(-5, 5)\n",
    "plt.plot(x, sigmoid(x))\n",
    "plt.grid()\n",
    "plt.show()"
   ]
  },
  {
   "cell_type": "markdown",
   "metadata": {},
   "source": [
    "Используем метод градиентного спуска. Начнём с ошибки на случайно взятых данных:"
   ]
  },
  {
   "cell_type": "code",
   "execution_count": 36,
   "metadata": {},
   "outputs": [
    {
     "data": {
      "text/plain": [
       "0.10502081226045024"
      ]
     },
     "execution_count": 36,
     "metadata": {},
     "output_type": "execute_result"
    }
   ],
   "source": [
    "W = np.random.normal(size=(2,))\n",
    "b = np.random.normal(size=(1,))\n",
    "\n",
    "def mse_loss(W, b):\n",
    "    return np.average(np.square(sigmoid(np.matmul(X, W) + b) - Y))\n",
    "\n",
    "mse_loss(W, b)"
   ]
  },
  {
   "cell_type": "markdown",
   "metadata": {},
   "source": [
    "Далее напишем производную, посчитаем для неё ошибку и начнём спускаться по градиенту. \n",
    "\n",
    "P.S. Обычно производная не считается численно, ведь с увеличением количества признаков подобный функционал становится в разы сложнее. Однако для примера будет показан вариант с численным нахождением производной:"
   ]
  },
  {
   "cell_type": "code",
   "execution_count": 37,
   "metadata": {},
   "outputs": [
    {
     "data": {
      "text/plain": [
       "array([-0.15252732,  0.17042536])"
      ]
     },
     "execution_count": 37,
     "metadata": {},
     "output_type": "execute_result"
    }
   ],
   "source": [
    "def d(f, x: np.ndarray, dx=0.1):\n",
    "    n = x.shape[0]\n",
    "    r = np.zeros_like(x)\n",
    "\n",
    "    for i in range(n):\n",
    "        dxc = np.eye(n)[i] * dx\n",
    "        r[i] = (f(x + dxc) - f(x)) / dx\n",
    "    \n",
    "    return r\n",
    "\n",
    "d(lambda x: mse_loss(x, b), W)"
   ]
  },
  {
   "cell_type": "markdown",
   "metadata": {},
   "source": [
    "Выше была посчитана производная по W. Теперь объединим функции и оптимизируем алгоритмом спуска по градиенту:"
   ]
  },
  {
   "cell_type": "code",
   "execution_count": 38,
   "metadata": {},
   "outputs": [
    {
     "name": "stdout",
     "output_type": "stream",
     "text": [
      "([-1.39325698  1.40967603] [0.19346804]) -> loss=0.6106417511624381\n",
      "([-1.37328647  1.42388132] [0.2010333]) -> loss=0.6039000679722747\n",
      "([-1.35395006  1.43736218] [0.20832028]) -> loss=0.5976483492974707\n",
      "([-1.33523599  1.45014821] [0.21533279]) -> loss=0.591855855508412\n",
      "([-1.31712728  1.46227211] [0.22207678]) -> loss=0.5864902745150261\n",
      "([-1.29960332  1.47376814] [0.22855982]) -> loss=0.5815191340306536\n",
      "([-1.28264114  1.48467098] [0.2347905]) -> loss=0.5769107879272463\n",
      "([-1.26621649  1.4950149 ] [0.24077806]) -> loss=0.572635059638666\n",
      "([-1.25030453  1.50483314] [0.24653211]) -> loss=0.5686636235424471\n",
      "([-1.23488046  1.51415759] [0.25206231]) -> loss=0.5649701950624154\n",
      "([-1.21991989  1.52301847] [0.25737827]) -> loss=0.5615305870576681\n",
      "([-1.20539912  1.5314443 ] [0.26248939]) -> loss=0.5583226769694891\n",
      "([-1.19129534  1.53946179] [0.26740476]) -> loss=0.5553263177069241\n",
      "([-1.17758672  1.54709591] [0.27213315]) -> loss=0.5525232158953172\n",
      "([-1.16425248  1.5543699 ] [0.27668295]) -> loss=0.5498967938730881\n",
      "([-1.15127291  1.56130537] [0.28106213]) -> loss=0.5474320464291927\n",
      "([-1.13862936  1.5679224 ] [0.28527829]) -> loss=0.5451153993751668\n",
      "([-1.12630422  1.57423958] [0.2893386]) -> loss=0.5429345742987844\n",
      "([-1.1142809  1.5802742] [0.29324988]) -> loss=0.5408784619565754\n",
      "([-1.10254377  1.58604227] [0.29701854]) -> loss=0.5389370054936926\n",
      "([-1.09107809  1.59155864] [0.30065064]) -> loss=0.5371010938512458\n",
      "([-1.07987002  1.59683709] [0.30415191]) -> loss=0.5353624651992901\n",
      "([-1.06890652  1.60189043] [0.30752774]) -> loss=0.5337136199212642\n",
      "([-1.05817532  1.60673055] [0.31078321]) -> loss=0.5321477425039624\n",
      "([-1.04766487  1.61136848] [0.31392311]) -> loss=0.530658631607932\n",
      "([-1.03736429  1.61581451] [0.31695198]) -> loss=0.5292406375733218\n",
      "([-1.02726333  1.62007822] [0.31987406]) -> loss=0.5278886066330104\n",
      "([-1.01735235  1.62416851] [0.3226934]) -> loss=0.5265978311431695\n",
      "([-1.00762222  1.62809371] [0.32541377]) -> loss=0.5253640051911653\n",
      "([-0.99806437  1.63186158] [0.32803877]) -> loss=0.524183184995397\n",
      "([-0.98867065  1.63547936] [0.33057178]) -> loss=0.5230517535671577\n",
      "([-0.97943342  1.63895384] [0.333016]) -> loss=0.5219663891583857\n",
      "([-0.97034541  1.64229135] [0.33537445]) -> loss=0.520924037069802\n",
      "([-0.96139976  1.64549785] [0.33765]) -> loss=0.5199218844406687\n",
      "([-0.95258997  1.64857889] [0.33984535]) -> loss=0.5189573376839705\n",
      "([-0.94390988  1.6515397 ] [0.34196307]) -> loss=0.5180280022691889\n",
      "([-0.93535364  1.65438519] [0.34400558]) -> loss=0.517131664589209\n",
      "([-0.9269157   1.65711996] [0.34597518]) -> loss=0.5162662756784885\n",
      "([-0.9185908   1.65974834] [0.34787405]) -> loss=0.5154299365767658\n",
      "([-0.91037393  1.66227441] [0.34970427]) -> loss=0.5146208851565981\n",
      "([-0.9022603   1.66470202] [0.3514678]) -> loss=0.5138374842542109\n",
      "([-0.89424539  1.66703478] [0.35316649]) -> loss=0.5130782109618302\n",
      "([-0.88632487  1.66927609] [0.35480213]) -> loss=0.5123416469561192\n",
      "([-0.87849461  1.67142919] [0.35637639]) -> loss=0.5116264697518267\n",
      "([-0.87075066  1.6734971 ] [0.35789088]) -> loss=0.5109314447824914\n",
      "([-0.86308926  1.67548271] [0.35934711]) -> loss=0.5102554182212623\n",
      "([-0.85550683  1.67738872] [0.36074654]) -> loss=0.5095973104647574\n",
      "([-0.8479999  1.6792177] [0.36209054]) -> loss=0.5089561102115684\n",
      "([-0.84056519  1.68097208] [0.36338043]) -> loss=0.5083308690746645\n",
      "([-0.83319954  1.68265416] [0.36461745]) -> loss=0.507720696673691\n",
      "([-0.82589991  1.68426613] [0.36580278]) -> loss=0.5071247561590965\n",
      "([-0.8186634   1.68581003] [0.36693758]) -> loss=0.5065422601252665\n",
      "([-0.81148721  1.68728783] [0.36802291]) -> loss=0.5059724668744727\n",
      "([-0.80436867  1.68870138] [0.36905981]) -> loss=0.5054146769975371\n",
      "([-0.79730518  1.69005245] [0.37004925]) -> loss=0.5048682302407304\n",
      "([-0.79029425  1.6913427 ] [0.37099218]) -> loss=0.5043325026316322\n",
      "([-0.7833335   1.69257372] [0.37188948]) -> loss=0.5038069038395168\n",
      "([-0.77642061  1.69374701] [0.37274201]) -> loss=0.5032908747483501\n",
      "([-0.76955335  1.694864  ] [0.37355058]) -> loss=0.5027838852227233\n",
      "([-0.76272957  1.69592604] [0.37431596]) -> loss=0.5022854320490358\n",
      "([-0.75594718  1.69693442] [0.37503889]) -> loss=0.5017950370360067\n",
      "([-0.74920417  1.69789037] [0.37572008]) -> loss=0.5013122452601799\n",
      "([-0.74249859  1.69879505] [0.37636019]) -> loss=0.5008366234434815\n",
      "([-0.73582855  1.69964956] [0.37695987]) -> loss=0.5003677584511503\n",
      "([-0.72919222  1.70045494] [0.37751972]) -> loss=0.49990525589948154\n",
      "([-0.72258782  1.70121219] [0.37804033]) -> loss=0.49944873886382174\n",
      "([-0.71601363  1.70192226] [0.37852225]) -> loss=0.4989978466781547\n",
      "([-0.70946797  1.70258604] [0.37896601]) -> loss=0.49855223381841646\n",
      "([-0.7029492   1.70320437] [0.3793721]) -> loss=0.49811156886240177\n",
      "([-0.69645573  1.70377806] [0.37974101]) -> loss=0.49767553351976757\n",
      "([-0.68998602  1.70430788] [0.38007319]) -> loss=0.4972438217262217\n",
      "([-0.68353855  1.70479455] [0.38036906]) -> loss=0.4968161387965058\n",
      "([-0.67711186  1.70523875] [0.38062904]) -> loss=0.49639220063124967\n",
      "([-0.67070449  1.70564112] [0.38085352]) -> loss=0.4959717329731998\n",
      "([-0.66431505  1.70600228] [0.38104286]) -> loss=0.49555447070870196\n",
      "([-0.65794214  1.70632281] [0.38119741]) -> loss=0.4951401572106632\n",
      "([-0.65158443  1.70660323] [0.38131749]) -> loss=0.4947285437195268\n",
      "([-0.64524058  1.70684407] [0.38140342]) -> loss=0.49431938875907244\n",
      "([-0.6389093  1.7070458] [0.38145549]) -> loss=0.49391245758410607\n",
      "([-0.63258931  1.70720888] [0.38147396]) -> loss=0.49350752165733136\n",
      "([-0.62627936  1.70733371] [0.38145911]) -> loss=0.4931043581528989\n",
      "([-0.61997821  1.7074207 ] [0.38141117]) -> loss=0.4927027494843139\n",
      "([-0.61368464  1.7074702 ] [0.38133035]) -> loss=0.49230248285455275\n",
      "([-0.60739746  1.70748256] [0.38121688]) -> loss=0.4919033498263839\n",
      "([-0.60111549  1.70745809] [0.38107094]) -> loss=0.49150514591103056\n",
      "([-0.59483755  1.70739706] [0.38089272]) -> loss=0.49110767017342916\n",
      "([-0.58856249  1.70729975] [0.38068237]) -> loss=0.490710724852449\n",
      "([-0.58228917  1.70716639] [0.38044004]) -> loss=0.4903141149945378\n",
      "([-0.57601645  1.70699719] [0.38016586]) -> loss=0.4899176480993448\n",
      "([-0.56974322  1.70679235] [0.37985997]) -> loss=0.48952113377594814\n",
      "([-0.56346836  1.70655203] [0.37952245]) -> loss=0.48912438340838926\n",
      "([-0.55719075  1.70627637] [0.37915341]) -> loss=0.48872720982927137\n",
      "([-0.55090931  1.7059655 ] [0.37875293]) -> loss=0.48832942700023674\n",
      "([-0.54462293  1.70561952] [0.37832107]) -> loss=0.48793084969818323\n",
      "([-0.53833052  1.70523851] [0.37785788]) -> loss=0.48753129320611854\n",
      "([-0.532031    1.70482253] [0.3773634]) -> loss=0.48713057300758844\n",
      "([-0.52572328  1.7043716 ] [0.37683766]) -> loss=0.486728504483637\n",
      "([-0.51940626  1.70388575] [0.37628068]) -> loss=0.48632490261128536\n",
      "([-0.51307887  1.70336498] [0.37569245]) -> loss=0.48591958166252675\n",
      "([-0.50674001  1.70280925] [0.37507295]) -> loss=0.48551235490285144\n"
     ]
    }
   ],
   "source": [
    "W = np.random.normal(size=(2,))\n",
    "b = np.random.normal(size=(1,))\n",
    "\n",
    "eta = 0.1\n",
    "n = len(X)\n",
    "for i in range(100):\n",
    "    print(f\"({W} {b}) -> loss={mse_loss(W,b)}\")\n",
    "    #print(f\"dldw={dldw}, dldb={dldb}, W={W}, b={b}\")\n",
    "\n",
    "    dldw = d(lambda x: mse_loss(x,b),W)\n",
    "    dldb = d(lambda x: mse_loss(W,x),b)\n",
    "    h = sigmoid(np.matmul(X,W)+b)\n",
    "    W-=eta*dldw\n",
    "    b-=eta*dldb"
   ]
  },
  {
   "cell_type": "markdown",
   "metadata": {},
   "source": [
    "Построим разделяющую прямую. Для этого мы приравняем к нулю линейную функцию и посчитаем прямую в координатах:\n",
    "\n",
    "![Координаты прямой](https://i.imgur.com/7y2OGoi.png)\n",
    "\n",
    "Построим облака точек вместе с прямой:"
   ]
  },
  {
   "cell_type": "code",
   "execution_count": 39,
   "metadata": {},
   "outputs": [
    {
     "data": {
      "image/png": "[encoded data removed]",
      "text/plain": [
       "<Figure size 640x480 with 1 Axes>"
      ]
     },
     "metadata": {},
     "output_type": "display_data"
    }
   ],
   "source": [
    "plt.scatter(X[:,0],X[:,1],c=['r' if x else 'b' for x in Y])\n",
    "xs = X[:,0].min(), X[:,0].max()\n",
    "plt.plot(xs,[-b/W[1]-x*W[0]/W[1] for x in xs])\n",
    "plt.ylim([-2,6])\n",
    "plt.show()"
   ]
  },
  {
   "cell_type": "markdown",
   "metadata": {},
   "source": [
    "Если запустить процесс оптимизации много раз, то можно заметить, что оптимизация довольна неустойчива, она работает непредсказуемо, порой работает за много шагов, порой вовсе не оптимизирует ошибку и т.д.\n",
    "\n",
    "Связано это с тем, что ошибка всегда лежит в диапазоне [0; 1], что приводит к малым изменения наклона прямой. Это понятно по преобразующей функции, ведь предсказание 1 и 14 в нашем случае равносильны, они будут ровняться единице, но при оптимизации ошибки это не учитывается. В данном случае среднеквадратичная ошибка не демонстрирует реальную ошибку, следовательно нужно менять подход к определению ошибки.\n",
    "\n",
    "## Логистическая функция ошибки\n",
    "\n",
    "По сути, мы оцениваем отдалённость полученного ответа от вероятности нужного класса. Таким образом, мы используем для оценки ошибки логарифмическую функцию, как бы уравнивая экспоненциальную функцию сигмоиды.\n",
    "\n",
    "![Логистическая функция ошибки](https://i.imgur.com/2CNpsS5.png)\n",
    "\n",
    "Формулы для логистической функции ошибки в зависимости от типа классификации:\n",
    "\n",
    "![Формулы для логистической функции ошибки](https://i.imgur.com/vGpsxrP.png)\n",
    "\n",
    "Применим эти формулы на практике:"
   ]
  },
  {
   "cell_type": "code",
   "execution_count": 40,
   "metadata": {},
   "outputs": [
    {
     "name": "stdout",
     "output_type": "stream",
     "text": [
      "([-1.20027093 -0.34587015] [0.60028118]) -> loss=2.599628217244739\n",
      "([-0.82383825 -0.3197243 ] [0.60536021]) -> loss=1.90874183145434\n",
      "([-0.47268308 -0.29405371] [0.60893325]) -> loss=1.3240550605731105\n",
      "([-0.16562472 -0.27187199] [0.60999945]) -> loss=0.8947776146480118\n",
      "([ 0.08026365 -0.25683173] [0.60812334]) -> loss=0.6279881361391856\n",
      "([ 0.26628907 -0.24959986] [0.6041178]) -> loss=0.47552152193182895\n",
      "([ 0.40831402 -0.24777124] [0.59915541]) -> loss=0.3852058395952195\n",
      "([ 0.52104658 -0.24895699] [0.59394306]) -> loss=0.3272392769401375\n",
      "([ 0.61398927 -0.25174176] [0.5887852]) -> loss=0.28719721488134337\n",
      "([ 0.69296105 -0.25537429] [0.58379519]) -> loss=0.25790109786804805\n",
      "([ 0.76163199 -0.2594527 ] [0.57900742]) -> loss=0.2355047598164823\n",
      "([ 0.82242354 -0.26375437] [0.57442456]) -> loss=0.21779153572297036\n",
      "([ 0.87700361 -0.26815158] [0.57003698]) -> loss=0.20340164110651524\n",
      "([ 0.92656484 -0.27256901] [0.56583083]) -> loss=0.1914566701047904\n",
      "([ 0.97198751 -0.27696142] [0.56179147]) -> loss=0.18136437986887088\n",
      "([ 1.01393899 -0.28130149] [0.55790488]) -> loss=0.1727109641432766\n",
      "([ 1.05293692 -0.28557286] [0.55415817]) -> loss=0.16519846967677818\n",
      "([ 1.0893907  -0.28976606] [0.55053971]) -> loss=0.15860679824751833\n",
      "([ 1.12362965 -0.29387598] [0.54703912]) -> loss=0.15276974273500107\n",
      "([ 1.15592257 -0.29790036] [0.54364714]) -> loss=0.14755936832811967\n",
      "([ 1.18649173 -0.30183876] [0.54035555]) -> loss=0.14287553628517383\n",
      "([ 1.21552303 -0.30569193] [0.53715698]) -> loss=0.13863869753140465\n",
      "([ 1.24317352 -0.30946141] [0.53404489]) -> loss=0.13478482366011238\n",
      "([ 1.26957707 -0.31314921] [0.53101338]) -> loss=0.13126176985724988\n",
      "([ 1.29484879 -0.31675761] [0.52805718]) -> loss=0.12802661842158375\n",
      "([ 1.31908833 -0.32028908] [0.52517152]) -> loss=0.1250437071856143\n",
      "([ 1.34238255 -0.32374615] [0.52235209]) -> loss=0.12228314490492301\n",
      "([ 1.36480764 -0.32713135] [0.51959498]) -> loss=0.11971967852417202\n",
      "([ 1.38643082 -0.33044721] [0.51689663]) -> loss=0.11733181847402999\n",
      "([ 1.40731166 -0.33369619] [0.51425379]) -> loss=0.11510115574602202\n",
      "([ 1.42750323 -0.33688066] [0.51166349]) -> loss=0.11301182327563274\n",
      "([ 1.44705302 -0.34000293] [0.50912301]) -> loss=0.11105006715659785\n",
      "([ 1.46600369 -0.34306523] [0.50662984]) -> loss=0.10920390232981543\n",
      "([ 1.48439369 -0.34606968] [0.50418166]) -> loss=0.10746283388041919\n",
      "([ 1.50225786 -0.3490183 ] [0.50177634]) -> loss=0.10581762975352561\n",
      "([ 1.51962779 -0.35191305] [0.4994119]) -> loss=0.10426013410926749\n",
      "([ 1.53653227 -0.35475579] [0.4970865]) -> loss=0.10278311305141645\n",
      "([ 1.5529976  -0.35754828] [0.49479844]) -> loss=0.10138012633580423\n",
      "([ 1.56904786 -0.36029221] [0.49254611]) -> loss=0.10004542007209537\n",
      "([ 1.58470518 -0.36298919] [0.49032803]) -> loss=0.09877383650004753\n",
      "([ 1.59998991 -0.36564077] [0.48814282]) -> loss=0.0975607377380803\n",
      "([ 1.61492084 -0.36824841] [0.48598917]) -> loss=0.09640194103168824\n",
      "([ 1.62951533 -0.3708135 ] [0.48386586]) -> loss=0.09529366351842143\n",
      "([ 1.64378948 -0.37333739] [0.48177174]) -> loss=0.09423247490886422\n",
      "([ 1.65775822 -0.37582134] [0.47970573]) -> loss=0.09321525678445088\n",
      "([ 1.67143546 -0.37826658] [0.47766682]) -> loss=0.09223916745184263\n",
      "([ 1.68483414 -0.38067426] [0.47565405]) -> loss=0.0913016114840572\n",
      "([ 1.69796635 -0.3830455 ] [0.47366651]) -> loss=0.09040021323127695\n",
      "([ 1.71084338 -0.38538137] [0.47170334]) -> loss=0.08953279370739858\n",
      "([ 1.7234758  -0.38768288] [0.46976374]) -> loss=0.08869735035818054\n",
      "([ 1.73587354 -0.389951  ] [0.46784693]) -> loss=0.08789203929811462\n",
      "([ 1.7480459  -0.39218667] [0.46595219]) -> loss=0.08711515966964735\n",
      "([ 1.76000163 -0.39439079] [0.46407881]) -> loss=0.08636513983303248\n",
      "([ 1.77174899 -0.39656421] [0.46222616]) -> loss=0.0856405251402125\n",
      "([ 1.78329573 -0.39870776] [0.46039359]) -> loss=0.08493996708352056\n",
      "([ 1.79464919 -0.40082222] [0.45858051]) -> loss=0.08426221364111165\n",
      "([ 1.80581629 -0.40290835] [0.45678635]) -> loss=0.08360610066702105\n",
      "([ 1.81680358 -0.40496689] [0.45501057]) -> loss=0.08297054419553737\n",
      "([ 1.82761727 -0.40699854] [0.45325264]) -> loss=0.08235453354790494\n",
      "([ 1.83826324 -0.40900397] [0.45151209]) -> loss=0.08175712514484068\n",
      "([ 1.84874705 -0.41098382] [0.44978842]) -> loss=0.08117743694145062\n",
      "([ 1.85907401 -0.41293873] [0.44808119]) -> loss=0.08061464341225734\n",
      "([ 1.86924916 -0.41486929] [0.44638997]) -> loss=0.08006797102352964\n",
      "([ 1.87927727 -0.41677609] [0.44471433]) -> loss=0.07953669413820515\n",
      "([ 1.88916291 -0.41865969] [0.44305387]) -> loss=0.07902013130563512\n",
      "([ 1.89891042 -0.42052062] [0.44140822]) -> loss=0.07851764189434308\n",
      "([ 1.90852395 -0.4223594 ] [0.43977701]) -> loss=0.07802862303112357\n",
      "([ 1.91800745 -0.42417654] [0.43815988]) -> loss=0.07755250681424022\n",
      "([ 1.9273647  -0.42597252] [0.4365565]) -> loss=0.07708875777232169\n",
      "([ 1.9365993  -0.42774781] [0.43496653]) -> loss=0.07663687054388184\n",
      "([ 1.94571472 -0.42950287] [0.43338966]) -> loss=0.07619636775528799\n",
      "([ 1.95471425 -0.43123812] [0.43182559]) -> loss=0.07576679807752246\n",
      "([ 1.96360107 -0.43295401] [0.43027402]) -> loss=0.07534773444428824\n",
      "([ 1.9723782  -0.43465092] [0.42873468]) -> loss=0.07493877241593737\n",
      "([ 1.98104855 -0.43632927] [0.4272073]) -> loss=0.07453952867539164\n",
      "([ 1.98961493 -0.43798944] [0.4256916]) -> loss=0.0741496396437128\n",
      "([ 1.99807999 -0.43963179] [0.42418735]) -> loss=0.07376876020428585\n",
      "([ 2.00644633 -0.4412567 ] [0.42269428]) -> loss=0.07339656252573418\n",
      "([ 2.01471642 -0.4428645 ] [0.42121218]) -> loss=0.07303273497470349\n",
      "([ 2.02289264 -0.44445554] [0.4197408]) -> loss=0.07267698111055454\n",
      "([ 2.03097727 -0.44603015] [0.41827994]) -> loss=0.0723290187548038\n",
      "([ 2.03897252 -0.44758864] [0.41682937]) -> loss=0.07198857912886135\n",
      "([ 2.04688052 -0.44913133] [0.41538889]) -> loss=0.07165540605424729\n",
      "([ 2.05470332 -0.45065851] [0.4139583]) -> loss=0.07132925521003036\n",
      "([ 2.06244288 -0.45217049] [0.4125374]) -> loss=0.07100989344273408\n",
      "([ 2.07010111 -0.45366753] [0.41112601]) -> loss=0.07069709812440468\n",
      "([ 2.07767984 -0.45514993] [0.40972394]) -> loss=0.07039065655493619\n",
      "([ 2.08518086 -0.45661794] [0.40833103]) -> loss=0.07009036540510709\n",
      "([ 2.09260587 -0.45807182] [0.40694709]) -> loss=0.06979603019710644\n",
      "([ 2.09995652 -0.45951183] [0.40557196]) -> loss=0.06950746481961582\n",
      "([ 2.10723443 -0.46093822] [0.40420548]) -> loss=0.06922449107477589\n",
      "([ 2.11444113 -0.46235123] [0.40284749]) -> loss=0.0689469382545991\n",
      "([ 2.12157811 -0.46375109] [0.40149785]) -> loss=0.06867464274460386\n",
      "([ 2.12864684 -0.46513802] [0.40015639]) -> loss=0.06840744765263498\n",
      "([ 2.13564871 -0.46651225] [0.39882299]) -> loss=0.06814520246100955\n",
      "([ 2.14258508 -0.46787399] [0.39749749]) -> loss=0.06788776270028225\n",
      "([ 2.14945726 -0.46922346] [0.39617977]) -> loss=0.0676349896430677\n",
      "([ 2.15626654 -0.47056085] [0.39486969]) -> loss=0.06738675001648384\n",
      "([ 2.16301414 -0.47188638] [0.39356712]) -> loss=0.0671429157318996\n",
      "([ 2.16970126 -0.47320022] [0.39227194]) -> loss=0.06690336363077361\n"
     ]
    }
   ],
   "source": [
    "W = np.random.normal(size=(2,))\n",
    "b = np.random.normal(size=(1,))\n",
    "\n",
    "def loss(W, b):\n",
    "    h = sigmoid(np.matmul(X,W)+b)\n",
    "    return (-Y * np.log(h) - (1 - Y) * np.log(1 - h)).mean()\n",
    "\n",
    "eta = 0.2\n",
    "n = len(X)\n",
    "for i in range(100):\n",
    "    print(f\"({W} {b}) -> loss={loss(W,b)}\")\n",
    "    #print(f\"dldw={dldw}, dldb={dldb}, W={W}, b={b}\")\n",
    "\n",
    "    h = sigmoid(np.matmul(X,W)+b)\n",
    "    dldw = np.matmul(X.T,h-Y.T)/n\n",
    "    dldb = (h-Y.T).mean()\n",
    "    W-=eta*dldw\n",
    "    b-=eta*dldb"
   ]
  },
  {
   "cell_type": "markdown",
   "metadata": {},
   "source": [
    "При многократном повторении оптимизации, результат не ломается"
   ]
  },
  {
   "cell_type": "code",
   "execution_count": 41,
   "metadata": {},
   "outputs": [
    {
     "data": {
      "image/png": "[encoded data removed]",
      "text/plain": [
       "<Figure size 640x480 with 1 Axes>"
      ]
     },
     "metadata": {},
     "output_type": "display_data"
    }
   ],
   "source": [
    "plt.scatter(X[:,0],X[:,1],c=['r' if x else 'b' for x in Y])\n",
    "xs = X[:,0].min(), X[:,0].max()\n",
    "plt.plot(xs,[-b/W[1]-x*W[0]/W[1] for x in xs])\n",
    "plt.ylim([-2,6])\n",
    "plt.show()"
   ]
  },
  {
   "cell_type": "markdown",
   "metadata": {},
   "source": [
    "## Классификация в SciKit Learn\n",
    "\n",
    "Проделаем ту же задачу классификации, но с использованием внутренних средств `sklearn`:"
   ]
  },
  {
   "cell_type": "code",
   "execution_count": 42,
   "metadata": {},
   "outputs": [
    {
     "name": "stdout",
     "output_type": "stream",
     "text": [
      "Accuracy= 0.99\n"
     ]
    }
   ],
   "source": [
    "X_train, X_test, Y_train, Y_test = sk.model_selection.train_test_split(X, Y, test_size=0.2)\n",
    "\n",
    "model = sk.linear_model.LogisticRegression().fit(X_train, Y_train)\n",
    "\n",
    "Y_pred = model.predict(X_test)\n",
    "\n",
    "print(f\"Accuracy= {sk.metrics.accuracy_score(Y_test, Y_pred)}\")"
   ]
  },
  {
   "cell_type": "markdown",
   "metadata": {},
   "source": [
    "В классификации точность определяется не отклонением, а процент правильно предсказанных значений (классов).\n",
    "\n",
    "Можно не только предсказать класс, но и посмотреть вероятность тех или иных классов для входных признаков. Для этого используется `predict_proba`. Ниже представлена вероятность каждого класса (нулевого, потом первого) для первых 5 записей."
   ]
  },
  {
   "cell_type": "code",
   "execution_count": 43,
   "metadata": {},
   "outputs": [
    {
     "data": {
      "text/plain": [
       "array([[9.99992028e-01, 7.97186741e-06],\n",
       "       [9.99548100e-01, 4.51899665e-04],\n",
       "       [1.68362561e-02, 9.83163744e-01],\n",
       "       [1.57379736e-02, 9.84262026e-01],\n",
       "       [1.34363985e-04, 9.99865636e-01]])"
      ]
     },
     "execution_count": 43,
     "metadata": {},
     "output_type": "execute_result"
    }
   ],
   "source": [
    "model.predict_proba(X_test[:5])"
   ]
  },
  {
   "cell_type": "markdown",
   "metadata": {},
   "source": [
    "Взглянем на разделяющую прямую, полученную с использованием встроенных средства `sklearn`:"
   ]
  },
  {
   "cell_type": "code",
   "execution_count": 44,
   "metadata": {},
   "outputs": [
    {
     "data": {
      "image/png": "[encoded data removed]",
      "text/plain": [
       "<Figure size 640x480 with 1 Axes>"
      ]
     },
     "metadata": {},
     "output_type": "display_data"
    }
   ],
   "source": [
    "plt.scatter(X[:,0],X[:,1],c=['r' if x else 'b' for x in Y])\n",
    "xs = X[:,0].min(), X[:,0].max()\n",
    "b = model.intercept_\n",
    "W = model.coef_[0]\n",
    "plt.plot(xs,[-b/W[1]-x*W[0]/W[1] for x in xs])\n",
    "plt.ylim([-2,6])\n",
    "plt.show()"
   ]
  },
  {
   "cell_type": "markdown",
   "metadata": {},
   "source": [
    "Рассмотрим задачу с людьми на Титанике и вероятностью выживания."
   ]
  },
  {
   "cell_type": "code",
   "execution_count": 45,
   "metadata": {},
   "outputs": [
    {
     "data": {
      "text/html": [
       "<div>\n",
       "<style scoped>\n",
       "    .dataframe tbody tr th:only-of-type {\n",
       "        vertical-align: middle;\n",
       "    }\n",
       "\n",
       "    .dataframe tbody tr th {\n",
       "        vertical-align: top;\n",
       "    }\n",
       "\n",
       "    .dataframe thead th {\n",
       "        text-align: right;\n",
       "    }\n",
       "</style>\n",
       "<table border=\"1\" class=\"dataframe\">\n",
       "  <thead>\n",
       "    <tr style=\"text-align: right;\">\n",
       "      <th></th>\n",
       "      <th>pclass</th>\n",
       "      <th>survived</th>\n",
       "      <th>name</th>\n",
       "      <th>sex</th>\n",
       "      <th>age</th>\n",
       "      <th>sibsp</th>\n",
       "      <th>parch</th>\n",
       "      <th>ticket</th>\n",
       "      <th>fare</th>\n",
       "      <th>cabin</th>\n",
       "      <th>embarked</th>\n",
       "      <th>boat</th>\n",
       "      <th>body</th>\n",
       "      <th>home.dest</th>\n",
       "    </tr>\n",
       "  </thead>\n",
       "  <tbody>\n",
       "    <tr>\n",
       "      <th>0</th>\n",
       "      <td>1</td>\n",
       "      <td>1</td>\n",
       "      <td>Allen. Miss. Elisabeth Walton</td>\n",
       "      <td>female</td>\n",
       "      <td>29.0000</td>\n",
       "      <td>0</td>\n",
       "      <td>0</td>\n",
       "      <td>24160</td>\n",
       "      <td>211.3375</td>\n",
       "      <td>B5</td>\n",
       "      <td>S</td>\n",
       "      <td>2</td>\n",
       "      <td>NaN</td>\n",
       "      <td>St Louis. MO</td>\n",
       "    </tr>\n",
       "    <tr>\n",
       "      <th>1</th>\n",
       "      <td>1</td>\n",
       "      <td>1</td>\n",
       "      <td>Allison. Master. Hudson Trevor</td>\n",
       "      <td>male</td>\n",
       "      <td>0.9167</td>\n",
       "      <td>1</td>\n",
       "      <td>2</td>\n",
       "      <td>113781</td>\n",
       "      <td>151.5500</td>\n",
       "      <td>C22 C26</td>\n",
       "      <td>S</td>\n",
       "      <td>11</td>\n",
       "      <td>NaN</td>\n",
       "      <td>Montreal. PQ / Chesterville. ON</td>\n",
       "    </tr>\n",
       "    <tr>\n",
       "      <th>2</th>\n",
       "      <td>1</td>\n",
       "      <td>0</td>\n",
       "      <td>Allison. Miss. Helen Loraine</td>\n",
       "      <td>female</td>\n",
       "      <td>2.0000</td>\n",
       "      <td>1</td>\n",
       "      <td>2</td>\n",
       "      <td>113781</td>\n",
       "      <td>151.5500</td>\n",
       "      <td>C22 C26</td>\n",
       "      <td>S</td>\n",
       "      <td>NaN</td>\n",
       "      <td>NaN</td>\n",
       "      <td>Montreal. PQ / Chesterville. ON</td>\n",
       "    </tr>\n",
       "    <tr>\n",
       "      <th>3</th>\n",
       "      <td>1</td>\n",
       "      <td>0</td>\n",
       "      <td>Allison. Mr. Hudson Joshua Creighton</td>\n",
       "      <td>male</td>\n",
       "      <td>30.0000</td>\n",
       "      <td>1</td>\n",
       "      <td>2</td>\n",
       "      <td>113781</td>\n",
       "      <td>151.5500</td>\n",
       "      <td>C22 C26</td>\n",
       "      <td>S</td>\n",
       "      <td>NaN</td>\n",
       "      <td>135.0</td>\n",
       "      <td>Montreal. PQ / Chesterville. ON</td>\n",
       "    </tr>\n",
       "    <tr>\n",
       "      <th>4</th>\n",
       "      <td>1</td>\n",
       "      <td>0</td>\n",
       "      <td>Allison. Mrs. Hudson J C (Bessie Waldo Daniels)</td>\n",
       "      <td>female</td>\n",
       "      <td>25.0000</td>\n",
       "      <td>1</td>\n",
       "      <td>2</td>\n",
       "      <td>113781</td>\n",
       "      <td>151.5500</td>\n",
       "      <td>C22 C26</td>\n",
       "      <td>S</td>\n",
       "      <td>NaN</td>\n",
       "      <td>NaN</td>\n",
       "      <td>Montreal. PQ / Chesterville. ON</td>\n",
       "    </tr>\n",
       "    <tr>\n",
       "      <th>...</th>\n",
       "      <td>...</td>\n",
       "      <td>...</td>\n",
       "      <td>...</td>\n",
       "      <td>...</td>\n",
       "      <td>...</td>\n",
       "      <td>...</td>\n",
       "      <td>...</td>\n",
       "      <td>...</td>\n",
       "      <td>...</td>\n",
       "      <td>...</td>\n",
       "      <td>...</td>\n",
       "      <td>...</td>\n",
       "      <td>...</td>\n",
       "      <td>...</td>\n",
       "    </tr>\n",
       "    <tr>\n",
       "      <th>1304</th>\n",
       "      <td>3</td>\n",
       "      <td>0</td>\n",
       "      <td>Zabour. Miss. Hileni</td>\n",
       "      <td>female</td>\n",
       "      <td>14.5000</td>\n",
       "      <td>1</td>\n",
       "      <td>0</td>\n",
       "      <td>2665</td>\n",
       "      <td>14.4542</td>\n",
       "      <td>NaN</td>\n",
       "      <td>C</td>\n",
       "      <td>NaN</td>\n",
       "      <td>328.0</td>\n",
       "      <td>NaN</td>\n",
       "    </tr>\n",
       "    <tr>\n",
       "      <th>1305</th>\n",
       "      <td>3</td>\n",
       "      <td>0</td>\n",
       "      <td>Zabour. Miss. Thamine</td>\n",
       "      <td>female</td>\n",
       "      <td>NaN</td>\n",
       "      <td>1</td>\n",
       "      <td>0</td>\n",
       "      <td>2665</td>\n",
       "      <td>14.4542</td>\n",
       "      <td>NaN</td>\n",
       "      <td>C</td>\n",
       "      <td>NaN</td>\n",
       "      <td>NaN</td>\n",
       "      <td>NaN</td>\n",
       "    </tr>\n",
       "    <tr>\n",
       "      <th>1306</th>\n",
       "      <td>3</td>\n",
       "      <td>0</td>\n",
       "      <td>Zakarian. Mr. Mapriededer</td>\n",
       "      <td>male</td>\n",
       "      <td>26.5000</td>\n",
       "      <td>0</td>\n",
       "      <td>0</td>\n",
       "      <td>2656</td>\n",
       "      <td>7.2250</td>\n",
       "      <td>NaN</td>\n",
       "      <td>C</td>\n",
       "      <td>NaN</td>\n",
       "      <td>304.0</td>\n",
       "      <td>NaN</td>\n",
       "    </tr>\n",
       "    <tr>\n",
       "      <th>1307</th>\n",
       "      <td>3</td>\n",
       "      <td>0</td>\n",
       "      <td>Zakarian. Mr. Ortin</td>\n",
       "      <td>male</td>\n",
       "      <td>27.0000</td>\n",
       "      <td>0</td>\n",
       "      <td>0</td>\n",
       "      <td>2670</td>\n",
       "      <td>7.2250</td>\n",
       "      <td>NaN</td>\n",
       "      <td>C</td>\n",
       "      <td>NaN</td>\n",
       "      <td>NaN</td>\n",
       "      <td>NaN</td>\n",
       "    </tr>\n",
       "    <tr>\n",
       "      <th>1308</th>\n",
       "      <td>3</td>\n",
       "      <td>0</td>\n",
       "      <td>Zimmerman. Mr. Leo</td>\n",
       "      <td>male</td>\n",
       "      <td>29.0000</td>\n",
       "      <td>0</td>\n",
       "      <td>0</td>\n",
       "      <td>315082</td>\n",
       "      <td>7.8750</td>\n",
       "      <td>NaN</td>\n",
       "      <td>S</td>\n",
       "      <td>NaN</td>\n",
       "      <td>NaN</td>\n",
       "      <td>NaN</td>\n",
       "    </tr>\n",
       "  </tbody>\n",
       "</table>\n",
       "<p>1309 rows × 14 columns</p>\n",
       "</div>"
      ],
      "text/plain": [
       "      pclass  survived                                             name  \\\n",
       "0          1         1                    Allen. Miss. Elisabeth Walton   \n",
       "1          1         1                   Allison. Master. Hudson Trevor   \n",
       "2          1         0                     Allison. Miss. Helen Loraine   \n",
       "3          1         0             Allison. Mr. Hudson Joshua Creighton   \n",
       "4          1         0  Allison. Mrs. Hudson J C (Bessie Waldo Daniels)   \n",
       "...      ...       ...                                              ...   \n",
       "1304       3         0                             Zabour. Miss. Hileni   \n",
       "1305       3         0                            Zabour. Miss. Thamine   \n",
       "1306       3         0                        Zakarian. Mr. Mapriededer   \n",
       "1307       3         0                              Zakarian. Mr. Ortin   \n",
       "1308       3         0                               Zimmerman. Mr. Leo   \n",
       "\n",
       "         sex      age  sibsp  parch  ticket      fare    cabin embarked boat  \\\n",
       "0     female  29.0000      0      0   24160  211.3375       B5        S    2   \n",
       "1       male   0.9167      1      2  113781  151.5500  C22 C26        S   11   \n",
       "2     female   2.0000      1      2  113781  151.5500  C22 C26        S  NaN   \n",
       "3       male  30.0000      1      2  113781  151.5500  C22 C26        S  NaN   \n",
       "4     female  25.0000      1      2  113781  151.5500  C22 C26        S  NaN   \n",
       "...      ...      ...    ...    ...     ...       ...      ...      ...  ...   \n",
       "1304  female  14.5000      1      0    2665   14.4542      NaN        C  NaN   \n",
       "1305  female      NaN      1      0    2665   14.4542      NaN        C  NaN   \n",
       "1306    male  26.5000      0      0    2656    7.2250      NaN        C  NaN   \n",
       "1307    male  27.0000      0      0    2670    7.2250      NaN        C  NaN   \n",
       "1308    male  29.0000      0      0  315082    7.8750      NaN        S  NaN   \n",
       "\n",
       "       body                        home.dest  \n",
       "0       NaN                     St Louis. MO  \n",
       "1       NaN  Montreal. PQ / Chesterville. ON  \n",
       "2       NaN  Montreal. PQ / Chesterville. ON  \n",
       "3     135.0  Montreal. PQ / Chesterville. ON  \n",
       "4       NaN  Montreal. PQ / Chesterville. ON  \n",
       "...     ...                              ...  \n",
       "1304  328.0                              NaN  \n",
       "1305    NaN                              NaN  \n",
       "1306  304.0                              NaN  \n",
       "1307    NaN                              NaN  \n",
       "1308    NaN                              NaN  \n",
       "\n",
       "[1309 rows x 14 columns]"
      ]
     },
     "execution_count": 45,
     "metadata": {},
     "output_type": "execute_result"
    }
   ],
   "source": [
    "df = pd.read_csv(\"data/titanic.csv\")\n",
    "\n",
    "df"
   ]
  },
  {
   "cell_type": "markdown",
   "metadata": {},
   "source": [
    "Для начала, поработаем с данными и преобразуем их все к числовым признакам. Начнём с пола:"
   ]
  },
  {
   "cell_type": "code",
   "execution_count": 46,
   "metadata": {},
   "outputs": [],
   "source": [
    "df['nsex'] = df['sex'].apply(lambda x: 0 if x == 'male' else 1)"
   ]
  },
  {
   "cell_type": "markdown",
   "metadata": {},
   "source": [
    "Далее, необходимо обработать непригодные примеры, в которых отсуствует значение какого-либо признака.\n",
    "\n",
    "В этом датасете есть такие примеры с возрастом:"
   ]
  },
  {
   "cell_type": "code",
   "execution_count": null,
   "metadata": {},
   "outputs": [],
   "source": [
    "df['age'].isna().sum()"
   ]
  },
  {
   "cell_type": "markdown",
   "metadata": {},
   "source": [
    "Эту ситуацию можно решить следующими способами:\n",
    "- Удалить примеры с пустым возрастом. Рекомендуется делать только в том случае, если количество удалённых строк имеет незначительное количество в сравнении с объёмом всей обучающей выборки\n",
    "- Убрать признак возраста из модели обучения (нежелательно)\n",
    "- Заменить пустое значение на какое-то другое (например среднее или предыдущее из таблицы)\n",
    "\n",
    "Попробуем заменить пустые значения `fillna` на среднее значение:"
   ]
  },
  {
   "cell_type": "code",
   "execution_count": null,
   "metadata": {},
   "outputs": [],
   "source": [
    "df['fage'] = df['age'].fillna(df['age'].mean())\n",
    "\n",
    "df"
   ]
  },
  {
   "cell_type": "markdown",
   "metadata": {},
   "source": [
    "Теперь, после подготовки данных к работе, можно выделить признаки для обучения и разбить выборку на тестовую и обучающую:"
   ]
  },
  {
   "cell_type": "code",
   "execution_count": null,
   "metadata": {},
   "outputs": [],
   "source": [
    "features = ['pclass', 'nsex', 'fage', 'sibsp', 'parch']\n",
    "\n",
    "X = df[features]\n",
    "Y = df['survived']\n",
    "\n",
    "X_train, X_test, Y_train, Y_test = sk.model_selection.train_test_split(X, Y, test_size=0.2)"
   ]
  },
  {
   "cell_type": "markdown",
   "metadata": {},
   "source": [
    "Обучим модель:"
   ]
  },
  {
   "cell_type": "code",
   "execution_count": null,
   "metadata": {},
   "outputs": [],
   "source": [
    "model = sk.linear_model.LogisticRegression().fit(X_train, Y_train)\n",
    "\n",
    "Y_pred = model.predict(X_test)\n",
    "\n",
    "print(f\"Accuracy= {sk.metrics.accuracy_score(Y_test, Y_pred)}\")"
   ]
  },
  {
   "cell_type": "markdown",
   "metadata": {},
   "source": [
    "Интересно узнать, когда модель делает ошибку, для этого существует матрица ошибок:"
   ]
  },
  {
   "cell_type": "code",
   "execution_count": null,
   "metadata": {},
   "outputs": [],
   "source": [
    "sk.metrics.ConfusionMatrixDisplay.from_estimator(model, X_test, Y_test)\n",
    "plt.show()"
   ]
  },
  {
   "cell_type": "markdown",
   "metadata": {},
   "source": [
    "Эту матрицу довольно легко анализировать, по левой оси - верные данные, по нижней - предсказанные. По пересечениям видно, что довольно много ошибок было допущено для тех, кто по факту выжил. Связано такое плохое прогнозирование с тем, что в обучающей выборке невыживших было кратно больше, что привело к нехватке данных для обучения модели по выжившим.\n",
    "\n",
    "Другими словами, модель обучалась на НЕСБАЛАНСИРОВАННЫХ данных."
   ]
  },
  {
   "cell_type": "markdown",
   "metadata": {},
   "source": [
    "## Точность и матрица ошибок\n",
    "\n",
    "Разберём подробнее, как работает матрица ошибок и как по ней высчитывается точность предсказания:\n",
    "\n",
    "![Матрица ошибок и точность](https://i.imgur.com/8Z9juQ6.png)\n",
    "\n",
    "Ошибка 1-ого рода - False Positive, то есть был предсказан Positive вместо Negative\n",
    "\n",
    "Ошибка 2-ого рода - False Negative, то есть был предсказан Negative вместо Positive\n",
    "\n",
    "\n",
    "P.S. Negative и Positive - условные разделения классов на главный и второстепенный"
   ]
  },
  {
   "cell_type": "markdown",
   "metadata": {},
   "source": [
    "Для определения точности с ошибками такого рода есть определённая метрика, которая ориентируется на главный класс:\n",
    "\n",
    "![Формулы ошибок](https://i.imgur.com/ahQpWQY.png)"
   ]
  },
  {
   "cell_type": "markdown",
   "metadata": {},
   "source": [
    "Если же использовать в несбалансированных моделях стандартную точность, то может получиться подобная ситуация, когда прогнозирования никакого нет, но точность равна 90%:\n",
    "\n",
    "![Метрики ошибок несбалансированных моделей](https://i.imgur.com/bDWE3Yw.png)\n",
    "\n",
    "Чтобы объединить в одно целое метрики `precision` и `recall`, используется метрика `F1 мера` - среднее гармоническое этих двух мер:\n",
    "\n",
    "![F1-мера](https://i.imgur.com/RZBF98X.png)"
   ]
  },
  {
   "cell_type": "markdown",
   "metadata": {},
   "source": [
    "## ROC-кривая, AUC\n",
    "\n",
    "AUC (Area under the curve) - ещё один способ оценивания точности бинарной классификации. На деле модели выдают не точное предсказание класса, а лишь вероятность принадлежности тому или другому классу. Например, если вероятность больше заданной границы, то это один класс, если ниже, то другой. Эту заданную границу можно варьировать в зависимости от требований.\n",
    "\n",
    "От значения границы будут меняться и результаты прогнозирования на матрице ошибок. Таким образом, можно построить кривую точности, зависящей от этой границы:\n",
    "\n",
    "![ROC кривая](https://i.imgur.com/uVCU9zb.png)"
   ]
  },
  {
   "cell_type": "markdown",
   "metadata": {},
   "source": [
    "Посмотрим на эти метрики классификации на деле:"
   ]
  },
  {
   "cell_type": "code",
   "execution_count": null,
   "metadata": {},
   "outputs": [],
   "source": [
    "print(sk.metrics.classification_report(Y_test, Y_pred))"
   ]
  },
  {
   "cell_type": "markdown",
   "metadata": {},
   "source": [
    "Построим ROC-кривую и рассмотрим AUC:"
   ]
  },
  {
   "cell_type": "code",
   "execution_count": null,
   "metadata": {},
   "outputs": [],
   "source": [
    "fpr, tpr, thresholds = sk.metrics.roc_curve(Y_test, model.predict_proba(X_test)[:,1])\n",
    "plt.figure(figsize=(7, 7))\n",
    "plt.plot(fpr, tpr)\n",
    "plt.grid()\n",
    "\n",
    "plt.plot([0,1], [0,1], c='r')\n"
   ]
  },
  {
   "cell_type": "markdown",
   "metadata": {},
   "source": [
    "Для вычисления площади под кривой воспользуемся `metrics.auc`:"
   ]
  },
  {
   "cell_type": "code",
   "execution_count": null,
   "metadata": {},
   "outputs": [],
   "source": [
    "sk.metrics.auc(fpr, tpr)"
   ]
  },
  {
   "cell_type": "markdown",
   "metadata": {},
   "source": [
    "Интерпретация линейной модели:"
   ]
  },
  {
   "cell_type": "code",
   "execution_count": null,
   "metadata": {},
   "outputs": [],
   "source": [
    "list(zip(['pclass','nsex','fage','sibsp','parch'],model.coef_[0]))"
   ]
  },
  {
   "cell_type": "code",
   "execution_count": null,
   "metadata": {},
   "outputs": [],
   "source": [
    "plt.bar(['pclass','nsex','fage','sibsp','parch'],model.coef_[0])"
   ]
  },
  {
   "cell_type": "markdown",
   "metadata": {},
   "source": [
    "# Классификация. Деревья решений\n",
    "\n",
    "В этот раз для начала рассмотрим решение руками, после чего перейдём к встроенному функционалу `Sklearn`. Простейший алгоритм построения дерева решений - [ID3](https://ru.wikipedia.org/wiki/ID3_(%D0%B0%D0%BB%D0%B3%D0%BE%D1%80%D0%B8%D1%82%D0%BC))\n",
    "\n",
    "Подготовим данные, разобьём возраст на 3 группы:"
   ]
  },
  {
   "cell_type": "code",
   "execution_count": null,
   "metadata": {},
   "outputs": [],
   "source": [
    "df['agecat'] = df['fage'].apply(lambda x: \"young\" if x<18 else \"old\" if x>45 else \"middle\")"
   ]
  },
  {
   "cell_type": "markdown",
   "metadata": {},
   "source": [
    "Для начал определим вероятность выживания для каждого пола вне зависимости от других признаков:"
   ]
  },
  {
   "cell_type": "code",
   "execution_count": null,
   "metadata": {},
   "outputs": [],
   "source": [
    "for sex in df['sex'].unique():\n",
    "    print(f\"Probability for sex = {sex} is {df[df['sex'] == sex]['survived'].mean()}\")"
   ]
  },
  {
   "cell_type": "markdown",
   "metadata": {},
   "source": [
    "Выше представлен абстрактный первый уровень дерева, однако, для анализа был выбран именно пол.\n",
    "Проверим, какая будет точность у модели, если основным признаком будет что-то ещё:"
   ]
  },
  {
   "cell_type": "code",
   "execution_count": null,
   "metadata": {},
   "outputs": [],
   "source": [
    "def accuracy_by_attr(df,attr):\n",
    "    p = {}\n",
    "    for k in df[attr].unique():\n",
    "        p[k] = int(df[df[attr]==k]['survived'].mean()>=0.5)\n",
    "    return df.apply(lambda x: p[x[attr]]==x['survived'],axis=1).mean()\n",
    "\n",
    "for a in ['pclass','sex','agecat']:\n",
    "    print(f\"Accuracy by {a} = {accuracy_by_attr(df,a)}\")"
   ]
  },
  {
   "cell_type": "markdown",
   "metadata": {},
   "source": [
    "Суть задумки кажется ясной, выбрать главный признак, посчитать точность для него, после чего, сделать разветвление от этого признака на ещё два (класс или возраст) и т.д.\n",
    "\n",
    "Например, так будет выглядеть дерево с двумя уровнями для пола и класса:"
   ]
  },
  {
   "cell_type": "code",
   "execution_count": null,
   "metadata": {},
   "outputs": [],
   "source": [
    "for sex in ['male','female']:\n",
    "    df_1 = df[df['sex']==sex]\n",
    "    print(f\"{sex}, accuracy by pclass = {accuracy_by_attr(df_1,'pclass')}\")"
   ]
  },
  {
   "cell_type": "markdown",
   "metadata": {},
   "source": [
    "Большим минусом этого алгоритма является то, что он работает только с дискретными или категориальными атрибутами. \n",
    "\n",
    "Усовершенствованным алгоритмом является [C4.5](https://ru.wikipedia.org/wiki/C4.5), он поддерживает работу с числовыми атрибутами, неполной выборкой и т.д. В `Sklearn` для реализации этого алгоритма используется `DecisionTreeClassifier`.\n",
    "\n",
    "Работа деревьев решений на практике из `Sklearn`:"
   ]
  },
  {
   "cell_type": "code",
   "execution_count": 1,
   "metadata": {},
   "outputs": [
    {
     "ename": "NameError",
     "evalue": "name 'sk' is not defined",
     "output_type": "error",
     "traceback": [
      "\u001b[1;31m---------------------------------------------------------------------------\u001b[0m",
      "\u001b[1;31mNameError\u001b[0m                                 Traceback (most recent call last)",
      "Cell \u001b[1;32mIn[1], line 3\u001b[0m\n\u001b[0;32m      1\u001b[0m \u001b[38;5;28;01mimport\u001b[39;00m \u001b[38;5;21;01msklearn\u001b[39;00m\u001b[38;5;21;01m.\u001b[39;00m\u001b[38;5;21;01mtree\u001b[39;00m\n\u001b[1;32m----> 3\u001b[0m model \u001b[38;5;241m=\u001b[39m \u001b[43msk\u001b[49m\u001b[38;5;241m.\u001b[39mtree\u001b[38;5;241m.\u001b[39mD\n",
      "\u001b[1;31mNameError\u001b[0m: name 'sk' is not defined"
     ]
    }
   ],
   "source": [
    "import sklearn.tree\n",
    "\n",
    "model = sk.tree.DecisionTreeClassifier().fit(X_train, Y_train)\n",
    "Y_pred = model.predict(X_test)\n",
    "\n",
    "sk.metrics.accuracy_score(Y_test, Y_pred)"
   ]
  },
  {
   "cell_type": "markdown",
   "metadata": {},
   "source": [
    "Вспомним `GraphViz` и построим визуальное представление этого дерева:"
   ]
  },
  {
   "cell_type": "code",
   "execution_count": null,
   "metadata": {},
   "outputs": [],
   "source": [
    "model = sk.tree.DecisionTreeClassifier(max_depth=3).fit(X_train,Y_train)\n",
    "\n",
    "#graphviz.backend.dot_command.DOT_BINARY = 'c:/winapp/conda/Library/bin/graphviz/dot.exe'\n",
    "\n",
    "graphviz.Source(\n",
    "    sk.tree.export_graphviz(model,feature_names=features,class_names=['no','yes'],\n",
    "    filled=True, rounded=True, special_characters=True,impurity=False)\n",
    ")"
   ]
  },
  {
   "cell_type": "markdown",
   "metadata": {},
   "source": [
    "# Классификация. Машина опорных векторов (SVM)\n",
    "\n",
    "Изначально метод линейного разделения облаков точек, который легко обобщается на нелинейный случай. В других алгоритмах, при построении разделяющей прямой, искали такую, которая была бы равноудаленна от множества всех точек обоих облаков. Теперь же будем строить прямые, разделяющие облака (опорные точки на границе) под определённым углом. Таким образом, можно будет с одним и тем же углом строить параллельные прямые, создавая зазор между двумя крайними положениями на одном градусе наклона. Искомой прямой будет прямая с максимальным зазором.\n",
    "\n",
    "![Машина опорных векторов](https://i.imgur.com/VjrhPHJ.png)\n",
    "\n",
    "P.S. Этот алгоритм уменьшает количество вычислений для разделяющих прямых."
   ]
  },
  {
   "cell_type": "markdown",
   "metadata": {},
   "source": [
    "Вновь создадим датасет случайных точек:"
   ]
  },
  {
   "cell_type": "code",
   "execution_count": null,
   "metadata": {},
   "outputs": [],
   "source": [
    "X,Y = sk.datasets.make_classification(\n",
    "    n_samples=1000,n_features=2,random_state=3,\n",
    "    n_informative=2,n_redundant=0,\n",
    "    class_sep=2,n_clusters_per_class=1,flip_y=0)\n",
    "\n",
    "plt.scatter(X[:,0],X[:,1],c=['r' if x else 'b' for x in Y])\n",
    "plt.show()"
   ]
  },
  {
   "cell_type": "markdown",
   "metadata": {},
   "source": [
    "Построим разделяющую прямую с помощью метода опорных векторов (`sklearn.svm`)"
   ]
  },
  {
   "cell_type": "code",
   "execution_count": null,
   "metadata": {},
   "outputs": [],
   "source": [
    "import sklearn.svm, sklearn.inspection\n",
    "\n",
    "model = sk.svm.SVC(kernel=\"linear\", C=1000)\n",
    "model.fit(X, Y)\n",
    "\n",
    "plt.scatter(X[:, 0], X[:, 1], c=['r' if x else 'b' for x in Y])\n",
    "\n",
    "ax = plt.gca()\n",
    "# строим разделяющие прямые\n",
    "sk.inspection.DecisionBoundaryDisplay.from_estimator(\n",
    "    model,X,plot_method=\"contour\",colors=\"k\",\n",
    "    levels=[-1, 0, 1],alpha=0.5,\n",
    "    linestyles=[\"--\", \"-\", \"--\"], ax=ax)\n",
    "# обводим опорные вектора\n",
    "ax.scatter(\n",
    "    model.support_vectors_[:, 0], model.support_vectors_[:, 1],\n",
    "    s=100, linewidth=1, facecolors=\"none\", edgecolors=\"k\")\n",
    "\n",
    "plt.show()"
   ]
  },
  {
   "cell_type": "markdown",
   "metadata": {},
   "source": [
    "В примере выше, с помощью `kernel = \"linear\"` для разделения использовались прямые с линейным уравнением. Попробуем убрать этот аргумент и получим кривые, которые оборачивают облака и отделяют их от чего-либо ещё:"
   ]
  },
  {
   "cell_type": "code",
   "execution_count": null,
   "metadata": {},
   "outputs": [],
   "source": [
    "import sklearn.svm, sklearn.inspection\n",
    "\n",
    "model = sk.svm.SVC()\n",
    "model.fit(X, Y)\n",
    "\n",
    "plt.scatter(X[:, 0], X[:, 1], c=['r' if x else 'b' for x in Y])\n",
    "\n",
    "ax = plt.gca()\n",
    "# строим разделяющие прямые\n",
    "sk.inspection.DecisionBoundaryDisplay.from_estimator(\n",
    "    model,X,plot_method=\"contour\",colors=\"k\",\n",
    "    levels=[-1, 0, 1],alpha=0.5,\n",
    "    linestyles=[\"--\", \"-\", \"--\"], ax=ax)\n",
    "# обводим опорные вектора\n",
    "ax.scatter(\n",
    "    model.support_vectors_[:, 0], model.support_vectors_[:, 1],\n",
    "    s=100, linewidth=1, facecolors=\"none\", edgecolors=\"k\")\n",
    "\n",
    "plt.show()"
   ]
  },
  {
   "cell_type": "markdown",
   "metadata": {},
   "source": [
    "Для чего же может пригодиться такое отделение точек? Вот пример входных данных, в котором линейно невозможно отделить два облака точек друг от друга:"
   ]
  },
  {
   "cell_type": "code",
   "execution_count": null,
   "metadata": {},
   "outputs": [],
   "source": [
    "X,Y = sk.datasets.make_circles(n_samples=100,factor=0.5,noise=0.1)\n",
    "plt.figure(figsize=(7,7))\n",
    "plt.scatter(X[:, 0], X[:, 1], c=['r' if x else 'b' for x in Y])\n",
    "plt.show()"
   ]
  },
  {
   "cell_type": "markdown",
   "metadata": {},
   "source": [
    "Попробуем разделить точки с помощью машины опорных векторов:"
   ]
  },
  {
   "cell_type": "code",
   "execution_count": null,
   "metadata": {},
   "outputs": [],
   "source": [
    "model = sk.svm.SVC()\n",
    "model.fit(X, Y)\n",
    "\n",
    "plt.figure(figsize=(7,7))\n",
    "plt.scatter(X[:, 0], X[:, 1], c=['r' if x else 'b' for x in Y])\n",
    "ax = plt.gca()\n",
    "# строим разделяющие прямые\n",
    "sk.inspection.DecisionBoundaryDisplay.from_estimator(\n",
    "    model,X,plot_method=\"contour\",colors=\"k\",\n",
    "    levels=[-1, 0, 1],alpha=0.5,\n",
    "    linestyles=[\"--\", \"-\", \"--\"], ax=ax)\n",
    "\n",
    "plt.show()"
   ]
  },
  {
   "cell_type": "markdown",
   "metadata": {},
   "source": [
    "Сравним точность применения линейной модели и `SVM` на примере такой выборки:"
   ]
  },
  {
   "cell_type": "code",
   "execution_count": null,
   "metadata": {},
   "outputs": [],
   "source": [
    "X_train, X_test, Y_train, Y_test = sk.model_selection.train_test_split(X,Y,test_size=0.2,shuffle=True)\n",
    "\n",
    "linmodel = sk.linear_model.LogisticRegression().fit(X_train,Y_train)\n",
    "\n",
    "print(f\"Linear accuracy = {sk.metrics.accuracy_score(Y_test,linmodel.predict(X_test))}\")\n",
    "print(f\"Non-lin SVM accuracy = {sk.metrics.accuracy_score(Y_test,model.predict(X_test))}\")"
   ]
  },
  {
   "cell_type": "markdown",
   "metadata": {},
   "source": [
    "Можно вспомнить, что для увеличения точности порой прибегают к увеличению кол-ва признаков различными путями. Добавим квадрты признаков в линейную модель:"
   ]
  },
  {
   "cell_type": "code",
   "execution_count": null,
   "metadata": {},
   "outputs": [],
   "source": [
    "X_train_aug = np.hstack([X_train,X_train*X_train])\n",
    "X_test_aug = np.hstack([X_test,X_test*X_test])\n",
    "\n",
    "linaugmodel = sk.linear_model.LogisticRegression().fit(X_train_aug,Y_train)\n",
    "\n",
    "print(f\"Augmented linear accuracy = {sk.metrics.accuracy_score(Y_test,linaugmodel.predict(X_test_aug))}\")"
   ]
  },
  {
   "cell_type": "markdown",
   "metadata": {},
   "source": [
    "Заметим, что точность равна `SVM`, это связано с тем, что уравнение окружности состоит из квадратов."
   ]
  },
  {
   "cell_type": "markdown",
   "metadata": {},
   "source": [
    "# Мультиклассовая классификация\n",
    "\n",
    "Одной из самых распространённых задач такой классификации является распознание рукописного ввода. Для работы с мультиклассовой классификацией будем использовать датасет `MNIST`, в который включено более 60к рукописных цифр от разных людей. Каждая цифра в нём представлена матрицей 28x28 точек в 256 градациях серого.\n",
    "\n",
    "P.S. С помощью `fetch_openml` можно обращаться к открытым датасетам"
   ]
  },
  {
   "cell_type": "code",
   "execution_count": 45,
   "metadata": {},
   "outputs": [
    {
     "name": "stdout",
     "output_type": "stream",
     "text": [
      "(70000, 784) (70000,)\n"
     ]
    }
   ],
   "source": [
    "from sklearn.datasets import fetch_openml\n",
    "\n",
    "mnist = fetch_openml('mnist_784')\n",
    "\n",
    "X = mnist.data\n",
    "Y = mnist.target\n",
    "\n",
    "print(X.shape, Y.shape)"
   ]
  },
  {
   "cell_type": "markdown",
   "metadata": {},
   "source": [
    "Выведем изображения из датасета:"
   ]
  },
  {
   "cell_type": "code",
   "execution_count": 46,
   "metadata": {},
   "outputs": [
    {
     "data": {
      "image/png": "[encoded data removed]",
      "text/plain": [
       "<Figure size 640x480 with 5 Axes>"
      ]
     },
     "metadata": {},
     "output_type": "display_data"
    }
   ],
   "source": [
    "fig, ax = plt.subplots(1, 5)\n",
    "\n",
    "for i in range(5):\n",
    "    ax[i].imshow(X.iloc[i].to_numpy().reshape(28, 28))\n",
    "    ax[i].set_title(Y[i])\n",
    "    ax[i].axis('off')\n",
    "\n",
    "plt.show()"
   ]
  },
  {
   "cell_type": "markdown",
   "metadata": {},
   "source": [
    "По классике, разобьём датасет на две выборки, но в этот раз используем для обучения всего-лишь 10К записей, дабы ускорить процесс:"
   ]
  },
  {
   "cell_type": "code",
   "execution_count": 71,
   "metadata": {},
   "outputs": [],
   "source": [
    "X_train, X_test, Y_train, Y_test = \\\n",
    "  sk.model_selection.train_test_split(X,Y,train_size=10000, test_size=10000)"
   ]
  },
  {
   "cell_type": "markdown",
   "metadata": {},
   "source": [
    "Ранее рассматривалась только бинарная классификация, поэтому для многоклассовой классификации можно использовать подход `один против всех`. Начнём с задачи классиификации нуля:"
   ]
  },
  {
   "cell_type": "code",
   "execution_count": 69,
   "metadata": {},
   "outputs": [
    {
     "name": "stderr",
     "output_type": "stream",
     "text": [
      "d:\\Slavik\\Coding\\PycharmProjects\\AI_MAI\\.venv\\lib\\site-packages\\sklearn\\linear_model\\_logistic.py:469: ConvergenceWarning: lbfgs failed to converge (status=1):\n",
      "STOP: TOTAL NO. of ITERATIONS REACHED LIMIT.\n",
      "\n",
      "Increase the number of iterations (max_iter) or scale the data as shown in:\n",
      "    https://scikit-learn.org/stable/modules/preprocessing.html\n",
      "Please also refer to the documentation for alternative solver options:\n",
      "    https://scikit-learn.org/stable/modules/linear_model.html#logistic-regression\n",
      "  n_iter_i = _check_optimize_result(\n"
     ]
    },
    {
     "data": {
      "text/plain": [
       "0.9906"
      ]
     },
     "execution_count": 69,
     "metadata": {},
     "output_type": "execute_result"
    }
   ],
   "source": [
    "Y0_train = Y_train == '0'\n",
    "Y0_test = Y_test == '0'\n",
    "\n",
    "model = sk.linear_model.LogisticRegression().fit(X_train, Y0_train)\n",
    "\n",
    "sklearn.metrics.accuracy_score(Y0_test, model.predict(X_test))"
   ]
  },
  {
   "cell_type": "markdown",
   "metadata": {},
   "source": [
    "В сообщении выше сказано о том, что модель достигал максимального количества итераций, при которых ошибка не уменьшалась.\n",
    "\n",
    "Для решения данной проблемы существует два варианта:\n",
    "\n",
    "- Использование другого solver-а, который оптимизирует ошибку, например `lbfgs` это не градиентный спуск, это лишь один из методов нахождения минимума. Такие методы можно перебрать вручную и узнать, какой из них даёт наибольшую точность.\n",
    "- Есть так же смысл провести нормирование серого цвета, который идёт от 0 до 255, привести его к диапазону от 0 до 1.\n",
    "\n",
    "Нормируем признаки и посмотрим, что получится:"
   ]
  },
  {
   "cell_type": "code",
   "execution_count": 70,
   "metadata": {},
   "outputs": [
    {
     "data": {
      "text/plain": [
       "0.9916"
      ]
     },
     "execution_count": 70,
     "metadata": {},
     "output_type": "execute_result"
    }
   ],
   "source": [
    "model = sk.linear_model.LogisticRegression(solver='newton-cg').fit(X_train/255.0, Y0_train)\n",
    "\n",
    "sk.metrics.accuracy_score(Y0_test, model.predict(X_test/255.0))"
   ]
  },
  {
   "cell_type": "markdown",
   "metadata": {},
   "source": [
    "В примере выше, повысилась точность и пропала ошибка. \n",
    "\n",
    "Теперь, необходимо понять, как расширить эту модель на все цифры, не создавать же по одной модели на каждую цифру. `Sklearn` содержит `OneVsRestClassifier`, который позволяет преобразовать любой бинарный классификатор в мультиклассовый с подходом `Один против всех`."
   ]
  },
  {
   "cell_type": "code",
   "execution_count": 72,
   "metadata": {},
   "outputs": [
    {
     "data": {
      "text/plain": [
       "0.8998"
      ]
     },
     "execution_count": 72,
     "metadata": {},
     "output_type": "execute_result"
    }
   ],
   "source": [
    "import sklearn.multiclass\n",
    "\n",
    "model = sklearn.multiclass.OneVsRestClassifier(\n",
    "    sk.linear_model.LogisticRegression(solver='newton-cg')\n",
    ")\n",
    "\n",
    "model.fit(X_train/255.0, Y_train)\n",
    "sk.metrics.accuracy_score(Y_test, model.predict(X_test/255.0))"
   ]
  },
  {
   "cell_type": "markdown",
   "metadata": {},
   "source": [
    "Взглянем на матрицу ошибок:"
   ]
  },
  {
   "cell_type": "code",
   "execution_count": 73,
   "metadata": {},
   "outputs": [
    {
     "data": {
      "image/png": "[encoded data removed]",
      "text/plain": [
       "<Figure size 640x480 with 2 Axes>"
      ]
     },
     "metadata": {},
     "output_type": "display_data"
    }
   ],
   "source": [
    "sk.metrics.ConfusionMatrixDisplay.from_estimator(model, X_test/255.0, Y_test)\n",
    "plt.show()"
   ]
  },
  {
   "cell_type": "markdown",
   "metadata": {},
   "source": [
    "`OneVsRestClassifier` может превратить любой бинарный классификатор в мультиклассовый, помимо него, в `Sklearn` многие классификаторы так же поддерживают мультиклассовый режим, проверим это на примере `LogisticRegression`:"
   ]
  },
  {
   "cell_type": "code",
   "execution_count": 77,
   "metadata": {},
   "outputs": [
    {
     "data": {
      "text/plain": [
       "0.9005"
      ]
     },
     "execution_count": 77,
     "metadata": {},
     "output_type": "execute_result"
    }
   ],
   "source": [
    "model = sk.linear_model.LogisticRegression(solver='newton-cg')\n",
    "model.fit(X_train/255.0, Y_train)\n",
    "\n",
    "sk.metrics.accuracy_score(Y_test, model.predict(X_test / 255.0))"
   ]
  },
  {
   "cell_type": "markdown",
   "metadata": {},
   "source": [
    "В моделях регрессии всегда можно было вывести коэффиценты, интересно, как же теперь отобразятся коэффиценты в случае работы с матрицами:"
   ]
  },
  {
   "cell_type": "code",
   "execution_count": 78,
   "metadata": {},
   "outputs": [
    {
     "data": {
      "image/png": "[encoded data removed]",
      "text/plain": [
       "<Figure size 1500x600 with 10 Axes>"
      ]
     },
     "metadata": {},
     "output_type": "display_data"
    }
   ],
   "source": [
    "fig,ax = plt.subplots(1,10,figsize=(15,6))\n",
    "for i in range(10):\n",
    "    ax[i].imshow(model.coef_[i].reshape(28,28))\n",
    "    ax[i].axis('off')\n",
    "plt.show()"
   ]
  },
  {
   "cell_type": "markdown",
   "metadata": {},
   "source": [
    "Выше изображены паттерны всех цифр и значимость точек в них. Этот паттерн с коэффицентами умножается на изображение и на выходе получается тот класс, чей паттерн лучше совпадает с картинкой.\n",
    "\n",
    "Проблемой этого подхода является привязанность к местоположению цифры, то есть, если единичка полностью попадёт в паттерн нуля на одной из дуг, то эта цифра с большой вероятностью будет определена, как ноль\n",
    "\n",
    "Для решения этих проблем в дальнейшем будут использоваться свёрточные нейронные сети."
   ]
  },
  {
   "cell_type": "markdown",
   "metadata": {},
   "source": [
    "# Кросс-валидация (K-Fold Cross Validation)\n",
    "\n",
    "Ранее для подготовки модели, датасет делился на обучающую и тестовую выборку, тем самым появлялось 2 проблемы:\n",
    "\n",
    "- Пропадает часть выборки (не используется в обучении)\n",
    "- Вероятность плохого разделения выборки на тестовую и обучающую\n",
    "\n",
    "Таким образом, от разделения во многом зависит итоговая точность модели. Чтобы избегать этого, используется кросс-валидация.\n",
    "\n",
    "Кросс-валидация - принцип заключается в том, чтобы разделить выборку на n частей, после чего использовать 1 часть, как тестовую, а (n-1) как обучающую. Это будет одна модель, таких моделей надо обучить n штук, каждый раз меняя тестовую часть выборки. Получив n моделей, сравниваем их точность.\n",
    "\n",
    "- Если точность всех моделей приблизительно равна, то это хорошее разделение выборки.\n",
    "- Если точность разнится, то необходимо её усреднить.\n",
    "\n",
    "\n",
    "Так же кросс валидация позволяет построить точность предсказания исходного датасета, взяв предсказания каждой модели по отдельности\n",
    "\n",
    "\n",
    "На практике для этого используется модель `cross_val_score`:"
   ]
  },
  {
   "cell_type": "code",
   "execution_count": null,
   "metadata": {},
   "outputs": [],
   "source": [
    "model = sk.linear_model.LogisticRegression(solver='newton-cg')\n",
    "\n",
    "scores = sk.model_selection.cross_val_score(model, X/255.0, Y, cv=5)\n",
    "scores"
   ]
  },
  {
   "cell_type": "markdown",
   "metadata": {},
   "source": [
    "Различные стратегии разбиения выборки достигаются с помощью параметра `cv`.\n",
    "\n",
    "Чтобы получить обученные модели во время кросс-валидации, используется `cross_validate`.\n",
    "\n",
    "Существует так же метод `cross_val_predict`, возвращающий предсказания модели для каждого из элементов входного датасета, когда он был частью тестовой выборки (предсказание исходного датасета)."
   ]
  },
  {
   "cell_type": "code",
   "execution_count": null,
   "metadata": {},
   "outputs": [],
   "source": [
    "scores.mean(), scores.std()"
   ]
  },
  {
   "cell_type": "markdown",
   "metadata": {},
   "source": [
    "# Кластеризация\n",
    "\n",
    "Все методы до этого использовали обучение с учителем (обучающей выборкой). Однако, в некоторых случаях можно обойтись без целевой функции, используя свойства самого датасета, это относят к методам обучения без учителя. Кластеризация относится к такому типу.\n",
    "\n"
   ]
  },
  {
   "cell_type": "markdown",
   "metadata": {},
   "source": [
    "Вернёмся к датасету рукописных цифр `MNIST`:"
   ]
  },
  {
   "cell_type": "code",
   "execution_count": 1,
   "metadata": {},
   "outputs": [],
   "source": [
    "import sklearn as sk\n",
    "import sklearn.model_selection\n",
    "from sklearn.datasets import fetch_openml\n",
    "\n",
    "import numpy as np\n",
    "import matplotlib.pyplot as plt"
   ]
  },
  {
   "cell_type": "code",
   "execution_count": 2,
   "metadata": {},
   "outputs": [
    {
     "name": "stdout",
     "output_type": "stream",
     "text": [
      "(70000, 784) (70000,)\n"
     ]
    }
   ],
   "source": [
    "mnist = fetch_openml('mnist_784')\n",
    "\n",
    "X = mnist.data.to_numpy() / 255.0\n",
    "Y = mnist.target.to_numpy().astype(np.uint8)\n",
    "\n",
    "print(X.shape, Y.shape)"
   ]
  },
  {
   "cell_type": "markdown",
   "metadata": {},
   "source": [
    "Подумаем, как бы можно было написать классификатор рукописных цифр руками...\n",
    "\n",
    "Если представить изображение цифры, как некоторый вектор длиной 784 и взять пространство размерности 784, то каждый рукописная цифра будет представлена в этом пространстве, как точка. Предположим, что одинаковые цифры в этом пространстве находятся довольно близко друг к другу.\n",
    "\n",
    "С таким подходом, для пришедшей точки, будем искать минимальное расстояние до других точек. Класс точки с минимальным расстоянием - результирующий класс.\n",
    "\n",
    "## KNN классификаторы\n",
    "\n",
    "Выше был описан алгоритм k-ближайших соседей. Этот алгоритм используется, если на множестве данных существует некоторая метрика близости (расстояния). В случае рукописных цифр за метрику расстояния можно принять среднеквадратичную разность между яркостями всех пикселей изображения."
   ]
  },
  {
   "cell_type": "code",
   "execution_count": 3,
   "metadata": {},
   "outputs": [
    {
     "name": "stdout",
     "output_type": "stream",
     "text": [
      "Distance between 8 and 5 is 133.79578623606307\n",
      "Distance between 6 and 0 is 181.08935024990387\n",
      "Distance between 3 and 2 is 111.16136870434448\n",
      "Distance between 9 and 8 is 74.67675509419453\n",
      "Distance between 0 and 5 is 96.5605382545175\n",
      "Distance between 6 and 1 is 139.96739715494041\n",
      "Distance between 9 and 1 is 130.2809073433295\n",
      "Distance between 5 and 7 is 102.25808535178778\n",
      "Distance between 2 and 5 is 113.64216839677049\n",
      "Distance between 1 and 1 is 23.01811610918877\n",
      "Distance between 6 and 7 is 121.25397923875434\n",
      "Distance between 5 and 6 is 148.93239523260286\n",
      "Distance between 6 and 1 is 118.29288735101883\n",
      "Distance between 3 and 2 is 118.08339869281045\n",
      "Distance between 1 and 2 is 94.91151095732413\n"
     ]
    }
   ],
   "source": [
    "def dist(X, Y):\n",
    "    return np.sum((X - Y) * (X - Y))\n",
    "\n",
    "for _ in range(15):\n",
    "    i,j = np.random.randint(0,len(X),size=2)\n",
    "    print(f\"Distance between {Y[i]} and {Y[j]} is {dist(X[i],X[j])}\")"
   ]
  },
  {
   "cell_type": "markdown",
   "metadata": {},
   "source": [
    "Выше посчитаны расстояния между цифрами (метрика - квадрат разности пикселей), можно заметить, что у одинаковых цифр расстояние намного меньше.\n",
    "\n",
    "Раз такая метрика даёт результат, то для классификации будем использовать следующий алгоритм:\n",
    "\n",
    "1) Ищем изображение X, которое имеет минимальное расстояние до входного\n",
    "2) В качестве ответа возвращаем класс этого изображения X"
   ]
  },
  {
   "cell_type": "code",
   "execution_count": 4,
   "metadata": {},
   "outputs": [
    {
     "name": "stdout",
     "output_type": "stream",
     "text": [
      "8 classified as 8\n",
      "8 classified as 8\n",
      "6 classified as 6\n",
      "9 classified as 9\n",
      "8 classified as 8\n",
      "9 classified as 9\n",
      "9 classified as 9\n",
      "1 classified as 1\n",
      "8 classified as 8\n",
      "1 classified as 1\n",
      "4 classified as 4\n",
      "5 classified as 5\n",
      "2 classified as 2\n",
      "1 classified as 1\n",
      "3 classified as 3\n",
      "3 classified as 3\n",
      "5 classified as 5\n",
      "1 classified as 1\n",
      "3 classified as 3\n",
      "7 classified as 7\n",
      "Accuracy: 1.0\n"
     ]
    }
   ],
   "source": [
    "X_train, X_test, Y_train, Y_test = \\\n",
    "   sk.model_selection.train_test_split(X,Y,train_size=10000, test_size=2000,shuffle=True)\n",
    "\n",
    "def classify(input_img):\n",
    "    i = np.argmin([dist(x,input_img) for x in X_train])\n",
    "    return Y_train[i]\n",
    "\n",
    "n = 20\n",
    "correct = 0\n",
    "for x,y in zip(X_test[:n],Y_test[:n]):\n",
    "    r = classify(x)\n",
    "    print(f\"{y} classified as {r}\")\n",
    "    correct += (y==r)\n",
    "print(f\"Accuracy: {correct/n}\")"
   ]
  },
  {
   "cell_type": "markdown",
   "metadata": {},
   "source": [
    "Для нахождения минимального расстояния использовалась функция `numpy.argmin`, которая из множества решений находит индекс наименьшего.\n",
    "\n",
    "Видно, что точность получена 1, поскольку каждый раз модель просматривает весь датасет с нуля, то есть она не обучается. Если запускать несколько раз, то можно заметить, что точность может падать. Правильно точность таких моделей посчитать довольно сложно. В данной ситуации был реализован KNN классификатор с K=1."
   ]
  },
  {
   "cell_type": "markdown",
   "metadata": {},
   "source": [
    "Для повышения точности следует использовать следующий алгоритм:\n",
    "\n",
    "- Выбираем K ближайших по расстоянию цифр к входной цифре I\n",
    "- Из этого множества ближайших возвращаем ту цифру, которая встречается наибольшее количество раз\n",
    "\n",
    "При чём в качестве K чаще всего берут нечётное число.\n",
    "\n",
    "![KNN-3](https://i.imgur.com/vLw0205.png)\n",
    "\n",
    "KNN-классификатор также включен в `Sklearn`:"
   ]
  },
  {
   "cell_type": "code",
   "execution_count": 5,
   "metadata": {},
   "outputs": [
    {
     "name": "stdout",
     "output_type": "stream",
     "text": [
      "Accuracy for k=1 is 0.9435\n",
      "Accuracy for k=2 is 0.9335\n",
      "Accuracy for k=3 is 0.9485\n",
      "Accuracy for k=4 is 0.9455\n",
      "Accuracy for k=5 is 0.9505\n",
      "Accuracy for k=6 is 0.945\n",
      "Accuracy for k=7 is 0.9455\n",
      "Accuracy for k=8 is 0.947\n",
      "Accuracy for k=9 is 0.9455\n"
     ]
    }
   ],
   "source": [
    "import sklearn.metrics\n",
    "import sklearn.neighbors\n",
    "\n",
    "res = []\n",
    "\n",
    "for i in range(1, 10):\n",
    "    model = sk.neighbors.KNeighborsClassifier(n_neighbors=i)\n",
    "    model.fit(X_train, Y_train)\n",
    "\n",
    "    acc = sk.metrics.accuracy_score(Y_test, model.predict(X_test))\n",
    "    print(f\"Accuracy for k={i} is {acc}\")\n",
    "    res.append(acc)"
   ]
  },
  {
   "cell_type": "markdown",
   "metadata": {},
   "source": [
    "Из теста выше видно, что K=5 даёт наилучшую точность вычисления.\n",
    "\n",
    "Такой параметр k называется гиперпараметром модели (важно не путать с признаками входных данных).\n",
    "\n",
    "А процесс выше называется оптимизацией гиперпараметров."
   ]
  },
  {
   "cell_type": "code",
   "execution_count": null,
   "metadata": {},
   "outputs": [],
   "source": []
  }
 ],
 "metadata": {
  "kernelspec": {
   "display_name": "Python 3 (ipykernel)",
   "language": "python",
   "name": "python3"
  },
  "language_info": {
   "codemirror_mode": {
    "name": "ipython",
    "version": 3
   },
   "file_extension": ".py",
   "mimetype": "text/x-python",
   "name": "python",
   "nbconvert_exporter": "python",
   "pygments_lexer": "ipython3",
   "version": "3.10.9"
  }
 },
 "nbformat": 4,
 "nbformat_minor": 4
}

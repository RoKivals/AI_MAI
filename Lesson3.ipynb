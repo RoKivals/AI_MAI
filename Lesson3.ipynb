{
 "cells": [
  {
   "cell_type": "markdown",
   "metadata": {},
   "source": [
    "# Машинное обучение. Введение\n",
    "При рассмотрении ИИ, было установлено два основополагающих подхода (нисходящий и восходящий), на их стыке находится машинное обучение, которое работает непосредственно с данными, и устанавливает между ними взаимосвязи.\n",
    "\n",
    "Машинное обучение извлекает знания из данных. МО может работать не только с нейронными сетями, но и с более простыми алгоритмами.\n",
    "\n",
    "Ссылки: [Весь код из примеров ниже](https://github.com/shwars/ai_course/blob/main/02-MLExpress/ExpressML.ipynb)"
   ]
  },
  {
   "cell_type": "markdown",
   "metadata": {},
   "source": [
    "## Машинное обучение и Программирование\n",
    "\n",
    "МО часто сравнивают с классическим программированием, поскольку процесс написания и построения программы чем-то похожи, только на выходе в случае программирования мы получаем какой-то абстрактный результат, а в случае МО, мы получаем программу.\n",
    "\n",
    "![Сравнение МО и программирования](https://i.imgur.com/ZEksKMx.png)\n"
   ]
  },
  {
   "cell_type": "markdown",
   "metadata": {},
   "source": [
    "## Машинное обучение.\n",
    "На картинке ниже представлены компоненты, из которых строится программа МО.\n",
    "\n",
    "![Процесс создания программы МО](https://i.imgur.com/hFeUOBD.png)\n",
    "\n",
    "Полученная программа - модель проверяется на качество обучения. Для этого используется тестовый датасет (важно, чтобы он не был включён в обучающий датасет).\n",
    "\n",
    "![Проверка модели](https://i.imgur.com/Jl8iwDV.png)"
   ]
  },
  {
   "cell_type": "markdown",
   "metadata": {},
   "source": [
    "## Машинное обучение. Инструменты статистики.\n",
    "\n",
    "Перед написанием модели, зачастую приходится проанализировать датасет, для этого можно использовать различные инструменты, от Python, до Excel.\n",
    "\n",
    "Например, в Excel для этого очень удобно использовать сводные таблицы, в Python - numpy, pandas."
   ]
  },
  {
   "cell_type": "markdown",
   "metadata": {},
   "source": [
    "## Машинное обучение. Задачи\n",
    "\n",
    "Обучение с учителем. Существует обучающая выборка, в которой есть набор параметров и ответ на интересующий нас запрос.\n",
    "Примеры:\n",
    "- Регрессия (нахождение значения на основе параметров)\n",
    "- Классификация (определение класса объекта по параметрам)\n",
    "\n",
    "\n",
    "Обучение без учителя. Обучающей выборки не существует, есть лишь представление об обработке тех или иных параметров, после чего модель при поступлении данных начнётся постепенно обучаться на них, создавая и совершенствуя правила обработки.\n",
    "\n",
    "Примеры: \n",
    "- Кластеризация (группировка похожих объектов по определённым параметрам)\n",
    "- Обучение с подкреплением (обучение на самом себе, отбрасывая неудачные попытки). Пример - обучение игре в шахматы.\n",
    "\n",
    "![Задачи МО](https://i.imgur.com/0HyDL74.png)"
   ]
  },
  {
   "cell_type": "markdown",
   "metadata": {},
   "source": [
    "## Машинное обучение. Пример предсказания стоимости билета на поезд.\n",
    "\n",
    "Рассмотрим пример машинного обучения задачи регрессии. Посмотрим, что используется в нашей обучающей выборке.\n",
    "\n",
    "X - признаки, от которых зависит искомое значение (параметры). В нашем случае расстояние, класс билета, время в пути.\n",
    "Y - искомое значение - то, что мы непосредственно хотим научиться прогнозировать. В нашем случае это стоимость билета.\n",
    "\n",
    "Признаки бывают числовыми и категориальными (те, что выражены словами).\n",
    "\n",
    "![Описание обучающей выборки](https://i.imgur.com/ehkoV9Q.png)"
   ]
  },
  {
   "cell_type": "markdown",
   "metadata": {},
   "source": [
    "Для числового признака (расстояния) можно построить график зависимости цены от расстояния. После чего провести апроксимирующую прямую (которая усредняет значения набора точек). После чего, для прогноза цены билета с любым расстоянием, можно провести линию к этой прямой и оттуда к оси цены и получить прогноз.\n",
    "\n",
    "![График одного числового признака](https://i.imgur.com/ulAAqVj.png)"
   ]
  },
  {
   "cell_type": "markdown",
   "metadata": {},
   "source": [
    "## Машинное обучение. Математика регрессии. Простейший случай\n",
    "\n",
    "Наша модель имеет линейную формулу (aX + b).\n",
    "Ошибка - расстояние (разница) между фактическим значением искомого параметра и значением, полученным с помощью апроксимации. Ошибка L(a, b) - сумма всех расстояний.\n",
    "\n",
    "Задача - подбор параметров a, b таких, что ошибка будет минимальной\n",
    "\n",
    "![Пример регрессии и ошибки на графике](https://i.imgur.com/3mCK56b.png)\n",
    "\n",
    "## Метод наименьших квадратов.\n",
    "\n",
    "Для вычисления ошибки зачастую используется метод наименьших квадратов, где высчитываются все квадраты отклонений, после чего берётся 0 производной и вычисляются параметры a, b.\n",
    "\n",
    "![Метод наименьших квадратов 1](https://i.imgur.com/KXjPyMU.png)\n",
    "\n",
    "Вычисление параметров имеет следующие формулы для одномерного и многомерного случаев:\n",
    "\n",
    "![Метод наименьших квадратов 2](https://i.imgur.com/s2n8E9E.png)"
   ]
  },
  {
   "cell_type": "markdown",
   "metadata": {},
   "source": [
    "## Машинное обучение. Практика на Python. Предсказание стоимости билета на поезд.\n",
    "\n",
    "Будем использовать датасет с информацией о билетах в Европе. В датасете присутствует расстояние между городами, точки отправки и назначения, тип вагона, тип билета, время в пути, кол-во пассажиров и т.д. На его примере разберём, как строится модель для машинного обучения и прогнозирования цены билета от нескольких факторов."
   ]
  },
  {
   "cell_type": "code",
   "execution_count": 1,
   "metadata": {},
   "outputs": [],
   "source": [
    "import numpy as np\n",
    "import pandas as pd\n",
    "import matplotlib.pyplot as plt\n",
    "import sklearn as sk\n",
    "\n",
    "import sklearn.preprocessing\n",
    "import sklearn.pipeline\n",
    "import sklearn.linear_model\n",
    "import sklearn.compose\n",
    "import sklearn.tree\n"
   ]
  },
  {
   "cell_type": "code",
   "execution_count": 2,
   "metadata": {},
   "outputs": [],
   "source": [
    "df = pd.read_csv(\"./data/renfe-rail-sample.zip\", compression='zip')"
   ]
  },
  {
   "cell_type": "markdown",
   "metadata": {},
   "source": [
    "Разобьём датасет на обучающую и тестовую выборку. `train_size` отвечает за процент данных для обучающей выборки от всего датасета."
   ]
  },
  {
   "cell_type": "code",
   "execution_count": 3,
   "metadata": {},
   "outputs": [],
   "source": [
    "df_train, df_test = sk.model_selection.train_test_split(df, train_size=0.8)"
   ]
  },
  {
   "cell_type": "markdown",
   "metadata": {},
   "source": [
    "Начнём прогнозирование одного параметра (расстояния). Изобразим график:"
   ]
  },
  {
   "cell_type": "code",
   "execution_count": 4,
   "metadata": {},
   "outputs": [
    {
     "data": {
      "image/png": "[encoded data removed]",
      "text/plain": [
       "<Figure size 640x480 with 1 Axes>"
      ]
     },
     "metadata": {},
     "output_type": "display_data"
    }
   ],
   "source": [
    "X = df_train[\"geodistance\"]\n",
    "Y = df_train[\"price\"]\n",
    "\n",
    "plt.scatter(X, Y)\n",
    "plt.show()"
   ]
  },
  {
   "cell_type": "markdown",
   "metadata": {},
   "source": [
    "Для нахождения коэффицентов `a`, `b` используем метод наименьших квадратов (см. выше)."
   ]
  },
  {
   "cell_type": "code",
   "execution_count": 5,
   "metadata": {},
   "outputs": [
    {
     "name": "stdout",
     "output_type": "stream",
     "text": [
      "a=0.1512238727079869, b=-0.0006874199309329898\n"
     ]
    }
   ],
   "source": [
    "n = len(X)\n",
    "a = (X.sum()*Y.sum()-n*(X*Y).sum())/(X.sum()*X.sum()-n*(X*X).sum())\n",
    "b = (Y.sum()*(X*X).sum()-X.sum()*(X*Y).sum())/(X*X).sum()/(n-X.sum())\n",
    "print(f\"a={a}, b={b}\")"
   ]
  },
  {
   "cell_type": "markdown",
   "metadata": {},
   "source": [
    "Построение апроксимирующей прямой для одного называется линейной регрессией. Для большего кол-ва параметров, используются многомерные апроксимирующие плоскости (их вычисление так же было приведено выше).\n",
    "\n",
    "Построим её на предыдущем графике:"
   ]
  },
  {
   "cell_type": "code",
   "execution_count": 6,
   "metadata": {},
   "outputs": [
    {
     "data": {
      "image/png": "[encoded data removed]",
      "text/plain": [
       "<Figure size 640x480 with 1 Axes>"
      ]
     },
     "metadata": {},
     "output_type": "display_data"
    }
   ],
   "source": [
    "plt.scatter(X,Y)\n",
    "lX = [X.min(),X.max()]\n",
    "lY = [a*x+b for x in lX]\n",
    "plt.plot(lX,lY,c='red')\n",
    "plt.show()"
   ]
  },
  {
   "cell_type": "markdown",
   "metadata": {},
   "source": [
    "## Подсчёт ошибки.\n",
    "\n",
    "Будем высчитывать ошибку на тестовой выборке. Для этого существуют следующие алгоритмы:\n",
    "- Среднеквадратичное отклонение (MSE)\n",
    "- Средняя (абсолютная) ошибка (MAE)\n",
    "- Относительная средняя ошибка. Показатель ошибки в процентах относительно среднего значения целевой величины.\n",
    "\n",
    "![Ошибки на тестовой выборке](https://i.imgur.com/EzeEKJm.png)"
   ]
  },
  {
   "cell_type": "code",
   "execution_count": 7,
   "metadata": {},
   "outputs": [
    {
     "name": "stdout",
     "output_type": "stream",
     "text": [
      "MSE=16.320856448215892, MAE=13.62772010679725, MAE(%)=0.2857375900575813\n"
     ]
    }
   ],
   "source": [
    "X_t, Y_t = df_test[\"geodistance\"], df_test[\"price\"]\n",
    "\n",
    "def MSE(x,y):\n",
    "    return np.mean(np.square(x-y)) \n",
    "\n",
    "def MAE(x,y):\n",
    "    return np.mean(np.abs(x-y))\n",
    "\n",
    "print(f\"MSE={np.sqrt(MSE(a*X_t+b,Y_t))}, MAE={MAE(a*X_t+b,Y_t)}, MAE(%)={MAE(a*X_t+b,Y_t)/Y_t.mean()}\")"
   ]
  },
  {
   "cell_type": "markdown",
   "metadata": {},
   "source": [
    "## Оптимизация обучения модели. Метод градиентного спуска\n",
    "\n",
    "Среднее квадратичное отлично работает для малых и средних размерностей. Но если размерность большая или функция ошибки является сложной, то прибегают к оптмизационным численным способам нахождения параметров `a`, `b`.\n",
    "\n",
    "Численный метод зависит от обучающего датасета и некого параметра Тэта. После чего вычисляем предсказание, зависящее от параметров и Тэта, вычисляем ошибку и подбираем Тэта так, чтобы минимизировать ошибку.\n",
    "\n",
    "По сути, это численная задача нахождения экстремума функции ошибки (минимума), у этой задачи есть множество алгоритмов решений, рассмотрим метод градиентного спуска.\n",
    "\n",
    "![Минимизация ошибки](https://i.imgur.com/siDIhNj.png)\n",
    "\n",
    "![Метод градиентного спуска](https://i.imgur.com/zZIztIr.png)\n",
    "\n",
    "P.S. Значение шага Тета необходимо подбирать опытным путём, пока ошибка не станет уменьшаться."
   ]
  },
  {
   "cell_type": "code",
   "execution_count": 8,
   "metadata": {},
   "outputs": [
    {
     "name": "stdout",
     "output_type": "stream",
     "text": [
      "Epoch 0: MSE=187404.80239832093\n",
      "Epoch 1: MSE=46099.65196143419\n",
      "Epoch 2: MSE=11489.471911669887\n",
      "Epoch 3: MSE=3012.3246923912534\n",
      "Epoch 4: MSE=935.9984531582897\n",
      "Epoch 5: MSE=427.4393186602263\n",
      "Epoch 6: MSE=302.8768155866731\n",
      "Epoch 7: MSE=272.3674486581748\n",
      "Epoch 8: MSE=264.89472240515437\n",
      "Epoch 9: MSE=263.06441101847764\n"
     ]
    }
   ],
   "source": [
    "a,b = np.random.normal(size=2)\n",
    "eta = 0.000005\n",
    "for i in range(10):\n",
    "    print(f\"Epoch {i}: MSE={MSE(a*X+b,Y)}\")\n",
    "    # print(f\"a={a},b={b}\")\n",
    "    a,b = a-eta*((a*X+b-Y)*X).mean(), b-eta*(a*X+b-Y).mean()"
   ]
  },
  {
   "cell_type": "markdown",
   "metadata": {},
   "source": [
    "Выведем прямую из коэффицентов, полученных методом градиентного спуска."
   ]
  },
  {
   "cell_type": "code",
   "execution_count": 9,
   "metadata": {},
   "outputs": [
    {
     "data": {
      "image/png": "[encoded data removed]",
      "text/plain": [
       "<Figure size 640x480 with 1 Axes>"
      ]
     },
     "metadata": {},
     "output_type": "display_data"
    }
   ],
   "source": [
    "plt.scatter(X,Y)\n",
    "lX = [X.min(),X.max()]\n",
    "lY = [a*x+b for x in lX]\n",
    "plt.plot(lX,lY,c='red')\n",
    "plt.show()"
   ]
  },
  {
   "cell_type": "markdown",
   "metadata": {},
   "source": [
    "Добавим ещё численных параметров.\n",
    "\n",
    "Используем векторное уможение, в качестве коэффицента a используется массив коэффицентов."
   ]
  },
  {
   "cell_type": "code",
   "execution_count": 10,
   "metadata": {},
   "outputs": [
    {
     "name": "stdout",
     "output_type": "stream",
     "text": [
      "Epoch 0: MSE=229513.54527626125\n",
      "Epoch 1: MSE=56245.33780661959\n",
      "Epoch 2: MSE=13946.984448761306\n",
      "Epoch 3: MSE=3621.0794177845955\n",
      "Epoch 4: MSE=1100.3098435343923\n",
      "Epoch 5: MSE=484.9351546970442\n",
      "Epoch 6: MSE=334.7067396118806\n",
      "Epoch 7: MSE=298.0301445366772\n",
      "Epoch 8: MSE=289.0738964175645\n",
      "Epoch 9: MSE=286.8847586825011\n"
     ]
    }
   ],
   "source": [
    "X = df_train[[\"geodistance\",\"duration\",\"departure_hour\"]]\n",
    "X_t = df_test[[\"geodistance\",\"duration\",\"departure_hour\"]]\n",
    "\n",
    "*a, b = np.random.normal(size=4)\n",
    "a = np.array(a)\n",
    "eta = 0.000005\n",
    "for i in range(10):\n",
    "    print(f\"Epoch {i}: MSE={MSE(X@a+b,Y)}\")\n",
    "    # print(f\"a={a},b={b}\")\n",
    "    a,b = a-eta*((X@a+b-Y)*X.T).mean(axis=1), b-eta*(X@a+b-Y).mean()"
   ]
  },
  {
   "cell_type": "code",
   "execution_count": 11,
   "metadata": {},
   "outputs": [
    {
     "data": {
      "text/plain": [
       "(geodistance       0.123440\n",
       " duration          1.077121\n",
       " departure_hour    0.699208\n",
       " dtype: float64,\n",
       " -1.174907161881036)"
      ]
     },
     "execution_count": 11,
     "metadata": {},
     "output_type": "execute_result"
    }
   ],
   "source": [
    "a, b"
   ]
  },
  {
   "cell_type": "markdown",
   "metadata": {},
   "source": [
    "Средняя абсолютная ошибка:"
   ]
  },
  {
   "cell_type": "code",
   "execution_count": 12,
   "metadata": {},
   "outputs": [
    {
     "data": {
      "text/plain": [
       "13.967488155480922"
      ]
     },
     "execution_count": 12,
     "metadata": {},
     "output_type": "execute_result"
    }
   ],
   "source": [
    "np.mean(np.abs(X_t@a + b - Y_t))"
   ]
  },
  {
   "cell_type": "markdown",
   "metadata": {},
   "source": [
    "## Машинное обучение. Признаки.\n",
    "\n",
    "Рассмотрим, какие признаки бывают:\n",
    "\n",
    "Числовые:\n",
    "- Непрерывные (возраст, рост). С таким типом мы только что работали.\n",
    "- Дискретные (количество детей)\n",
    "\n",
    "Категориальные:\n",
    "- Порядковые (оценка). Такой признак можно интерпретировать, как числовой, совершив подмену признака на цифру по возрастанию.\n",
    "- Номинальные (цвет, класс)\n",
    "\n",
    "Преобразование признаков к числовым:\n",
    "![Преоборазование признаков к числовым](https://i.imgur.com/6Wy7T0H.png)\n",
    "\n",
    "One-Hot Encoding - запись признака вектором значений, в котором один из элементов единица, а все остальные - нули. 4\n",
    "Например, имеем красный цвет, всего дано 6 цветов, получим вектор, из 5 нулей и единичкой в индексе, который отвечает за красный цвет.\n",
    "\n",
    "P.s. Пример с цветов является показательным, но не совсем верным, для цвета чаще всего используется приведение к RGB формату.\n",
    "\n",
    "\n",
    "Бывают задачи, когда необходимо перейти от числовых признаков к категориальным. В таком случае непрерывные величины подвергаются дискретизации - определённые интервалы значений формируют группы (категории), их число должно быть конечно. Например, для возраста будут использоваться возрастные категории (молодой, старый и т.д.) "
   ]
  },
  {
   "cell_type": "markdown",
   "metadata": {},
   "source": [
    "## Категориальные признаки. Практический пример.\n",
    "\n",
    "Изучим типы билетов:"
   ]
  },
  {
   "cell_type": "code",
   "execution_count": 13,
   "metadata": {},
   "outputs": [
    {
     "data": {
      "text/plain": [
       "fare\n",
       "Promo +       566980\n",
       "Flexible      422474\n",
       "Adulto ida    257222\n",
       "Name: count, dtype: int64"
      ]
     },
     "execution_count": 13,
     "metadata": {},
     "output_type": "execute_result"
    }
   ],
   "source": [
    "df[\"fare\"].value_counts()"
   ]
  },
  {
   "cell_type": "markdown",
   "metadata": {},
   "source": [
    "Отобразим среднюю цену по тарифу:"
   ]
  },
  {
   "cell_type": "code",
   "execution_count": 14,
   "metadata": {},
   "outputs": [
    {
     "data": {
      "text/plain": [
       "<Axes: xlabel='fare'>"
      ]
     },
     "execution_count": 14,
     "metadata": {},
     "output_type": "execute_result"
    },
    {
     "data": {
      "image/png": "[encoded data removed]",
      "text/plain": [
       "<Figure size 640x480 with 1 Axes>"
      ]
     },
     "metadata": {},
     "output_type": "display_data"
    }
   ],
   "source": [
    "df.groupby(\"fare\").mean(numeric_only=True)['price'].plot(kind='bar')"
   ]
  },
  {
   "cell_type": "markdown",
   "metadata": {},
   "source": [
    "По информации из графика, можно сказать, что признак можно интерпретировать, как порядковый, так и номинальный, такой параметр можно представить с помощью:\n",
    "- One-Hot Encoding.\n",
    "- Label Encoding (приводит уникальные значения к соответсвующим численным значениям). Используется для порядковых.\n",
    "\n",
    "P.S. (Другие варианты кодирования символьных признаков)[https://habr.com/ru/articles/666234/]"
   ]
  },
  {
   "cell_type": "markdown",
   "metadata": {},
   "source": [
    "Используем One-Hot Encoding. В Pandas для этого существует специальная функция `get_dummies`."
   ]
  },
  {
   "cell_type": "code",
   "execution_count": 15,
   "metadata": {},
   "outputs": [
    {
     "data": {
      "text/html": [
       "<div>\n",
       "<style scoped>\n",
       "    .dataframe tbody tr th:only-of-type {\n",
       "        vertical-align: middle;\n",
       "    }\n",
       "\n",
       "    .dataframe tbody tr th {\n",
       "        vertical-align: top;\n",
       "    }\n",
       "\n",
       "    .dataframe thead th {\n",
       "        text-align: right;\n",
       "    }\n",
       "</style>\n",
       "<table border=\"1\" class=\"dataframe\">\n",
       "  <thead>\n",
       "    <tr style=\"text-align: right;\">\n",
       "      <th></th>\n",
       "      <th>Adulto ida</th>\n",
       "      <th>Flexible</th>\n",
       "      <th>Promo +</th>\n",
       "    </tr>\n",
       "  </thead>\n",
       "  <tbody>\n",
       "    <tr>\n",
       "      <th>0</th>\n",
       "      <td>False</td>\n",
       "      <td>True</td>\n",
       "      <td>False</td>\n",
       "    </tr>\n",
       "    <tr>\n",
       "      <th>1</th>\n",
       "      <td>False</td>\n",
       "      <td>False</td>\n",
       "      <td>True</td>\n",
       "    </tr>\n",
       "    <tr>\n",
       "      <th>2</th>\n",
       "      <td>False</td>\n",
       "      <td>True</td>\n",
       "      <td>False</td>\n",
       "    </tr>\n",
       "    <tr>\n",
       "      <th>3</th>\n",
       "      <td>False</td>\n",
       "      <td>True</td>\n",
       "      <td>False</td>\n",
       "    </tr>\n",
       "    <tr>\n",
       "      <th>4</th>\n",
       "      <td>False</td>\n",
       "      <td>True</td>\n",
       "      <td>False</td>\n",
       "    </tr>\n",
       "    <tr>\n",
       "      <th>...</th>\n",
       "      <td>...</td>\n",
       "      <td>...</td>\n",
       "      <td>...</td>\n",
       "    </tr>\n",
       "    <tr>\n",
       "      <th>1246671</th>\n",
       "      <td>False</td>\n",
       "      <td>False</td>\n",
       "      <td>True</td>\n",
       "    </tr>\n",
       "    <tr>\n",
       "      <th>1246672</th>\n",
       "      <td>False</td>\n",
       "      <td>True</td>\n",
       "      <td>False</td>\n",
       "    </tr>\n",
       "    <tr>\n",
       "      <th>1246673</th>\n",
       "      <td>False</td>\n",
       "      <td>True</td>\n",
       "      <td>False</td>\n",
       "    </tr>\n",
       "    <tr>\n",
       "      <th>1246674</th>\n",
       "      <td>False</td>\n",
       "      <td>True</td>\n",
       "      <td>False</td>\n",
       "    </tr>\n",
       "    <tr>\n",
       "      <th>1246675</th>\n",
       "      <td>False</td>\n",
       "      <td>False</td>\n",
       "      <td>True</td>\n",
       "    </tr>\n",
       "  </tbody>\n",
       "</table>\n",
       "<p>1246676 rows × 3 columns</p>\n",
       "</div>"
      ],
      "text/plain": [
       "         Adulto ida  Flexible  Promo +\n",
       "0             False      True    False\n",
       "1             False     False     True\n",
       "2             False      True    False\n",
       "3             False      True    False\n",
       "4             False      True    False\n",
       "...             ...       ...      ...\n",
       "1246671       False     False     True\n",
       "1246672       False      True    False\n",
       "1246673       False      True    False\n",
       "1246674       False      True    False\n",
       "1246675       False     False     True\n",
       "\n",
       "[1246676 rows x 3 columns]"
      ]
     },
     "execution_count": 15,
     "metadata": {},
     "output_type": "execute_result"
    }
   ],
   "source": [
    "pd.get_dummies(df['fare'])"
   ]
  },
  {
   "cell_type": "markdown",
   "metadata": {},
   "source": [
    "Добавим в таблицу признаков кодирование тарифа с помощью One-Hot Encoding и проведём привычный нам поиск коэффицентов и ошибки:"
   ]
  },
  {
   "cell_type": "code",
   "execution_count": 16,
   "metadata": {},
   "outputs": [
    {
     "data": {
      "text/html": [
       "<div>\n",
       "<style scoped>\n",
       "    .dataframe tbody tr th:only-of-type {\n",
       "        vertical-align: middle;\n",
       "    }\n",
       "\n",
       "    .dataframe tbody tr th {\n",
       "        vertical-align: top;\n",
       "    }\n",
       "\n",
       "    .dataframe thead th {\n",
       "        text-align: right;\n",
       "    }\n",
       "</style>\n",
       "<table border=\"1\" class=\"dataframe\">\n",
       "  <thead>\n",
       "    <tr style=\"text-align: right;\">\n",
       "      <th></th>\n",
       "      <th>geodistance</th>\n",
       "      <th>fare_Adulto ida</th>\n",
       "      <th>fare_Promo +</th>\n",
       "      <th>fare_Flexible</th>\n",
       "    </tr>\n",
       "  </thead>\n",
       "  <tbody>\n",
       "    <tr>\n",
       "      <th>749565</th>\n",
       "      <td>256.506445</td>\n",
       "      <td>False</td>\n",
       "      <td>True</td>\n",
       "      <td>False</td>\n",
       "    </tr>\n",
       "    <tr>\n",
       "      <th>1069029</th>\n",
       "      <td>256.506445</td>\n",
       "      <td>False</td>\n",
       "      <td>True</td>\n",
       "      <td>False</td>\n",
       "    </tr>\n",
       "    <tr>\n",
       "      <th>17422</th>\n",
       "      <td>256.506445</td>\n",
       "      <td>False</td>\n",
       "      <td>False</td>\n",
       "      <td>True</td>\n",
       "    </tr>\n",
       "    <tr>\n",
       "      <th>860974</th>\n",
       "      <td>296.103026</td>\n",
       "      <td>False</td>\n",
       "      <td>True</td>\n",
       "      <td>False</td>\n",
       "    </tr>\n",
       "    <tr>\n",
       "      <th>986823</th>\n",
       "      <td>303.180694</td>\n",
       "      <td>False</td>\n",
       "      <td>True</td>\n",
       "      <td>False</td>\n",
       "    </tr>\n",
       "    <tr>\n",
       "      <th>...</th>\n",
       "      <td>...</td>\n",
       "      <td>...</td>\n",
       "      <td>...</td>\n",
       "      <td>...</td>\n",
       "    </tr>\n",
       "    <tr>\n",
       "      <th>752373</th>\n",
       "      <td>161.318295</td>\n",
       "      <td>False</td>\n",
       "      <td>False</td>\n",
       "      <td>True</td>\n",
       "    </tr>\n",
       "    <tr>\n",
       "      <th>914421</th>\n",
       "      <td>256.506445</td>\n",
       "      <td>False</td>\n",
       "      <td>True</td>\n",
       "      <td>False</td>\n",
       "    </tr>\n",
       "    <tr>\n",
       "      <th>149673</th>\n",
       "      <td>303.180694</td>\n",
       "      <td>False</td>\n",
       "      <td>False</td>\n",
       "      <td>True</td>\n",
       "    </tr>\n",
       "    <tr>\n",
       "      <th>598837</th>\n",
       "      <td>415.639080</td>\n",
       "      <td>False</td>\n",
       "      <td>False</td>\n",
       "      <td>True</td>\n",
       "    </tr>\n",
       "    <tr>\n",
       "      <th>906904</th>\n",
       "      <td>415.639080</td>\n",
       "      <td>False</td>\n",
       "      <td>True</td>\n",
       "      <td>False</td>\n",
       "    </tr>\n",
       "  </tbody>\n",
       "</table>\n",
       "<p>997340 rows × 4 columns</p>\n",
       "</div>"
      ],
      "text/plain": [
       "         geodistance  fare_Adulto ida  fare_Promo +  fare_Flexible\n",
       "749565    256.506445            False          True          False\n",
       "1069029   256.506445            False          True          False\n",
       "17422     256.506445            False         False           True\n",
       "860974    296.103026            False          True          False\n",
       "986823    303.180694            False          True          False\n",
       "...              ...              ...           ...            ...\n",
       "752373    161.318295            False         False           True\n",
       "914421    256.506445            False          True          False\n",
       "149673    303.180694            False         False           True\n",
       "598837    415.639080            False         False           True\n",
       "906904    415.639080            False          True          False\n",
       "\n",
       "[997340 rows x 4 columns]"
      ]
     },
     "execution_count": 16,
     "metadata": {},
     "output_type": "execute_result"
    }
   ],
   "source": [
    "X = pd.get_dummies(df_train,columns=[\"fare\"])[['geodistance','fare_Adulto ida','fare_Promo +','fare_Flexible']]\n",
    "X"
   ]
  },
  {
   "cell_type": "code",
   "execution_count": 17,
   "metadata": {},
   "outputs": [
    {
     "name": "stdout",
     "output_type": "stream",
     "text": [
      "Epoch 0: MSE=32715.629251283426\n",
      "Epoch 1: MSE=8218.36314657668\n",
      "Epoch 2: MSE=2218.236695019673\n",
      "Epoch 3: MSE=748.6227168605617\n",
      "Epoch 4: MSE=388.6691324781903\n",
      "Epoch 5: MSE=300.50515176490654\n",
      "Epoch 6: MSE=278.9107170812611\n",
      "Epoch 7: MSE=273.62119030796794\n",
      "Epoch 8: MSE=272.32523173159626\n",
      "Epoch 9: MSE=272.0074195591243\n",
      "Epoch 10: MSE=271.9291852104888\n",
      "Epoch 11: MSE=271.90963076494313\n",
      "Epoch 12: MSE=271.9044488153588\n",
      "Epoch 13: MSE=271.9027871282413\n",
      "Epoch 14: MSE=271.9019876610862\n",
      "Epoch 15: MSE=271.9013993808209\n",
      "Epoch 16: MSE=271.90086282719165\n",
      "Epoch 17: MSE=271.9003389447066\n",
      "Epoch 18: MSE=271.8998181681127\n",
      "Epoch 19: MSE=271.8992981520182\n"
     ]
    }
   ],
   "source": [
    "*a, b = np.random.normal(size=5)\n",
    "a = np.array(a)\n",
    "eta = 0.000005\n",
    "for i in range(20):\n",
    "    print(f\"Epoch {i}: MSE={MSE(X@a+b,Y)}\")\n",
    "    # print(f\"a={a},b={b}\")\n",
    "    a,b = a-eta*((X@a+b-Y)*X.T).mean(axis=1), b-eta*(X@a+b-Y).mean()"
   ]
  },
  {
   "cell_type": "markdown",
   "metadata": {},
   "source": [
    "Изучив коэффицент `a`, можно узнать, как влияют на цену те или иные признаки. Из-за этого модель называется интерпретируемой."
   ]
  },
  {
   "cell_type": "code",
   "execution_count": 18,
   "metadata": {},
   "outputs": [
    {
     "data": {
      "text/plain": [
       "geodistance        0.153595\n",
       "fare_Adulto ida     0.68204\n",
       "fare_Promo +       0.938113\n",
       "fare_Flexible      0.009875\n",
       "dtype: object"
      ]
     },
     "execution_count": 18,
     "metadata": {},
     "output_type": "execute_result"
    }
   ],
   "source": [
    "a"
   ]
  },
  {
   "cell_type": "markdown",
   "metadata": {},
   "source": [
    "## Машинное обучение. Scikit learn.\n",
    "\n",
    "Библиотека SciKit learn является стандартом для работы в машинном обучении, в ней реализовано огромное количество алгоритмов, необходимых для работы с данными, а так же для обучения моделей. Выше был разобран метод градиентного спуска, однако на практике никто не реализует его с нуля или другие классические алгоритмы математики, для этого и создан данный пакет.\n",
    "\n",
    "Рассмотрим, как работает SciKit Learn:"
   ]
  },
  {
   "cell_type": "markdown",
   "metadata": {},
   "source": [
    "Для начала выделим численные и категориальные признаки:"
   ]
  },
  {
   "cell_type": "code",
   "execution_count": 19,
   "metadata": {},
   "outputs": [],
   "source": [
    "numeric = ['geodistance', 'duration', 'departure_hour']\n",
    "categorial = ['vehicle_type', 'vehicle_class', 'fare']"
   ]
  },
  {
   "cell_type": "markdown",
   "metadata": {},
   "source": [
    "Обучим модель на численных признаках:"
   ]
  },
  {
   "cell_type": "code",
   "execution_count": 20,
   "metadata": {},
   "outputs": [],
   "source": [
    "X = df_train[numeric]\n",
    "\n",
    "model = sk.linear_model.LinearRegression()\n",
    "model = model.fit(X, Y)"
   ]
  },
  {
   "cell_type": "markdown",
   "metadata": {},
   "source": [
    "Самый важный метод, который отвечает за обучение - `fit`. Он подбирает наиболее оптимальные коэффиценты, дабы минимизировать ошибку - всё то, что мы делали ручками выше.\n",
    "\n",
    "В SciKit Learn также реализованы различные методы вычисления ошибок, для примера вычислим точность на тестовой выборке:"
   ]
  },
  {
   "cell_type": "code",
   "execution_count": 21,
   "metadata": {},
   "outputs": [
    {
     "name": "stdout",
     "output_type": "stream",
     "text": [
      "MSE=223.96890112685375, MAE=11.95161180446463, MAE(%)=0.2888176033307507\n"
     ]
    }
   ],
   "source": [
    "X_t = df_test[numeric]\n",
    "Y_t_pred = model.predict(X_t)\n",
    "\n",
    "print(f\"MSE={sk.metrics.mean_squared_error(Y_t, Y_t_pred)}, \\\n",
    "MAE={sk.metrics.mean_absolute_error(Y_t,Y_t_pred)}, \\\n",
    "MAE(%)={sk.metrics.mean_absolute_percentage_error(Y_t,Y_t_pred)}\")"
   ]
  },
  {
   "cell_type": "markdown",
   "metadata": {},
   "source": [
    "Ошибки в пакете SciKil Learn:\n",
    "- mean_squared_error - средняя квадратичная ошибка\n",
    "- mean_absolute_error - средняя абсолютная ошибка\n",
    "- mean_absolute_percentage_error - абсолютная процентная ошибка"
   ]
  },
  {
   "cell_type": "markdown",
   "metadata": {},
   "source": [
    "Коэффиценты, вычисленные моделью:\n",
    "- coef_ - a\n",
    "- intercept_ - b"
   ]
  },
  {
   "cell_type": "code",
   "execution_count": 22,
   "metadata": {},
   "outputs": [
    {
     "name": "stdout",
     "output_type": "stream",
     "text": [
      "Coefficients=[ 0.17550894 -3.96601391  0.19937921] intercept=2.080615676747705\n"
     ]
    }
   ],
   "source": [
    "print(f\"Coefficients={model.coef_} intercept={model.intercept_}\")"
   ]
  },
  {
   "cell_type": "markdown",
   "metadata": {},
   "source": [
    "Для кодирования признаков можно использовать объекты пакета SciKit Learn, они называются `*Encoder`. \n",
    "Для определения значений признаков используется `fit`. \n",
    "Для вывода информации о полученных значениях используется `categories_`.\n",
    "Чтобы закодировать набор данных используется `transform`.\n",
    "\n",
    "Пример использования энкодера:"
   ]
  },
  {
   "cell_type": "code",
   "execution_count": 23,
   "metadata": {},
   "outputs": [
    {
     "name": "stdout",
     "output_type": "stream",
     "text": [
      "[array(['Adulto ida', 'Flexible', 'Promo +'], dtype=object), array(['Turista', 'Turista Plus', 'Turista con enlace'], dtype=object)]\n"
     ]
    },
    {
     "data": {
      "text/plain": [
       "array([[0., 1., 0., 1., 0., 0.],\n",
       "       [0., 0., 1., 0., 1., 0.],\n",
       "       [0., 1., 0., 1., 0., 0.],\n",
       "       [0., 1., 0., 1., 0., 0.],\n",
       "       [0., 1., 0., 1., 0., 0.],\n",
       "       [0., 0., 1., 1., 0., 0.],\n",
       "       [0., 1., 0., 1., 0., 0.],\n",
       "       [0., 1., 0., 1., 0., 0.],\n",
       "       [0., 0., 1., 1., 0., 0.],\n",
       "       [0., 0., 1., 1., 0., 0.]])"
      ]
     },
     "execution_count": 23,
     "metadata": {},
     "output_type": "execute_result"
    }
   ],
   "source": [
    "ohe = sk.preprocessing.OneHotEncoder()\n",
    "ohe.fit(df[['fare', 'vehicle_class']])\n",
    "print(ohe.categories_)\n",
    "ohe.transform(df[['fare', 'vehicle_class']]).toarray()[:10]"
   ]
  },
  {
   "cell_type": "markdown",
   "metadata": {},
   "source": [
    "Чтобы упростить работу с разными типами признаков, можно использовать механизм трансформеров:"
   ]
  },
  {
   "cell_type": "code",
   "execution_count": 24,
   "metadata": {},
   "outputs": [
    {
     "data": {
      "text/plain": [
       "array([[  0.        ,   0.        ,   1.        ,   0.        ,\n",
       "          0.        ,   1.        ,   0.        ,   0.        ,\n",
       "          0.        ,   0.        ,   0.        ,   0.        ,\n",
       "          0.        ,   0.        ,   0.        ,   0.        ,\n",
       "          0.        ,   0.        ,   1.        ,   0.        ,\n",
       "          0.        , 256.50644533,   1.67      ,  14.        ],\n",
       "       [  0.        ,   0.        ,   1.        ,   0.        ,\n",
       "          0.        ,   1.        ,   0.        ,   0.        ,\n",
       "          0.        ,   0.        ,   0.        ,   0.        ,\n",
       "          0.        ,   0.        ,   0.        ,   0.        ,\n",
       "          0.        ,   0.        ,   1.        ,   0.        ,\n",
       "          0.        , 256.50644533,   1.75      ,  21.        ]])"
      ]
     },
     "execution_count": 24,
     "metadata": {},
     "output_type": "execute_result"
    }
   ],
   "source": [
    "transformer = sk.compose.make_column_transformer(\n",
    "    (sk.preprocessing.OneHotEncoder(), ['fare']), \n",
    "    (sk.preprocessing.OneHotEncoder(), ['vehicle_type']),\n",
    "    (sk.preprocessing.OneHotEncoder(), ['vehicle_class']),\n",
    "    remainder='passthrough'\n",
    ")\n",
    "\n",
    "X = transformer.fit_transform(df_train[numeric + categorial])\n",
    "\n",
    "X.toarray()[:2]"
   ]
  },
  {
   "cell_type": "markdown",
   "metadata": {},
   "source": [
    "Таким образом были получены обработанные входные данные, котрые можно использовать для обучения модели:"
   ]
  },
  {
   "cell_type": "code",
   "execution_count": 25,
   "metadata": {},
   "outputs": [
    {
     "name": "stdout",
     "output_type": "stream",
     "text": [
      "MSE=74.96617134959763, MAE=6.023519225613029, MAE(%)=0.14007150057668266\n"
     ]
    }
   ],
   "source": [
    "model = sk.linear_model.LinearRegression()\n",
    "model.fit(X,Y)\n",
    "X_t = transformer.transform(df_test[numeric + categorial])\n",
    "Y_t_pred = model.predict(X_t)\n",
    "\n",
    "print(f\"MSE={sk.metrics.mean_squared_error(Y_t, Y_t_pred)}, \\\n",
    "MAE={sk.metrics.mean_absolute_error(Y_t,Y_t_pred)}, \\\n",
    "MAE(%)={sk.metrics.mean_absolute_percentage_error(Y_t,Y_t_pred)}\")"
   ]
  },
  {
   "cell_type": "markdown",
   "metadata": {},
   "source": [
    "Теперь, когда для обучения использовались все возможные признаки, точность предсказания кратно увеличилась. Однако остаётся ещё один способ увеличить точность прогнозирования - нормализация данных обучающей выборки.\n",
    "\n",
    "## Нормализация значений.\n",
    "\n",
    "Нормализация значений - масштабирование значений всех признаков к единому интервалу, поскольку OneHot Encoding использует интервал от 0 до 1, то имеет смысл подогнать все значения к этому интервалу.\n",
    "\n",
    "Так же часто используются интервалы [-1; 1] или нормальное распределение с центром в 0.\n",
    "\n",
    "В Sklearn для этого существуют два вида нормализации (используются внутри трансформера):\n",
    "- `MinMaxScaler` - преобразует значения к диапазону 0-1 линейным способом\n",
    "- `MaxAbsScaler` - масштабирует максимальное абсолютное значение до размера единицы\n",
    "- `StandartScaler` - вычитает среднее и делит на дисперсию (нормально распределение)\n",
    "\n",
    "\n",
    "Применим их на практике:"
   ]
  },
  {
   "cell_type": "code",
   "execution_count": 26,
   "metadata": {},
   "outputs": [
    {
     "data": {
      "text/plain": [
       "array([[-0.45692388, -0.52383261,  0.14027523,  0.        ,  0.        ,\n",
       "         1.        ,  0.        ,  0.        ,  1.        ,  0.        ,\n",
       "         0.        ,  0.        ,  0.        ,  0.        ,  0.        ,\n",
       "         0.        ,  0.        ,  0.        ,  0.        ,  0.        ,\n",
       "         0.        ,  1.        ,  0.        ,  0.        ],\n",
       "       [-0.45692388, -0.47403319,  1.69034869,  0.        ,  0.        ,\n",
       "         1.        ,  0.        ,  0.        ,  1.        ,  0.        ,\n",
       "         0.        ,  0.        ,  0.        ,  0.        ,  0.        ,\n",
       "         0.        ,  0.        ,  0.        ,  0.        ,  0.        ,\n",
       "         0.        ,  1.        ,  0.        ,  0.        ]])"
      ]
     },
     "execution_count": 26,
     "metadata": {},
     "output_type": "execute_result"
    }
   ],
   "source": [
    "transformer = sk.compose.make_column_transformer(\n",
    "    (sk.preprocessing.StandardScaler(), ['geodistance']),\n",
    "    (sk.preprocessing.StandardScaler(), ['duration']),\n",
    "    (sk.preprocessing.StandardScaler(), ['departure_hour']),\n",
    "    (sk.preprocessing.OneHotEncoder(), ['fare']),\n",
    "    (sk.preprocessing.OneHotEncoder(), ['vehicle_type']),\n",
    "    (sk.preprocessing.OneHotEncoder(), ['vehicle_class'])\n",
    ")\n",
    "    \n",
    "X = transformer.fit_transform(df_train[numeric + categorial])\n",
    "X.toarray()[:2]\n"
   ]
  },
  {
   "cell_type": "markdown",
   "metadata": {},
   "source": [
    "Обучим модель и проверим ошибку:"
   ]
  },
  {
   "cell_type": "code",
   "execution_count": 27,
   "metadata": {},
   "outputs": [
    {
     "name": "stdout",
     "output_type": "stream",
     "text": [
      "MSE=74.96612578310419, MAE=6.024452926919938, MAE(%)=0.14008986475902813\n"
     ]
    }
   ],
   "source": [
    "model = sk.linear_model.LinearRegression()\n",
    "model = model.fit(X,Y)\n",
    "X_t = transformer.transform(df_test[numeric+categorial])\n",
    "Y_t_pred = model.predict(X_t)\n",
    "print(f\"MSE={sk.metrics.mean_squared_error(Y_t,Y_t_pred)}, \\\n",
    "MAE={sk.metrics.mean_absolute_error(Y_t,Y_t_pred)}, \\\n",
    "MAE(%)={sk.metrics.mean_absolute_percentage_error(Y_t,Y_t_pred)}\")"
   ]
  },
  {
   "cell_type": "markdown",
   "metadata": {},
   "source": [
    "Результат изменений сильно зависит от входных данных, порой нормализация даёт значительный прирост точности прогнозирования. В данном случае измнений по сути нет."
   ]
  },
  {
   "cell_type": "markdown",
   "metadata": {},
   "source": [
    "## Добавление аргументов. Значимость признаков.\n",
    "\n",
    "Не всегда признаки вносят в результат линейную зависимость, определённые признаки могут влиять на результат больше, чем другие признаки. Поэтому, порой приходится работать с разными зависимостями в жизни (логарифмические, экспоненциальные и т.д.)\n",
    "\n",
    "Для этого необходимо модерзнизировать входные данные соответствующими преобразованиями над признаками. Часто добавление происходит вручную, когда есть полное понимание структуры данных и признаков. В тех случаях, когда нет чёткого понимания работы и зависимостей разных признаков и их влияния на результат, можно с помощью `PolynomialFeatures` добавить полиномиальные признаки степени 2 (квадраты + попарные перемножения), чтобы проверить, может ли подобное преобразование внести улучшения в точность прогнозирования."
   ]
  },
  {
   "cell_type": "code",
   "execution_count": 28,
   "metadata": {},
   "outputs": [
    {
     "data": {
      "text/plain": [
       "((997340, 24), (997340, 325))"
      ]
     },
     "execution_count": 28,
     "metadata": {},
     "output_type": "execute_result"
    }
   ],
   "source": [
    "polynomal = sk.preprocessing.PolynomialFeatures()\n",
    "\n",
    "Xp = polynomal.fit_transform(X)\n",
    "\n",
    "X.shape, Xp.shape"
   ]
  },
  {
   "cell_type": "markdown",
   "metadata": {},
   "source": [
    "Выше видно, что благодаря полиномиальному преобразованию из 24 исходных атрибутов, было получено 325, что кратно повышает, как время обучения модели, так и вероятность получения более точного прогноза.\n",
    "\n",
    "Обучим модель на расширенном наборе признаков:"
   ]
  },
  {
   "cell_type": "code",
   "execution_count": 29,
   "metadata": {},
   "outputs": [
    {
     "name": "stdout",
     "output_type": "stream",
     "text": [
      "MSE=49.89191776208314, MAE=4.6078332552229275, MAE(%)=0.10943063189914656\n"
     ]
    }
   ],
   "source": [
    "model.fit(Xp, Y)\n",
    "\n",
    "Xp_t = polynomal.transform(X_t)\n",
    "Yp_t_pred = model.predict(Xp_t)\n",
    "\n",
    "print(f\"MSE={sk.metrics.mean_squared_error(Y_t,Yp_t_pred)}, \\\n",
    "MAE={sk.metrics.mean_absolute_error(Y_t,Yp_t_pred)}, \\\n",
    "MAE(%)={sk.metrics.mean_absolute_percentage_error(Y_t,Yp_t_pred)}\")"
   ]
  },
  {
   "cell_type": "markdown",
   "metadata": {},
   "source": [
    "Из примера выше, видно, что точность увеличилась на несколько процентов. Однако, для получения этой точности, мы не только жертвуем временем, но и рискуем получить переобучение."
   ]
  },
  {
   "cell_type": "markdown",
   "metadata": {},
   "source": [
    "## Переобучение.\n",
    "\n",
    "Суть переобучения в том, можно получить почти идеальную точность на обучающей выборке, однако, эта точность будет получена неверна, сама модель не будет апроксимировать нужные нам значения, она будет их подбирать точечно, при этом выдавай совсем другую функцию. Таким образом, на тестовой выборке, будет получена большая вероятность ошибки, которой не было на обучающей выборке.\n",
    "\n",
    "Переобучение возникает из-за дисбаланса между кол-во примеров в обучающей выборке и количеством параметров (кол-во признаков должно быть сильно меньше, чем кол-во примеров).\n",
    "\n",
    "Пример переобучения на линейной регрессии:\n",
    "\n",
    "![Пример переобучения](https://i.imgur.com/oZucYKt.png)\n",
    "\n",
    "В данном случае, 300 признаков кратно меньше 1КК результатов в обучающей выборке, поэтому проблем с переобучением не возникло.\n",
    "\n",
    "Поэтому, лучше всего понимать зависимости между данными, дабы не создавать избыточное количество признаков."
   ]
  },
  {
   "cell_type": "markdown",
   "metadata": {},
   "source": [
    "## Пайплайны.\n",
    "\n",
    "Обучение модели состоит из нескольких этапов, которые повторялись много раз - создание трансформера (преобразование, масштабирование данных), применение к признакам различных зависимостей. При чём, на каждом шаге приходилось обучать или адаптировать модели под определённые нужды. Все эти поэтапные шаги можно заменить одним, которые сразу обучит трансформер, масштабирует данные, обучит модель и т.д.\n",
    "\n",
    "Все эти шаги можно поместить в один конвейер (пайплайн), который можно описать в `sklearn` с помощью `Pipeline`. На выходе получим тот же результат, но более читаемый и лаконичный код.\n",
    "\n",
    "P.S. PipeLine может объединять в себе любые элементы, которые имеют единый интерфейс обучения (`fit`, `fit_transform`)."
   ]
  },
  {
   "cell_type": "code",
   "execution_count": 31,
   "metadata": {},
   "outputs": [
    {
     "data": {
      "text/plain": [
       "0.8976618742952479"
      ]
     },
     "execution_count": 31,
     "metadata": {},
     "output_type": "execute_result"
    }
   ],
   "source": [
    "pipe = sk.pipeline.Pipeline([\n",
    "    ('ColumnTransform', transformer),\n",
    "    ('PolyFeatures', polynomal),\n",
    "    ('LinearModel', model)\n",
    "])\n",
    "\n",
    "pipe.fit(df_train[numeric + categorial], Y)\n",
    "\n",
    "pipe.score(df_test[numeric + categorial], Y_t)"
   ]
  },
  {
   "cell_type": "markdown",
   "metadata": {},
   "source": [
    "## Деревья решений.\n",
    "\n",
    "Многие признаки могут вносить свой вклад в конечное значение вне зависимости от какой-либо функции, а скачкообразно. Например, цена билета в зависимости от тарифа, также актуальным примером является прогрессивный подход к налогооблажению (в зависимости от заработка меняется % налога).\n",
    "\n",
    "Подобные зависимости фиксируются с помощью условий, для этого используются нелинейные модели - деревья решений. На практике, изменений почти нет, просто теперь для обучения используется `DecisionTreeRegressor`.\n",
    "\n",
    "Попробуем обучить модель с помощью дерева решений на исходных данных (без оптимизаций)."
   ]
  },
  {
   "cell_type": "code",
   "execution_count": 32,
   "metadata": {},
   "outputs": [
    {
     "name": "stdout",
     "output_type": "stream",
     "text": [
      "MSE=33.08068125830104, MAE=2.8257860148633926, MAE(%)=0.07068580538213681\n"
     ]
    }
   ],
   "source": [
    "model = sk.tree.DecisionTreeRegressor()\n",
    "model = model.fit(X, Y)\n",
    "\n",
    "Y_t_pred = model.predict(X_t)\n",
    "print(f\"MSE={sk.metrics.mean_squared_error(Y_t,Y_t_pred)}, \\\n",
    "MAE={sk.metrics.mean_absolute_error(Y_t,Y_t_pred)}, \\\n",
    "MAE(%)={sk.metrics.mean_absolute_percentage_error(Y_t,Y_t_pred)}\")"
   ]
  },
  {
   "cell_type": "markdown",
   "metadata": {},
   "source": [
    "# "
   ]
  },
  {
   "cell_type": "markdown",
   "metadata": {},
   "source": []
  },
  {
   "cell_type": "code",
   "execution_count": null,
   "metadata": {},
   "outputs": [],
   "source": []
  }
 ],
 "metadata": {
  "kernelspec": {
   "display_name": "Python 3 (ipykernel)",
   "language": "python",
   "name": "python3"
  },
  "language_info": {
   "codemirror_mode": {
    "name": "ipython",
    "version": 3
   },
   "file_extension": ".py",
   "mimetype": "text/x-python",
   "name": "python",
   "nbconvert_exporter": "python",
   "pygments_lexer": "ipython3",
   "version": "3.10.9"
  }
 },
 "nbformat": 4,
 "nbformat_minor": 4
}

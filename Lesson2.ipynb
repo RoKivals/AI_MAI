{
 "cells": [
  {
   "cell_type": "markdown",
   "metadata": {},
   "source": [
    "# Искуственный интеллект. Системы, основанные на знаниях\n",
    "\n",
    "Эти системы относятся к нисходящему подходу, то есть моделирование мышление человека."
   ]
  }
 ],
 "metadata": {
  "language_info": {
   "name": "python"
  }
 },
 "nbformat": 4,
 "nbformat_minor": 2
}

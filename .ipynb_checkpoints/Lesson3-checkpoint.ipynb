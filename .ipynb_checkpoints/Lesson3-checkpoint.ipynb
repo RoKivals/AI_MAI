{
 "cells": [
  {
   "cell_type": "markdown",
   "metadata": {},
   "source": [
    "# Машинное обучение. Введение\n",
    "При рассмотрении ИИ, было установлено два основополагающих подхода (нисходящий и восходящий), на их стыке находится машинное обучение, которое работает непосредственно с данными, и устанавливает между ними взаимосвязи.\n",
    "\n",
    "Машинное обучение извлекает знания из данных. МО может работать не только с нейронными сетями, но и с более простыми алгоритмами.\n",
    "\n",
    "Ссылки: [Весь код из примеров ниже](https://github.com/shwars/ai_course/blob/main/02-MLExpress/ExpressML.ipynb)"
   ]
  },
  {
   "cell_type": "markdown",
   "metadata": {},
   "source": [
    "## Машинное обучение и Программирование\n",
    "\n",
    "МО часто сравнивают с классическим программированием, поскольку процесс написания и построения программы чем-то похожи, только на выходе в случае программирования мы получаем какой-то абстрактный результат, а в случае МО, мы получаем программу.\n",
    "\n",
    "![Сравнение МО и программирования](https://i.imgur.com/ZEksKMx.png)\n"
   ]
  },
  {
   "cell_type": "markdown",
   "metadata": {},
   "source": [
    "## Машинное обучение.\n",
    "На картинке ниже представлены компоненты, из которых строится программа МО.\n",
    "\n",
    "![Процесс создания программы МО](https://i.imgur.com/hFeUOBD.png)\n",
    "\n",
    "Полученная программа - модель проверяется на качество обучения. Для этого используется тестовый датасет (важно, чтобы он не был включён в обучающий датасет).\n",
    "\n",
    "![Проверка модели](https://i.imgur.com/Jl8iwDV.png)"
   ]
  },
  {
   "cell_type": "markdown",
   "metadata": {},
   "source": [
    "## Машинное обучение. Инструменты статистики.\n",
    "\n",
    "Перед написанием модели, зачастую приходится проанализировать датасет, для этого можно использовать различные инструменты, от Python, до Excel.\n",
    "\n",
    "Например, в Excel для этого очень удобно использовать сводные таблицы, в Python - numpy, pandas."
   ]
  },
  {
   "cell_type": "markdown",
   "metadata": {},
   "source": [
    "## Машинное обучение. Задачи\n",
    "\n",
    "Обучение с учителем. Существует обучающая выборка, в которой есть набор параметров и ответ на интересующий нас запрос.\n",
    "Примеры:\n",
    "- Регрессия (нахождение значения на основе параметров)\n",
    "- Классификация (определение класса объекта по параметрам)\n",
    "\n",
    "\n",
    "Обучение без учителя. Обучающей выборки не существует, есть лишь представление об обработке тех или иных параметров, после чего модель при поступлении данных начнётся постепенно обучаться на них, создавая и совершенствуя правила обработки.\n",
    "\n",
    "Примеры: \n",
    "- Кластеризация (группировка похожих объектов по определённым параметрам)\n",
    "- Обучение с подкреплением (обучение на самом себе, отбрасывая неудачные попытки). Пример - обучение игре в шахматы.\n",
    "\n",
    "![Задачи МО](https://i.imgur.com/0HyDL74.png)"
   ]
  },
  {
   "cell_type": "markdown",
   "metadata": {},
   "source": [
    "## Машинное обучение. Пример предсказания стоимости билета на поезд.\n",
    "\n",
    "Рассмотрим пример машинного обучения задачи регрессии. Посмотрим, что используется в нашей обучающей выборке.\n",
    "\n",
    "X - признаки, от которых зависит искомое значение (параметры). В нашем случае расстояние, класс билета, время в пути.\n",
    "Y - искомое значение - то, что мы непосредственно хотим научиться прогнозировать. В нашем случае это стоимость билета.\n",
    "\n",
    "Признаки бывают числовыми и категориальными (те, что выражены словами).\n",
    "\n",
    "![Описание обучающей выборки](https://i.imgur.com/ehkoV9Q.png)"
   ]
  },
  {
   "cell_type": "markdown",
   "metadata": {},
   "source": [
    "Для числового признака (расстояния) можно построить график зависимости цены от расстояния. После чего провести апроксимирующую прямую (которая усредняет значения набора точек). После чего, для прогноза цены билета с любым расстоянием, можно провести линию к этой прямой и оттуда к оси цены и получить прогноз.\n",
    "\n",
    "![График одного числового признака](https://i.imgur.com/ulAAqVj.png)"
   ]
  },
  {
   "cell_type": "markdown",
   "metadata": {},
   "source": [
    "## Машинное обучение. Математика регрессии. Простейший случай\n",
    "\n",
    "Наша модель имеет линейную формулу (aX + b).\n",
    "Ошибка - расстояние (разница) между фактическим значением искомого параметра и значением, полученным с помощью апроксимации. Ошибка L(a, b) - сумма всех расстояний.\n",
    "\n",
    "Задача - подбор параметров a, b таких, что ошибка будет минимальной\n",
    "\n",
    "![Пример регрессии и ошибки на графике](https://i.imgur.com/3mCK56b.png)\n",
    "\n",
    "## Метод наименьших квадратов.\n",
    "\n",
    "Для вычисления ошибки зачастую используется метод наименьших квадратов, где высчитываются все квадраты отклонений, после чего берётся 0 производной и вычисляются параметры a, b.\n",
    "\n",
    "![Метод наименьших квадратов 1](https://i.imgur.com/KXjPyMU.png)\n",
    "\n",
    "Вычисление параметров имеет следующие формулы для одномерного и многомерного случаев:\n",
    "\n",
    "![Метод наименьших квадратов 2](https://i.imgur.com/s2n8E9E.png)"
   ]
  },
  {
   "cell_type": "markdown",
   "metadata": {},
   "source": [
    "## Машинное обучение. Практика на Python. Предсказание стоимости билета на поезд.\n",
    "\n",
    "Будем использовать датасет с информацией о билетах в Европе. В датасете присутствует расстояние между городами, точки отправки и назначения, тип вагона, тип билета, время в пути, кол-во пассажиров и т.д. На его примере разберём, как строится модель для машинного обучения и прогнозирования цены билета от нескольких факторов."
   ]
  },
  {
   "cell_type": "code",
   "execution_count": 3,
   "metadata": {},
   "outputs": [],
   "source": [
    "import numpy as np\n",
    "import pandas as pd\n",
    "import matplotlib.pyplot as plt\n",
    "import sklearn as sk\n",
    "\n",
    "import sklearn.preprocessing\n",
    "import sklearn.pipeline\n",
    "import sklearn.linear_model\n",
    "import sklearn.compose\n",
    "import sklearn.tree\n"
   ]
  },
  {
   "cell_type": "code",
   "execution_count": 4,
   "metadata": {},
   "outputs": [],
   "source": [
    "df = pd.read_csv(\"./data/renfe-rail-sample.zip\", compression='zip')"
   ]
  },
  {
   "cell_type": "markdown",
   "metadata": {},
   "source": [
    "Разобьём датасет на обучающую и тестовую выборку. `train_size` отвечает за процент данных для обучающей выборки от всего датасета."
   ]
  },
  {
   "cell_type": "code",
   "execution_count": 5,
   "metadata": {},
   "outputs": [],
   "source": [
    "df_train, df_test = sk.model_selection.train_test_split(df, train_size=0.8)"
   ]
  },
  {
   "cell_type": "markdown",
   "metadata": {},
   "source": [
    "Начнём прогнозирование одного параметра (расстояния). Изобразим график:"
   ]
  },
  {
   "cell_type": "code",
   "execution_count": 6,
   "metadata": {},
   "outputs": [
    {
     "data": {
      "image/png": "[encoded data removed]",
      "text/plain": [
       "<Figure size 640x480 with 1 Axes>"
      ]
     },
     "metadata": {},
     "output_type": "display_data"
    }
   ],
   "source": [
    "X = df_train[\"geodistance\"]\n",
    "Y = df_train[\"price\"]\n",
    "\n",
    "plt.scatter(X, Y)\n",
    "plt.show()"
   ]
  },
  {
   "cell_type": "markdown",
   "metadata": {},
   "source": [
    "Для нахождения коэффицентов `a`, `b` используем метод наименьших квадратов (см. выше)."
   ]
  },
  {
   "cell_type": "code",
   "execution_count": 7,
   "metadata": {},
   "outputs": [
    {
     "name": "stdout",
     "output_type": "stream",
     "text": [
      "a=0.15116531133923636, b=-0.0006906580192683024\n"
     ]
    }
   ],
   "source": [
    "n = len(X)\n",
    "a = (X.sum()*Y.sum()-n*(X*Y).sum())/(X.sum()*X.sum()-n*(X*X).sum())\n",
    "b = (Y.sum()*(X*X).sum()-X.sum()*(X*Y).sum())/(X*X).sum()/(n-X.sum())\n",
    "print(f\"a={a}, b={b}\")"
   ]
  },
  {
   "cell_type": "markdown",
   "metadata": {},
   "source": [
    "Построение апроксимирующей прямой для одного называется линейной регрессией. Для большего кол-ва параметров, используются многомерные апроксимирующие плоскости (их вычисление так же было приведено выше).\n",
    "\n",
    "Построим её на предыдущем графике:"
   ]
  },
  {
   "cell_type": "code",
   "execution_count": 8,
   "metadata": {},
   "outputs": [
    {
     "data": {
      "image/png": "[encoded data removed]",
      "text/plain": [
       "<Figure size 640x480 with 1 Axes>"
      ]
     },
     "metadata": {},
     "output_type": "display_data"
    }
   ],
   "source": [
    "plt.scatter(X,Y)\n",
    "lX = [X.min(),X.max()]\n",
    "lY = [a*x+b for x in lX]\n",
    "plt.plot(lX,lY,c='red')\n",
    "plt.show()"
   ]
  },
  {
   "cell_type": "markdown",
   "metadata": {},
   "source": [
    "## Подсчёт ошибки.\n",
    "\n",
    "Будем высчитывать ошибку на тестовой выборке. Для этого существуют следующие алгоритмы:\n",
    "- Среднеквадратичное отклонение (MSE)\n",
    "- Средняя (абсолютная) ошибка (MAE)\n",
    "- Относительная средняя ошибка. Показатель ошибки в процентах относительно среднего значения целевой величины.\n",
    "\n",
    "![Ошибки на тестовой выборке](https://i.imgur.com/EzeEKJm.png)"
   ]
  },
  {
   "cell_type": "code",
   "execution_count": 9,
   "metadata": {},
   "outputs": [
    {
     "name": "stdout",
     "output_type": "stream",
     "text": [
      "MSE=16.329972533622954, MAE=13.63954912429816, MAE(%)=0.2856224738363801\n"
     ]
    }
   ],
   "source": [
    "X_t, Y_t = df_test[\"geodistance\"], df_test[\"price\"]\n",
    "\n",
    "def MSE(x,y):\n",
    "    return np.mean(np.square(x-y)) \n",
    "\n",
    "def MAE(x,y):\n",
    "    return np.mean(np.abs(x-y))\n",
    "\n",
    "print(f\"MSE={np.sqrt(MSE(a*X_t+b,Y_t))}, MAE={MAE(a*X_t+b,Y_t)}, MAE(%)={MAE(a*X_t+b,Y_t)/Y_t.mean()}\")"
   ]
  },
  {
   "cell_type": "markdown",
   "metadata": {},
   "source": [
    "## Оптимизация обучения модели. Метод градиентного спуска\n",
    "\n",
    "Среднее квадратичное отлично работает для малых и средних размерностей. Но если размерность большая или функция ошибки является сложной, то прибегают к оптмизационным численным способам нахождения параметров `a`, `b`.\n",
    "\n",
    "Численный метод зависит от обучающего датасета и некого параметра Тэта. После чего вычисляем предсказание, зависящее от параметров и Тэта, вычисляем ошибку и подбираем Тэта так, чтобы минимизировать ошибку.\n",
    "\n",
    "По сути, это численная задача нахождения экстремума функции ошибки (минимума), у этой задачи есть множество алгоритмов решений, рассмотрим метод градиентного спуска.\n",
    "\n",
    "![Минимизация ошибки](https://i.imgur.com/siDIhNj.png)\n",
    "\n",
    "![Метод градиентного спуска](https://i.imgur.com/zZIztIr.png)\n",
    "\n",
    "P.S. Значение шага Тета необходимо подбирать опытным путём, пока ошибка не станет уменьшаться."
   ]
  },
  {
   "cell_type": "code",
   "execution_count": 10,
   "metadata": {},
   "outputs": [
    {
     "name": "stdout",
     "output_type": "stream",
     "text": [
      "Epoch 0: MSE=443.4718241549318\n",
      "Epoch 1: MSE=306.9494727902768\n",
      "Epoch 2: MSE=273.48043937274207\n",
      "Epoch 3: MSE=265.2753636656308\n",
      "Epoch 4: MSE=263.26385427844707\n",
      "Epoch 5: MSE=262.77072392747914\n",
      "Epoch 6: MSE=262.6498306332461\n",
      "Epoch 7: MSE=262.6201928312858\n",
      "Epoch 8: MSE=262.61292670006435\n",
      "Epoch 9: MSE=262.61114507875266\n"
     ]
    }
   ],
   "source": [
    "a,b = np.random.normal(size=2)\n",
    "eta = 0.000005\n",
    "for i in range(10):\n",
    "    print(f\"Epoch {i}: MSE={MSE(a*X+b,Y)}\")\n",
    "    # print(f\"a={a},b={b}\")\n",
    "    a,b = a-eta*((a*X+b-Y)*X).mean(), b-eta*(a*X+b-Y).mean()"
   ]
  },
  {
   "cell_type": "markdown",
   "metadata": {},
   "source": [
    "Выведем прямую из коэффицентов, полученных методом градиентного спуска."
   ]
  },
  {
   "cell_type": "code",
   "execution_count": 11,
   "metadata": {},
   "outputs": [
    {
     "data": {
      "image/png": "[encoded data removed]",
      "text/plain": [
       "<Figure size 640x480 with 1 Axes>"
      ]
     },
     "metadata": {},
     "output_type": "display_data"
    }
   ],
   "source": [
    "plt.scatter(X,Y)\n",
    "lX = [X.min(),X.max()]\n",
    "lY = [a*x+b for x in lX]\n",
    "plt.plot(lX,lY,c='red')\n",
    "plt.show()"
   ]
  },
  {
   "cell_type": "markdown",
   "metadata": {},
   "source": [
    "Добавим ещё численных параметров.\n",
    "\n",
    "Используем векторное уможение, в качестве коэффицента a используется массив коэффицентов."
   ]
  },
  {
   "cell_type": "code",
   "execution_count": 12,
   "metadata": {},
   "outputs": [
    {
     "name": "stdout",
     "output_type": "stream",
     "text": [
      "Epoch 0: MSE=228841.12324608967\n",
      "Epoch 1: MSE=56138.16103354487\n",
      "Epoch 2: MSE=13939.497972046596\n",
      "Epoch 3: MSE=3628.5703557572283\n",
      "Epoch 4: MSE=1109.1689848115136\n",
      "Epoch 5: MSE=493.56794395989914\n",
      "Epoch 6: MSE=343.1460722728198\n",
      "Epoch 7: MSE=306.38720298774393\n",
      "Epoch 8: MSE=297.4010274870605\n",
      "Epoch 9: MSE=295.20090045505714\n"
     ]
    }
   ],
   "source": [
    "X = df_train[[\"geodistance\",\"duration\",\"departure_hour\"]]\n",
    "X_t = df_test[[\"geodistance\",\"duration\",\"departure_hour\"]]\n",
    "\n",
    "*a, b = np.random.normal(size=4)\n",
    "a = np.array(a)\n",
    "eta = 0.000005\n",
    "for i in range(10):\n",
    "    print(f\"Epoch {i}: MSE={MSE(X@a+b,Y)}\")\n",
    "    # print(f\"a={a},b={b}\")\n",
    "    a,b = a-eta*((X@a+b-Y)*X.T).mean(axis=1), b-eta*(X@a+b-Y).mean()"
   ]
  },
  {
   "cell_type": "code",
   "execution_count": 13,
   "metadata": {},
   "outputs": [
    {
     "data": {
      "text/plain": [
       "(geodistance       0.157801\n",
       " duration          1.188262\n",
       " departure_hour   -0.218997\n",
       " dtype: float64,\n",
       " 0.028497276843952417)"
      ]
     },
     "execution_count": 13,
     "metadata": {},
     "output_type": "execute_result"
    }
   ],
   "source": [
    "a, b"
   ]
  },
  {
   "cell_type": "markdown",
   "metadata": {},
   "source": [
    "Средняя абсолютная ошибка:"
   ]
  },
  {
   "cell_type": "code",
   "execution_count": 14,
   "metadata": {},
   "outputs": [
    {
     "data": {
      "text/plain": [
       "14.447480021765811"
      ]
     },
     "execution_count": 14,
     "metadata": {},
     "output_type": "execute_result"
    }
   ],
   "source": [
    "np.mean(np.abs(X_t@a + b - Y_t))"
   ]
  },
  {
   "cell_type": "markdown",
   "metadata": {},
   "source": [
    "## Машинное обучение. Признаки.\n",
    "\n",
    "Рассмотрим, какие признаки бывают:\n",
    "\n",
    "Числовые:\n",
    "- Непрерывные (возраст, рост). С таким типом мы только что работали.\n",
    "- Дискретные (количество детей)\n",
    "\n",
    "Категориальные:\n",
    "- Порядковые (оценка). Такой признак можно интерпретировать, как числовой, совершив подмену признака на цифру по возрастанию.\n",
    "- Номинальные (цвет, класс)\n",
    "\n",
    "Преобразование признаков к числовым:\n",
    "![Преоборазование признаков к числовым](https://i.imgur.com/6Wy7T0H.png)\n",
    "\n",
    "One-Hot Encoding - запись признака вектором значений, в котором один из элементов единица, а все остальные - нули. 4\n",
    "Например, имеем красный цвет, всего дано 6 цветов, получим вектор, из 5 нулей и единичкой в индексе, который отвечает за красный цвет.\n",
    "\n",
    "P.s. Пример с цветов является показательным, но не совсем верным, для цвета чаще всего используется приведение к RGB формату.\n",
    "\n",
    "\n",
    "Бывают задачи, когда необходимо перейти от числовых признаков к категориальным. В таком случае непрерывные величины подвергаются дискретизации - определённые интервалы значений формируют группы (категории), их число должно быть конечно. Например, для возраста будут использоваться возрастные категории (молодой, старый и т.д.) "
   ]
  },
  {
   "cell_type": "markdown",
   "metadata": {},
   "source": [
    "## Категориальные признаки. Практический пример.\n",
    "\n",
    "Изучим типы билетов:"
   ]
  },
  {
   "cell_type": "code",
   "execution_count": 15,
   "metadata": {},
   "outputs": [
    {
     "data": {
      "text/plain": [
       "fare\n",
       "Promo +       566980\n",
       "Flexible      422474\n",
       "Adulto ida    257222\n",
       "Name: count, dtype: int64"
      ]
     },
     "execution_count": 15,
     "metadata": {},
     "output_type": "execute_result"
    }
   ],
   "source": [
    "df[\"fare\"].value_counts()"
   ]
  },
  {
   "cell_type": "markdown",
   "metadata": {},
   "source": [
    "Отобразим среднюю цену по тарифу:"
   ]
  },
  {
   "cell_type": "code",
   "execution_count": 26,
   "metadata": {},
   "outputs": [
    {
     "data": {
      "text/plain": [
       "<Axes: xlabel='fare'>"
      ]
     },
     "execution_count": 26,
     "metadata": {},
     "output_type": "execute_result"
    },
    {
     "data": {
      "image/png": "[encoded data removed]",
      "text/plain": [
       "<Figure size 640x480 with 1 Axes>"
      ]
     },
     "metadata": {},
     "output_type": "display_data"
    }
   ],
   "source": [
    "df.groupby(\"fare\").mean(numeric_only=True)['price'].plot(kind='bar')"
   ]
  },
  {
   "cell_type": "markdown",
   "metadata": {},
   "source": [
    "По информации из графика, можно сказать, что признак можно интерпретировать, как порядковый, так и номинальный, такой параметр можно представить с помощью:\n",
    "- One-Hot Encoding.\n",
    "- Label Encoding (приводит уникальные значения к соответсвующим численным значениям). Используется для порядковых.\n",
    "\n",
    "P.S. (Другие варианты кодирования символьных признаков)[https://habr.com/ru/articles/666234/]"
   ]
  },
  {
   "cell_type": "markdown",
   "metadata": {},
   "source": [
    "Используем One-Hot Encoding. В Pandas для этого существует специальная функция `get_dummies`."
   ]
  },
  {
   "cell_type": "code",
   "execution_count": 17,
   "metadata": {},
   "outputs": [
    {
     "data": {
      "text/html": [
       "<div>\n",
       "<style scoped>\n",
       "    .dataframe tbody tr th:only-of-type {\n",
       "        vertical-align: middle;\n",
       "    }\n",
       "\n",
       "    .dataframe tbody tr th {\n",
       "        vertical-align: top;\n",
       "    }\n",
       "\n",
       "    .dataframe thead th {\n",
       "        text-align: right;\n",
       "    }\n",
       "</style>\n",
       "<table border=\"1\" class=\"dataframe\">\n",
       "  <thead>\n",
       "    <tr style=\"text-align: right;\">\n",
       "      <th></th>\n",
       "      <th>Adulto ida</th>\n",
       "      <th>Flexible</th>\n",
       "      <th>Promo +</th>\n",
       "    </tr>\n",
       "  </thead>\n",
       "  <tbody>\n",
       "    <tr>\n",
       "      <th>0</th>\n",
       "      <td>False</td>\n",
       "      <td>True</td>\n",
       "      <td>False</td>\n",
       "    </tr>\n",
       "    <tr>\n",
       "      <th>1</th>\n",
       "      <td>False</td>\n",
       "      <td>False</td>\n",
       "      <td>True</td>\n",
       "    </tr>\n",
       "    <tr>\n",
       "      <th>2</th>\n",
       "      <td>False</td>\n",
       "      <td>True</td>\n",
       "      <td>False</td>\n",
       "    </tr>\n",
       "    <tr>\n",
       "      <th>3</th>\n",
       "      <td>False</td>\n",
       "      <td>True</td>\n",
       "      <td>False</td>\n",
       "    </tr>\n",
       "    <tr>\n",
       "      <th>4</th>\n",
       "      <td>False</td>\n",
       "      <td>True</td>\n",
       "      <td>False</td>\n",
       "    </tr>\n",
       "    <tr>\n",
       "      <th>...</th>\n",
       "      <td>...</td>\n",
       "      <td>...</td>\n",
       "      <td>...</td>\n",
       "    </tr>\n",
       "    <tr>\n",
       "      <th>1246671</th>\n",
       "      <td>False</td>\n",
       "      <td>False</td>\n",
       "      <td>True</td>\n",
       "    </tr>\n",
       "    <tr>\n",
       "      <th>1246672</th>\n",
       "      <td>False</td>\n",
       "      <td>True</td>\n",
       "      <td>False</td>\n",
       "    </tr>\n",
       "    <tr>\n",
       "      <th>1246673</th>\n",
       "      <td>False</td>\n",
       "      <td>True</td>\n",
       "      <td>False</td>\n",
       "    </tr>\n",
       "    <tr>\n",
       "      <th>1246674</th>\n",
       "      <td>False</td>\n",
       "      <td>True</td>\n",
       "      <td>False</td>\n",
       "    </tr>\n",
       "    <tr>\n",
       "      <th>1246675</th>\n",
       "      <td>False</td>\n",
       "      <td>False</td>\n",
       "      <td>True</td>\n",
       "    </tr>\n",
       "  </tbody>\n",
       "</table>\n",
       "<p>1246676 rows × 3 columns</p>\n",
       "</div>"
      ],
      "text/plain": [
       "         Adulto ida  Flexible  Promo +\n",
       "0             False      True    False\n",
       "1             False     False     True\n",
       "2             False      True    False\n",
       "3             False      True    False\n",
       "4             False      True    False\n",
       "...             ...       ...      ...\n",
       "1246671       False     False     True\n",
       "1246672       False      True    False\n",
       "1246673       False      True    False\n",
       "1246674       False      True    False\n",
       "1246675       False     False     True\n",
       "\n",
       "[1246676 rows x 3 columns]"
      ]
     },
     "execution_count": 17,
     "metadata": {},
     "output_type": "execute_result"
    }
   ],
   "source": [
    "pd.get_dummies(df['fare'])"
   ]
  },
  {
   "cell_type": "markdown",
   "metadata": {},
   "source": [
    "Добавим в таблицу признаков кодирование тарифа с помощью One-Hot Encoding и проведём привычный нам поиск коэффицентов и ошибки:"
   ]
  },
  {
   "cell_type": "code",
   "execution_count": 18,
   "metadata": {},
   "outputs": [
    {
     "data": {
      "text/html": [
       "<div>\n",
       "<style scoped>\n",
       "    .dataframe tbody tr th:only-of-type {\n",
       "        vertical-align: middle;\n",
       "    }\n",
       "\n",
       "    .dataframe tbody tr th {\n",
       "        vertical-align: top;\n",
       "    }\n",
       "\n",
       "    .dataframe thead th {\n",
       "        text-align: right;\n",
       "    }\n",
       "</style>\n",
       "<table border=\"1\" class=\"dataframe\">\n",
       "  <thead>\n",
       "    <tr style=\"text-align: right;\">\n",
       "      <th></th>\n",
       "      <th>geodistance</th>\n",
       "      <th>fare_Adulto ida</th>\n",
       "      <th>fare_Promo +</th>\n",
       "      <th>fare_Flexible</th>\n",
       "    </tr>\n",
       "  </thead>\n",
       "  <tbody>\n",
       "    <tr>\n",
       "      <th>807271</th>\n",
       "      <td>274.364753</td>\n",
       "      <td>False</td>\n",
       "      <td>False</td>\n",
       "      <td>True</td>\n",
       "    </tr>\n",
       "    <tr>\n",
       "      <th>835094</th>\n",
       "      <td>506.741151</td>\n",
       "      <td>False</td>\n",
       "      <td>True</td>\n",
       "      <td>False</td>\n",
       "    </tr>\n",
       "    <tr>\n",
       "      <th>701314</th>\n",
       "      <td>256.506445</td>\n",
       "      <td>False</td>\n",
       "      <td>False</td>\n",
       "      <td>True</td>\n",
       "    </tr>\n",
       "    <tr>\n",
       "      <th>878288</th>\n",
       "      <td>161.318295</td>\n",
       "      <td>True</td>\n",
       "      <td>False</td>\n",
       "      <td>False</td>\n",
       "    </tr>\n",
       "    <tr>\n",
       "      <th>437753</th>\n",
       "      <td>506.741151</td>\n",
       "      <td>False</td>\n",
       "      <td>True</td>\n",
       "      <td>False</td>\n",
       "    </tr>\n",
       "    <tr>\n",
       "      <th>...</th>\n",
       "      <td>...</td>\n",
       "      <td>...</td>\n",
       "      <td>...</td>\n",
       "      <td>...</td>\n",
       "    </tr>\n",
       "    <tr>\n",
       "      <th>989563</th>\n",
       "      <td>161.318295</td>\n",
       "      <td>True</td>\n",
       "      <td>False</td>\n",
       "      <td>False</td>\n",
       "    </tr>\n",
       "    <tr>\n",
       "      <th>1017011</th>\n",
       "      <td>161.318295</td>\n",
       "      <td>True</td>\n",
       "      <td>False</td>\n",
       "      <td>False</td>\n",
       "    </tr>\n",
       "    <tr>\n",
       "      <th>310436</th>\n",
       "      <td>389.790764</td>\n",
       "      <td>False</td>\n",
       "      <td>True</td>\n",
       "      <td>False</td>\n",
       "    </tr>\n",
       "    <tr>\n",
       "      <th>511248</th>\n",
       "      <td>415.639080</td>\n",
       "      <td>False</td>\n",
       "      <td>True</td>\n",
       "      <td>False</td>\n",
       "    </tr>\n",
       "    <tr>\n",
       "      <th>207775</th>\n",
       "      <td>389.790764</td>\n",
       "      <td>False</td>\n",
       "      <td>True</td>\n",
       "      <td>False</td>\n",
       "    </tr>\n",
       "  </tbody>\n",
       "</table>\n",
       "<p>997340 rows × 4 columns</p>\n",
       "</div>"
      ],
      "text/plain": [
       "         geodistance  fare_Adulto ida  fare_Promo +  fare_Flexible\n",
       "807271    274.364753            False         False           True\n",
       "835094    506.741151            False          True          False\n",
       "701314    256.506445            False         False           True\n",
       "878288    161.318295             True         False          False\n",
       "437753    506.741151            False          True          False\n",
       "...              ...              ...           ...            ...\n",
       "989563    161.318295             True         False          False\n",
       "1017011   161.318295             True         False          False\n",
       "310436    389.790764            False          True          False\n",
       "511248    415.639080            False          True          False\n",
       "207775    389.790764            False          True          False\n",
       "\n",
       "[997340 rows x 4 columns]"
      ]
     },
     "execution_count": 18,
     "metadata": {},
     "output_type": "execute_result"
    }
   ],
   "source": [
    "X = pd.get_dummies(df_train,columns=[\"fare\"])[['geodistance','fare_Adulto ida','fare_Promo +','fare_Flexible']]\n",
    "X"
   ]
  },
  {
   "cell_type": "code",
   "execution_count": 19,
   "metadata": {},
   "outputs": [
    {
     "name": "stdout",
     "output_type": "stream",
     "text": [
      "Epoch 0: MSE=173513.86647344602\n",
      "Epoch 1: MSE=42719.9022345767\n",
      "Epoch 2: MSE=10655.436889372175\n",
      "Epoch 3: MSE=2794.7533018362506\n",
      "Epoch 4: MSE=867.6869000812106\n",
      "Epoch 5: MSE=395.26148210825966\n",
      "Epoch 6: MSE=279.44491257670614\n",
      "Epoch 7: MSE=251.05188755268003\n",
      "Epoch 8: MSE=244.09096149822489\n",
      "Epoch 9: MSE=242.38416771583167\n",
      "Epoch 10: MSE=241.9654375044852\n",
      "Epoch 11: MSE=241.86247927725867\n",
      "Epoch 12: MSE=241.8369333366077\n",
      "Epoch 13: MSE=241.8303652108473\n",
      "Epoch 14: MSE=241.82844954475746\n",
      "Epoch 15: MSE=241.82767444336756\n",
      "Epoch 16: MSE=241.82717895319104\n",
      "Epoch 17: MSE=241.8267520133612\n",
      "Epoch 18: MSE=241.8263418782813\n",
      "Epoch 19: MSE=241.8259358649138\n"
     ]
    }
   ],
   "source": [
    "*a, b = np.random.normal(size=5)\n",
    "a = np.array(a)\n",
    "eta = 0.000005\n",
    "for i in range(20):\n",
    "    print(f\"Epoch {i}: MSE={MSE(X@a+b,Y)}\")\n",
    "    # print(f\"a={a},b={b}\")\n",
    "    a,b = a-eta*((X@a+b-Y)*X.T).mean(axis=1), b-eta*(X@a+b-Y).mean()"
   ]
  },
  {
   "cell_type": "markdown",
   "metadata": {},
   "source": [
    "Изучив коэффицент `a`, можно узнать, как влияют на цену те или иные признаки. Из-за этого модель называется интерпретируемой."
   ]
  },
  {
   "cell_type": "code",
   "execution_count": 20,
   "metadata": {},
   "outputs": [
    {
     "data": {
      "text/plain": [
       "geodistance        0.160143\n",
       "fare_Adulto ida    1.018847\n",
       "fare_Promo +      -0.531354\n",
       "fare_Flexible      1.859781\n",
       "dtype: object"
      ]
     },
     "execution_count": 20,
     "metadata": {},
     "output_type": "execute_result"
    }
   ],
   "source": [
    "a"
   ]
  },
  {
   "cell_type": "markdown",
   "metadata": {},
   "source": [
    "## Машинное обучение. Scikit learn.\n",
    "\n",
    "Библиотека SciKit learn является стандартом для работы в машинном обучении, в ней реализовано огромное количество алгоритмов, необходимых для работы с данными, а так же для обучения моделей. Выше был разобран метод градиентного спуска, однако на практике никто не реализует его с нуля или другие классические алгоритмы математики, для этого и создан данный пакет.\n",
    "\n",
    "Рассмотрим, как работает SciKit Learn:"
   ]
  },
  {
   "cell_type": "markdown",
   "metadata": {},
   "source": [
    "Для начала выделим численные и категориальные признаки:"
   ]
  },
  {
   "cell_type": "code",
   "execution_count": 28,
   "metadata": {},
   "outputs": [],
   "source": [
    "numeric = ['geodistance', 'duration', 'departure_hour']\n",
    "categorial = ['vehicle_type', 'vehicle_class', 'fare']"
   ]
  },
  {
   "cell_type": "markdown",
   "metadata": {},
   "source": [
    "Обучим модель на численных признаках:"
   ]
  },
  {
   "cell_type": "code",
   "execution_count": 29,
   "metadata": {},
   "outputs": [],
   "source": [
    "X = df_train[numeric]\n",
    "\n",
    "model = sk.linear_model.LinearRegression()\n",
    "model = model.fit(X, Y)"
   ]
  },
  {
   "cell_type": "markdown",
   "metadata": {},
   "source": [
    "Самый важный метод, который отвечает за обучение - `fit`. Он подбирает наиболее оптимальные коэффиценты, дабы минимизировать ошибку - всё то, что мы делали ручками выше.\n",
    "\n",
    "В SciKit Learn также реализованы различные методы вычисления ошибок, для примера вычислим точность на тестовой выборке:"
   ]
  },
  {
   "cell_type": "code",
   "execution_count": 30,
   "metadata": {},
   "outputs": [
    {
     "name": "stdout",
     "output_type": "stream",
     "text": [
      "MSE=224.33457565565158, MAE=11.960714976294433, MAE(%)=0.28860547404031117\n"
     ]
    }
   ],
   "source": [
    "X_t = df_test[numeric]\n",
    "Y_t_pred = model.predict(X_t)\n",
    "\n",
    "print(f\"MSE={sk.metrics.mean_squared_error(Y_t, Y_t_pred)}, \\\n",
    "MAE={sk.metrics.mean_absolute_error(Y_t,Y_t_pred)}, \\\n",
    "MAE(%)={sk.metrics.mean_absolute_percentage_error(Y_t,Y_t_pred)}\")"
   ]
  },
  {
   "cell_type": "markdown",
   "metadata": {},
   "source": [
    "Ошибки в пакете SciKil Learn:\n",
    "- mean_squared_error - средняя квадратичная ошибка\n",
    "- mean_absolute_error - средняя абсолютная ошибка\n",
    "- mean_absolute_percentage_error - абсолютная процентная ошибка"
   ]
  },
  {
   "cell_type": "markdown",
   "metadata": {},
   "source": [
    "Коэффиценты, вычисленные моделью:\n",
    "- coef_ - a\n",
    "- intercept_ - b"
   ]
  },
  {
   "cell_type": "code",
   "execution_count": 31,
   "metadata": {},
   "outputs": [
    {
     "name": "stdout",
     "output_type": "stream",
     "text": [
      "Coefficients=[ 0.1754989  -3.97091725  0.19851256] intercept=2.10251883339059\n"
     ]
    }
   ],
   "source": [
    "print(f\"Coefficients={model.coef_} intercept={model.intercept_}\")"
   ]
  },
  {
   "cell_type": "markdown",
   "metadata": {},
   "source": [
    "Для кодирования признаков можно использовать объекты пакета SciKit Learn, они называются `*Encoder`. \n",
    "Для определения значений признаков используется `fit`. \n",
    "Для вывода информации о полученных значениях используется `categories_`.\n",
    "Чтобы закодировать набор данных используется `transform`.\n",
    "\n",
    "Пример использования энкодера:"
   ]
  },
  {
   "cell_type": "code",
   "execution_count": 32,
   "metadata": {},
   "outputs": [
    {
     "name": "stdout",
     "output_type": "stream",
     "text": [
      "[array(['Adulto ida', 'Flexible', 'Promo +'], dtype=object), array(['Turista', 'Turista Plus', 'Turista con enlace'], dtype=object)]\n"
     ]
    },
    {
     "data": {
      "text/plain": [
       "array([[0., 1., 0., 1., 0., 0.],\n",
       "       [0., 0., 1., 0., 1., 0.],\n",
       "       [0., 1., 0., 1., 0., 0.],\n",
       "       [0., 1., 0., 1., 0., 0.],\n",
       "       [0., 1., 0., 1., 0., 0.],\n",
       "       [0., 0., 1., 1., 0., 0.],\n",
       "       [0., 1., 0., 1., 0., 0.],\n",
       "       [0., 1., 0., 1., 0., 0.],\n",
       "       [0., 0., 1., 1., 0., 0.],\n",
       "       [0., 0., 1., 1., 0., 0.]])"
      ]
     },
     "execution_count": 32,
     "metadata": {},
     "output_type": "execute_result"
    }
   ],
   "source": [
    "ohe = sk.preprocessing.OneHotEncoder()\n",
    "ohe.fit(df[['fare', 'vehicle_class']])\n",
    "print(ohe.categories_)\n",
    "ohe.transform(df[['fare', 'vehicle_class']]).toarray()[:10]"
   ]
  },
  {
   "cell_type": "markdown",
   "metadata": {},
   "source": [
    "Чтобы упростить работу с разными типами признаков, можно использовать механизм трансформеров:"
   ]
  },
  {
   "cell_type": "code",
   "execution_count": 34,
   "metadata": {},
   "outputs": [
    {
     "data": {
      "text/plain": [
       "array([[  0.        ,   1.        ,   0.        ,   0.        ,\n",
       "          0.        ,   1.        ,   0.        ,   0.        ,\n",
       "          0.        ,   0.        ,   0.        ,   0.        ,\n",
       "          0.        ,   0.        ,   0.        ,   0.        ,\n",
       "          0.        ,   0.        ,   1.        ,   0.        ,\n",
       "          0.        , 274.36475269,   1.35      ,  14.        ],\n",
       "       [  0.        ,   0.        ,   1.        ,   0.        ,\n",
       "          0.        ,   0.        ,   1.        ,   0.        ,\n",
       "          0.        ,   0.        ,   0.        ,   0.        ,\n",
       "          0.        ,   0.        ,   0.        ,   0.        ,\n",
       "          0.        ,   0.        ,   0.        ,   0.        ,\n",
       "          1.        , 506.74115139,   6.25      ,   7.        ]])"
      ]
     },
     "execution_count": 34,
     "metadata": {},
     "output_type": "execute_result"
    }
   ],
   "source": [
    "transformer = sk.compose.make_column_transformer(\n",
    "    (sk.preprocessing.OneHotEncoder(), ['fare']), \n",
    "    (sk.preprocessing.OneHotEncoder(), ['vehicle_type']),\n",
    "    (sk.preprocessing.OneHotEncoder(), ['vehicle_class']),\n",
    "    remainder='passthrough'\n",
    ")\n",
    "\n",
    "X = transformer.fit_transform(df_train[numeric + categorial])\n",
    "\n",
    "X.toarray()[:2]"
   ]
  },
  {
   "cell_type": "markdown",
   "metadata": {},
   "source": [
    "Таким образом были получены обработанные входные данные, котрые можно использовать для обучения модели:"
   ]
  },
  {
   "cell_type": "code",
   "execution_count": 36,
   "metadata": {},
   "outputs": [
    {
     "name": "stdout",
     "output_type": "stream",
     "text": [
      "MSE=75.29907032264758, MAE=6.044698829619576, MAE(%)=0.1402886336251842\n"
     ]
    }
   ],
   "source": [
    "model = sk.linear_model.LinearRegression()\n",
    "model.fit(X,Y)\n",
    "X_t = transformer.transform(df_test[numeric + categorial])\n",
    "Y_t_pred = model.predict(X_t)\n",
    "\n",
    "print(f\"MSE={sk.metrics.mean_squared_error(Y_t, Y_t_pred)}, \\\n",
    "MAE={sk.metrics.mean_absolute_error(Y_t,Y_t_pred)}, \\\n",
    "MAE(%)={sk.metrics.mean_absolute_percentage_error(Y_t,Y_t_pred)}\")"
   ]
  },
  {
   "cell_type": "markdown",
   "metadata": {},
   "source": [
    "Теперь, когда для обучения использовались все возможные признаки, точность предсказания кратно увеличилась. Однако остаётся ещё один способ увеличить точность прогнозирования - нормализация данных обучающей выборки.\n",
    "\n",
    "## Нормализация значений.\n",
    "\n",
    "Нормализация значений - масштабирование значений всех признаков к единому интервалу, поскольку OneHot Encoding использует интервал от 0 до 1, то имеет смысл подогнать все значения к этому интервалу.\n",
    "\n",
    "Так же часто используются интервалы [-1; 1] или нормальное распределение с центром в 0.\n",
    "\n",
    "В Sklearn для этого существуют два вида нормализации (используются внутри трансформера):\n",
    "- `MinMaxScaler` - преобразует значения к диапазону 0-1 линейным способом\n",
    "- `MaxAbsScaler` - масштабирует максимальное абсолютное значение до размера единицы\n",
    "- `StandartScaler` - вычитает среднее и делит на дисперсию (нормально распределение)\n",
    "\n",
    "\n",
    "Применим их на практике:"
   ]
  },
  {
   "cell_type": "code",
   "execution_count": 37,
   "metadata": {},
   "outputs": [
    {
     "data": {
      "text/plain": [
       "array([[-0.27677235, -0.72311958,  0.14036888,  0.        ,  1.        ,\n",
       "         0.        ,  0.        ,  0.        ,  1.        ,  0.        ,\n",
       "         0.        ,  0.        ,  0.        ,  0.        ,  0.        ,\n",
       "         0.        ,  0.        ,  0.        ,  0.        ,  0.        ,\n",
       "         0.        ,  1.        ,  0.        ,  0.        ],\n",
       "       [ 2.06336377,  2.32730612, -1.4102657 ,  0.        ,  0.        ,\n",
       "         1.        ,  0.        ,  0.        ,  0.        ,  1.        ,\n",
       "         0.        ,  0.        ,  0.        ,  0.        ,  0.        ,\n",
       "         0.        ,  0.        ,  0.        ,  0.        ,  0.        ,\n",
       "         0.        ,  0.        ,  0.        ,  1.        ]])"
      ]
     },
     "execution_count": 37,
     "metadata": {},
     "output_type": "execute_result"
    }
   ],
   "source": [
    "transformer = sk.compose.make_column_transformer(\n",
    "    (sk.preprocessing.StandardScaler(), ['geodistance']),\n",
    "    (sk.preprocessing.StandardScaler(), ['duration']),\n",
    "    (sk.preprocessing.StandardScaler(), ['departure_hour']),\n",
    "    (sk.preprocessing.OneHotEncoder(), ['fare']),\n",
    "    (sk.preprocessing.OneHotEncoder(), ['vehicle_type']),\n",
    "    (sk.preprocessing.OneHotEncoder(), ['vehicle_class'])\n",
    ")\n",
    "    \n",
    "X = transformer.fit_transform(df_train[numeric + categorial])\n",
    "X.toarray()[:2]"
   ]
  },
  {
   "cell_type": "markdown",
   "metadata": {},
   "source": []
  },
  {
   "cell_type": "code",
   "execution_count": null,
   "metadata": {},
   "outputs": [],
   "source": []
  },
  {
   "cell_type": "markdown",
   "metadata": {},
   "source": [
    "# "
   ]
  }
 ],
 "metadata": {
  "kernelspec": {
   "display_name": "Python 3 (ipykernel)",
   "language": "python",
   "name": "python3"
  },
  "language_info": {
   "codemirror_mode": {
    "name": "ipython",
    "version": 3
   },
   "file_extension": ".py",
   "mimetype": "text/x-python",
   "name": "python",
   "nbconvert_exporter": "python",
   "pygments_lexer": "ipython3",
   "version": "3.10.9"
  }
 },
 "nbformat": 4,
 "nbformat_minor": 4
}
